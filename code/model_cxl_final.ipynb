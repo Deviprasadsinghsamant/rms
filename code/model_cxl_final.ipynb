{
 "cells": [
  {
   "cell_type": "code",
   "execution_count": 44,
   "id": "moral-optics",
   "metadata": {},
   "outputs": [],
   "source": [
    "import pandas as pd\n",
    "import numpy as np\n",
    "\n",
    "from sklearn.model_selection import KFold, train_test_split, GridSearchCV\n",
    "from sklearn.linear_model import LogisticRegression, Lasso, LassoCV, Ridge, RidgeCV\n",
    "from sklearn.preprocessing import StandardScaler\n",
    "from sklearn.metrics import (mean_squared_error, mean_absolute_error, f1_score, recall_score,\n",
    "                             precision_score, confusion_matrix, plot_confusion_matrix)\n",
    "\n",
    "\n",
    "import matplotlib.pyplot as plt\n",
    "import seaborn as sns\n",
    "\n",
    "from xgboost import XGBClassifier\n",
    "\n",
    "from utils import split_reservations\n",
    "from features import X1_cxl_cols, X2_cxl_cols"
   ]
  },
  {
   "cell_type": "code",
   "execution_count": 3,
   "id": "polish-colorado",
   "metadata": {},
   "outputs": [],
   "source": [
    "pd.options.display.max_rows = 60\n",
    "pd.options.display.max_columns = 70"
   ]
  },
  {
   "cell_type": "code",
   "execution_count": 4,
   "id": "novel-duncan",
   "metadata": {},
   "outputs": [],
   "source": [
    "h1_res = pd.read_pickle(\"pickle/h1_res.pick\")\n",
    "h2_res = pd.read_pickle(\"pickle/h2_res.pick\")\n",
    "h1_dbd = pd.read_pickle(\"pickle/h1_dbd.pick\")\n",
    "h2_dbd = pd.read_pickle(\"pickle/h2_dbd.pick\")"
   ]
  },
  {
   "cell_type": "code",
   "execution_count": 5,
   "id": "cross-bridges",
   "metadata": {},
   "outputs": [
    {
     "name": "stdout",
     "output_type": "stream",
     "text": [
      "Training sample size: 38295 \n",
      " Testing Sample Size: 1765\n"
     ]
    }
   ],
   "source": [
    "X1_train, X1_test, y1_train, y1_test = split_reservations(h1_res, as_of_date=\"2017-08-01\", features=X1_cxl_cols)"
   ]
  },
  {
   "cell_type": "code",
   "execution_count": 6,
   "id": "concerned-worst",
   "metadata": {},
   "outputs": [
    {
     "data": {
      "text/plain": [
       "12815    1\n",
       "12816    1\n",
       "12859    1\n",
       "12874    1\n",
       "12911    1\n",
       "        ..\n",
       "40055    0\n",
       "40056    0\n",
       "40057    0\n",
       "40058    0\n",
       "40059    0\n",
       "Name: IsCanceled, Length: 1765, dtype: int64"
      ]
     },
     "execution_count": 6,
     "metadata": {},
     "output_type": "execute_result"
    }
   ],
   "source": [
    "y1_test"
   ]
  },
  {
   "cell_type": "code",
   "execution_count": 7,
   "id": "running-protocol",
   "metadata": {},
   "outputs": [
    {
     "name": "stdout",
     "output_type": "stream",
     "text": [
      "Training sample size: 76320 \n",
      " Testing Sample Size: 3010\n"
     ]
    }
   ],
   "source": [
    "X2_train, X2_test, y2_train, y2_test = split_reservations(h2_res, as_of_date=\"2017-08-01\", features=X2_cxl_cols)"
   ]
  },
  {
   "cell_type": "code",
   "execution_count": 8,
   "id": "approximate-lemon",
   "metadata": {},
   "outputs": [
    {
     "data": {
      "text/plain": [
       "0        0\n",
       "1        0\n",
       "2        0\n",
       "3        0\n",
       "4        0\n",
       "        ..\n",
       "40014    0\n",
       "40020    0\n",
       "40022    0\n",
       "40032    0\n",
       "40035    0\n",
       "Name: IsCanceled, Length: 38295, dtype: int64"
      ]
     },
     "execution_count": 8,
     "metadata": {},
     "output_type": "execute_result"
    }
   ],
   "source": [
    "y1_train"
   ]
  },
  {
   "cell_type": "markdown",
   "id": "charged-sharing",
   "metadata": {},
   "source": [
    "## H1 Final XGBoost Model"
   ]
  },
  {
   "cell_type": "code",
   "execution_count": 10,
   "id": "public-reform",
   "metadata": {},
   "outputs": [],
   "source": [
    "xgb_1 = XGBClassifier(objective='binary:logistic',\n",
    "                      use_label_encoder=False,\n",
    "                      eval_metric='logloss',\n",
    "                      random_state=41,\n",
    "                      n_jobs=-1,\n",
    "                      learning_rate=0.11,\n",
    "                      max_depth=5,\n",
    "                      n_estimators=475\n",
    "                          \n",
    ")\n",
    "\n",
    "xgb_model_1 = xgb_1.fit(X1_train, y1_train)"
   ]
  },
  {
   "cell_type": "code",
   "execution_count": 11,
   "id": "czech-roads",
   "metadata": {},
   "outputs": [
    {
     "data": {
      "text/plain": [
       "12815    1\n",
       "12816    1\n",
       "12859    1\n",
       "12874    1\n",
       "12911    1\n",
       "        ..\n",
       "40055    0\n",
       "40056    0\n",
       "40057    0\n",
       "40058    0\n",
       "40059    0\n",
       "Name: IsCanceled, Length: 1765, dtype: int64"
      ]
     },
     "execution_count": 11,
     "metadata": {},
     "output_type": "execute_result"
    }
   ],
   "source": [
    "y1_test"
   ]
  },
  {
   "cell_type": "code",
   "execution_count": 16,
   "id": "restricted-washington",
   "metadata": {},
   "outputs": [
    {
     "name": "stdout",
     "output_type": "stream",
     "text": [
      "\n",
      "F-1 Score: 0.49951783992285437\n",
      "Precision Score: 0.9087719298245615\n",
      "Recall Score: 0.34441489361702127\n"
     ]
    }
   ],
   "source": [
    "PROB_THRESHOLD = 0.75\n",
    "\n",
    "h1_pred_probas = xgb_model_1.predict_proba(X1_test)\n",
    "\n",
    "df_h1_preds = pd.DataFrame(h1_pred_probas, columns=[\"no_cxl\", \"cxl_proba\"])\n",
    "df_h1_preds[\"prediction\"] = df_h1_preds['cxl_proba'] >= PROB_THRESHOLD\n",
    "\n",
    "df_h1_preds[\"actual\"] = y1_test.to_numpy()\n",
    "\n",
    "h1_f1_score = f1_score(y1_test, df_h1_preds[\"prediction\"])\n",
    "h1_pr_score = precision_score(y1_test, df_h1_preds[\"prediction\"])\n",
    "h1_re_score = recall_score(y1_test, df_h1_preds[\"prediction\"])\n",
    "\n",
    "print(f\"\"\"\n",
    "F-1 Score: {h1_f1_score}\n",
    "Precision Score: {h1_pr_score}\n",
    "Recall Score: {h1_re_score}\"\"\")"
   ]
  },
  {
   "cell_type": "code",
   "execution_count": 18,
   "id": "shaped-exhibit",
   "metadata": {},
   "outputs": [
    {
     "data": {
      "text/plain": [
       "0.6844608879492601"
      ]
     },
     "execution_count": 18,
     "metadata": {},
     "output_type": "execute_result"
    }
   ],
   "source": [
    "h1_f05_score = (1.25 * h1_pr_score * h1_re_score) / (0.25 * h1_pr_score + h1_re_score)\n",
    "h1_f05_score"
   ]
  },
  {
   "cell_type": "code",
   "execution_count": 72,
   "id": "neutral-rogers",
   "metadata": {},
   "outputs": [],
   "source": [
    "# old, stable, not saving images properly\n",
    "def make_confusion_matrix(y_test, y_predict, label_color='black', save_to=False, threshold=0.5, title=None, facecolor='#5c5c5c'):\n",
    "    # Predict class 1 if probability of being in class 1 is greater than threshold\n",
    "    # (model.predict(X_test) does this automatically with a threshold of 0.5)\n",
    "    \n",
    "    confusion = confusion_matrix(y_test, y_predict)\n",
    "    \n",
    "    fig, ax = plt.subplots(dpi=165, figsize=(7, 5))\n",
    "    sns.set(font_scale=1.3)\n",
    "    group_counts = [\"{0:0.0f}\".format(value) for value in confusion.flatten()]\n",
    "    group_percentages = [\"{0:.2%}\".format(value) for value in confusion.flatten()/np.sum(confusion)]\n",
    "    labels = [f\"{v2}\\n\\n{v3}\" for v2, v3 in zip(group_counts,group_percentages)]\n",
    "    labels = np.asarray(labels).reshape(2,2)\n",
    "    \n",
    "    label_font = {'family': 'Arial',\n",
    "        'color': label_color,\n",
    "        'weight': 'bold',\n",
    "        'size': 17,\n",
    "        }\n",
    "    \n",
    "    title_font = {'family': 'Arial',\n",
    "        'color': label_color,\n",
    "        'weight': 'bold',\n",
    "        'size': 27,\n",
    "        }\n",
    "    \n",
    "    sns.heatmap(confusion, annot=labels, fmt=\"\", cmap=\"Blues\", cbar=False,\n",
    "               xticklabels=['will_come', 'will_cancel'],\n",
    "               yticklabels=['will_come', 'will_cancel'])\n",
    "    \n",
    "    if title == None:\n",
    "        title = \"Confusion Matrix\"\n",
    "    plt.title(title, fontdict=label_font)\n",
    "    plt.xlabel('Prediction', fontdict=label_font)\n",
    "    plt.ylabel('Actual', fontdict=label_font)\n",
    "    if save_to:\n",
    "        plt.tight_layout()\n",
    "        plt.savefig(save_to, dpi=170, facecolor=facecolor, bbox_inches=\"tight\", pad_inches=1.6)\n"
   ]
  },
  {
   "cell_type": "code",
   "execution_count": 73,
   "id": "private-think",
   "metadata": {},
   "outputs": [],
   "source": [
    "def get_preds(pred_probas, threshold):\n",
    "    df_preds = pd.DataFrame(pred_probas, columns=[\"no_cxl_proba\", \"cxl_proba\"])\n",
    "    df_preds[\"prediction\"] = df_preds['cxl_proba'] >= threshold\n",
    "    df_preds[\"actual\"] = y1_test.to_numpy()\n",
    "    return df_preds\n",
    "\n",
    "def get_fbeta_score(pred_probas, beta, threshold):\n",
    "    df_preds = get_preds(pred_probas, threshold)\n",
    "    precision = precision_score(y1_test, df_preds[\"prediction\"])\n",
    "    recall = recall_score(y1_test, df_preds[\"prediction\"])\n",
    "    fbeta_score = ((1 + beta**2) * precision * recall) / (beta**2 * precision + recall)\n",
    "    return round(fbeta_score, 3)\n",
    "\n",
    "def optimize_prob_threshold(model, beta=0.5, thresh_start=0.4, thresh_stop=0.95):\n",
    "    \n",
    "    pred_probas = xgb_model_1.predict_proba(X1_test)\n",
    "    \n",
    "    thresholds = np.arange(thresh_start, thresh_stop, 0.01)\n",
    "    fbetas = {} # will hold {prob_thresh: resulting_fbeta_score}\n",
    "    \n",
    "    for t_val in thresholds:\n",
    "        fbetas[t_val] = get_fbeta_score(pred_probas, beta, t_val)\n",
    "    \n",
    "    best_thresh = 0\n",
    "    best_fbeta = 0\n",
    "    \n",
    "    for threshold, fb_score in fbetas.items():\n",
    "        if fb_score > best_fbeta:\n",
    "            best_thresh = threshold\n",
    "            best_fbeta = fb_score\n",
    "        else:\n",
    "            continue\n",
    "    \n",
    "    df_preds = get_preds(pred_probas, best_thresh)\n",
    "    make_confusion_matrix(df_preds.actual, df_preds.prediction, threshold = best_thresh)\n",
    "\n",
    "    print(f\"\"\"Optimal probability threshold (to maximize F-{beta}): {best_thresh}\n",
    "    F-{beta} Score: {h1_f1_score}\"\"\")\n",
    "    \n",
    "    return best_thresh, best_fbeta\n",
    "\n",
    "\n"
   ]
  },
  {
   "cell_type": "code",
   "execution_count": 74,
   "id": "gothic-athletics",
   "metadata": {},
   "outputs": [
    {
     "name": "stdout",
     "output_type": "stream",
     "text": [
      "Optimal probability threshold (to maximize F-0.5): 0.6000000000000002\n",
      "    F-0.5 Score: 0.49951783992285437\n"
     ]
    },
    {
     "data": {
      "image/png": "[encoded data removed]",
      "text/plain": [
       "<Figure size 1155x825 with 1 Axes>"
      ]
     },
     "metadata": {},
     "output_type": "display_data"
    }
   ],
   "source": [
    "h1_best_thresh, h1_best_fbeta = optimize_prob_threshold(xgb_model_1)"
   ]
  },
  {
   "cell_type": "code",
   "execution_count": 15,
   "id": "comparable-transcript",
   "metadata": {},
   "outputs": [
    {
     "data": {
      "text/html": [
       "<div>\n",
       "<style scoped>\n",
       "    .dataframe tbody tr th:only-of-type {\n",
       "        vertical-align: middle;\n",
       "    }\n",
       "\n",
       "    .dataframe tbody tr th {\n",
       "        vertical-align: top;\n",
       "    }\n",
       "\n",
       "    .dataframe thead th {\n",
       "        text-align: right;\n",
       "    }\n",
       "</style>\n",
       "<table border=\"1\" class=\"dataframe\">\n",
       "  <thead>\n",
       "    <tr style=\"text-align: right;\">\n",
       "      <th></th>\n",
       "      <th>no_cxl</th>\n",
       "      <th>cxl_proba</th>\n",
       "      <th>prediction</th>\n",
       "      <th>actual</th>\n",
       "    </tr>\n",
       "  </thead>\n",
       "  <tbody>\n",
       "    <tr>\n",
       "      <th>0</th>\n",
       "      <td>0.180378</td>\n",
       "      <td>0.819622</td>\n",
       "      <td>True</td>\n",
       "      <td>1</td>\n",
       "    </tr>\n",
       "    <tr>\n",
       "      <th>1</th>\n",
       "      <td>0.178129</td>\n",
       "      <td>0.821871</td>\n",
       "      <td>True</td>\n",
       "      <td>1</td>\n",
       "    </tr>\n",
       "    <tr>\n",
       "      <th>2</th>\n",
       "      <td>0.786236</td>\n",
       "      <td>0.213764</td>\n",
       "      <td>False</td>\n",
       "      <td>1</td>\n",
       "    </tr>\n",
       "    <tr>\n",
       "      <th>3</th>\n",
       "      <td>0.536743</td>\n",
       "      <td>0.463257</td>\n",
       "      <td>False</td>\n",
       "      <td>1</td>\n",
       "    </tr>\n",
       "    <tr>\n",
       "      <th>4</th>\n",
       "      <td>0.387287</td>\n",
       "      <td>0.612713</td>\n",
       "      <td>False</td>\n",
       "      <td>1</td>\n",
       "    </tr>\n",
       "    <tr>\n",
       "      <th>...</th>\n",
       "      <td>...</td>\n",
       "      <td>...</td>\n",
       "      <td>...</td>\n",
       "      <td>...</td>\n",
       "    </tr>\n",
       "    <tr>\n",
       "      <th>1760</th>\n",
       "      <td>0.925619</td>\n",
       "      <td>0.074381</td>\n",
       "      <td>False</td>\n",
       "      <td>0</td>\n",
       "    </tr>\n",
       "    <tr>\n",
       "      <th>1761</th>\n",
       "      <td>0.864955</td>\n",
       "      <td>0.135045</td>\n",
       "      <td>False</td>\n",
       "      <td>0</td>\n",
       "    </tr>\n",
       "    <tr>\n",
       "      <th>1762</th>\n",
       "      <td>0.940487</td>\n",
       "      <td>0.059513</td>\n",
       "      <td>False</td>\n",
       "      <td>0</td>\n",
       "    </tr>\n",
       "    <tr>\n",
       "      <th>1763</th>\n",
       "      <td>0.911407</td>\n",
       "      <td>0.088593</td>\n",
       "      <td>False</td>\n",
       "      <td>0</td>\n",
       "    </tr>\n",
       "    <tr>\n",
       "      <th>1764</th>\n",
       "      <td>0.892654</td>\n",
       "      <td>0.107346</td>\n",
       "      <td>False</td>\n",
       "      <td>0</td>\n",
       "    </tr>\n",
       "  </tbody>\n",
       "</table>\n",
       "<p>1765 rows × 4 columns</p>\n",
       "</div>"
      ],
      "text/plain": [
       "        no_cxl  cxl_proba  prediction  actual\n",
       "0     0.180378   0.819622        True       1\n",
       "1     0.178129   0.821871        True       1\n",
       "2     0.786236   0.213764       False       1\n",
       "3     0.536743   0.463257       False       1\n",
       "4     0.387287   0.612713       False       1\n",
       "...        ...        ...         ...     ...\n",
       "1760  0.925619   0.074381       False       0\n",
       "1761  0.864955   0.135045       False       0\n",
       "1762  0.940487   0.059513       False       0\n",
       "1763  0.911407   0.088593       False       0\n",
       "1764  0.892654   0.107346       False       0\n",
       "\n",
       "[1765 rows x 4 columns]"
      ]
     },
     "execution_count": 15,
     "metadata": {},
     "output_type": "execute_result"
    }
   ],
   "source": [
    "df_h1_preds"
   ]
  },
  {
   "cell_type": "code",
   "execution_count": null,
   "id": "circular-spending",
   "metadata": {},
   "outputs": [],
   "source": [
    "import matplotlib.pyplot as plt\n",
    "plt.hist(h1_pred_probas)"
   ]
  },
  {
   "cell_type": "markdown",
   "id": "respected-florence",
   "metadata": {},
   "source": [
    "### First grid search results\n",
    "\n",
    "**H1 grid search setup**\n",
    "```\n",
    "estimator = XGBClassifier(objective='binary:logistic',\n",
    "                          use_label_encoder=False,\n",
    "                          eval_metric='logloss',\n",
    "                          random_state=42,\n",
    ")\n",
    "\n",
    "params = {\n",
    "    'learning_rate': [0.0001,0.01],\n",
    "    'max_depth': range(2,8,2),\n",
    "    'n_estimators': [200, 300, 400]\n",
    "}\n",
    "\n",
    "grid_search_1 = GridSearchCV(\n",
    "    estimator = estimator,\n",
    "    param_grid = params,\n",
    "    n_jobs=-1,\n",
    "    verbose=100\n",
    ")\n",
    "\n",
    "X1_train, X1_test, y1_train, y1_test = train_test_split(X1, y1, test_size=0.2,random_state=42)\n",
    "\n",
    "```\n",
    "\n",
    "**And the results**:\n",
    "```\n",
    "Fitting 5 folds for each of 18 candidates, totalling 90 fits\n",
    "The best parameters are: \n",
    " {'learning_rate': 0.01, 'max_depth': 6, 'n_estimators': 400}\n",
    "CPU times: user 53.5 s, sys: 414 ms, total: 53.9 s\n",
    "Wall time: 1h 27min 17s\n",
    "```\n",
    "\n",
    "R^2 score: 0.830629056415377\n",
    "\n",
    "**H2 grid search setup was the same as H1 grid search setup (round 1)**\n",
    "\n",
    "**And the results**:\n",
    "\n",
    "```\n",
    "Fitting 5 folds for each of 18 candidates, totalling 90 fits\n",
    "The best parameters are: \n",
    " {'learning_rate': 0.01, 'max_depth': 6, 'n_estimators': 400}\n",
    "CPU times: user 1min 37s, sys: 262 ms, total: 1min 38s\n",
    "Wall time: 1h 32min 4s\n",
    "```\n",
    "\n",
    "R^2 score: 0.8276818353712341\n",
    "\n",
    "### Second Round\n",
    "\n",
    "H1 setup & results\n",
    "```\n",
    "estimator = XGBClassifier(objective='binary:logistic',\n",
    "                          use_label_encoder=False,\n",
    "                          eval_metric='logloss',\n",
    "                          random_state=42,\n",
    ")\n",
    "\n",
    "params = {\n",
    "    'learning_rate': [0.005, 0.01, 0.05, 0.1],\n",
    "    'max_depth': range(5,6,7),\n",
    "    'n_estimators': [350, 400, 450]\n",
    "}\n",
    "\n",
    "grid_search_1 = GridSearchCV(\n",
    "    estimator = estimator,\n",
    "    param_grid = params,\n",
    "    n_jobs=-1,\n",
    "    verbose=100\n",
    ")\n",
    "\n",
    "X1_train, X1_test, y1_train, y1_test = train_test_split(X1, y1, test_size=0.2,random_state=42)\n",
    "\n",
    "# ---------RESULTS----------\n",
    "Fitting 5 folds for each of 12 candidates, totalling 60 fits\n",
    "The best parameters are: \n",
    " {'learning_rate': 0.1, 'max_depth': 5, 'n_estimators': 400}\n",
    "CPU times: user 40.9 s, sys: 325 ms, total: 41.2 s\n",
    "Wall time: 1h 37min 13s\n",
    "```\n",
    "\n",
    "R^2 score: 0.8514727908137794\n",
    "\n",
    "H2 results (setup the same as H1 round 2):\n",
    "\n",
    "```\n",
    "\n",
    "# SETUP SAME AS H1 ROUND 2\n",
    "\n",
    "# ---------RESULTS----------\n",
    "Fitting 5 folds for each of 12 candidates, totalling 60 fits\n",
    "The best parameters are: \n",
    " {'learning_rate': 0.1, 'max_depth': 5, 'n_estimators': 450}\n",
    "CPU times: user 1min 29s, sys: 236 ms, total: 1min 29s\n",
    "Wall time: 1h 41min 45s\n",
    "```\n",
    "R^2 score: 0.84904827933946\n",
    "\n",
    "### Round 3\n",
    "\n",
    "H1 setup different than H2 setup this time.\n",
    "\n",
    "H1 setup:\n",
    "```\n",
    "estimator = XGBClassifier(objective='binary:logistic',\n",
    "                          use_label_encoder=False,\n",
    "                          eval_metric='logloss',\n",
    "                          random_state=42,\n",
    "                          max_depth=5\n",
    ")\n",
    "\n",
    "params = {\n",
    "    'learning_rate': [0.08, 0.09, 0.1, 0.11, 0.12],\n",
    "    'n_estimators': [380, 390, 400, 410, 420, 475]\n",
    "}\n",
    "\n",
    "grid_search_1 = GridSearchCV(\n",
    "    estimator = estimator,\n",
    "    param_grid = params,\n",
    "    n_jobs=-1,\n",
    "    verbose=100\n",
    ")\n",
    "\n",
    "X1_train, X1_test, y1_train, y1_test = train_test_split(X1, y1, test_size=0.2,random_state=42)\n",
    "\n",
    "# ---------RESULTS----------\n",
    "Fitting 5 folds for each of 30 candidates, totalling 150 fits\n",
    "The best parameters are: \n",
    " {'learning_rate': 0.11, 'n_estimators': 475}\n",
    "CPU times: user 49.1 s, sys: 437 ms, total: 49.5 s\n",
    "Wall time: 4h 8min 47s\n",
    "```\n",
    "R^2 score: 0.854218671992012\n",
    "\n",
    "And H2 setup:\n",
    "\n",
    "```\n",
    "estimator = XGBClassifier(objective='binary:logistic',\n",
    "                          use_label_encoder=False,\n",
    "                          eval_metric='logloss',\n",
    "                          random_state=42,\n",
    ")\n",
    "\n",
    "# further tuning params\n",
    "params = {\n",
    "    'learning_rate': [0.08, 0.09, 0.1, 0.11, 0.12],\n",
    "    'n_estimators': [440, 450, 475, 500, 550]\n",
    "}\n",
    "\n",
    "\n",
    "grid_search_2 = GridSearchCV(\n",
    "    estimator = estimator,\n",
    "    param_grid = params,\n",
    "    n_jobs=-1,\n",
    "    verbose=100\n",
    ")\n",
    "\n",
    "X2_train, X2_test, y2_train, y2_test = train_test_split(X2, y2, test_size=0.2,random_state=42)\n",
    "\n",
    "# ---------RESULTS----------\n",
    "Fitting 5 folds for each of 25 candidates, totalling 125 fits\n",
    "The best parameters are: \n",
    " {'learning_rate': 0.12, 'n_estimators': 550}\n",
    "CPU times: user 2min 8s, sys: 187 ms, total: 2min 8s\n",
    "Wall time: 5h 5min 44s\n",
    "```\n",
    "\n",
    "R^2 score: 0.8564225387621328"
   ]
  },
  {
   "cell_type": "code",
   "execution_count": null,
   "id": "obvious-amazon",
   "metadata": {},
   "outputs": [],
   "source": []
  }
 ],
 "metadata": {
  "kernelspec": {
   "display_name": "Python 3",
   "language": "python",
   "name": "python3"
  },
  "language_info": {
   "codemirror_mode": {
    "name": "ipython",
    "version": 3
   },
   "file_extension": ".py",
   "mimetype": "text/x-python",
   "name": "python",
   "nbconvert_exporter": "python",
   "pygments_lexer": "ipython3",
   "version": "3.8.6"
  }
 },
 "nbformat": 4,
 "nbformat_minor": 5
}
