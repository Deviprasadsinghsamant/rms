{
 "cells": [
  {
   "cell_type": "code",
   "execution_count": 1,
   "id": "conventional-election",
   "metadata": {},
   "outputs": [],
   "source": [
    "import pandas as pd\n",
    "import numpy as np\n",
    "\n",
    "from dbds import generate_hotel_dfs\n",
    "from agg import prep_demand_features\n",
    "from agg_utils import stly_cols_agg, ly_cols_agg, drop_cols_agg, stly_pace_cols, ty_pace_cols\n",
    "\n",
    "pd.options.display.max_rows = 150\n",
    "pd.options.display.max_columns = 250\n",
    "pd.options.display.max_colwidth = None"
   ]
  },
  {
   "cell_type": "code",
   "execution_count": 2,
   "id": "supreme-director",
   "metadata": {},
   "outputs": [
    {
     "name": "stdout",
     "output_type": "stream",
     "text": [
      "CPU times: user 22.1 s, sys: 4.24 s, total: 26.3 s\n",
      "Wall time: 26.3 s\n"
     ]
    }
   ],
   "source": [
    "%%time\n",
    "h1_sim = prep_demand_features(1)"
   ]
  },
  {
   "cell_type": "code",
   "execution_count": 3,
   "id": "transsexual-former",
   "metadata": {},
   "outputs": [
    {
     "name": "stdout",
     "output_type": "stream",
     "text": [
      "CPU times: user 22.7 s, sys: 116 ms, total: 22.8 s\n",
      "Wall time: 22.8 s\n"
     ]
    }
   ],
   "source": [
    "%%time\n",
    "h2_sim = prep_demand_features(2)"
   ]
  },
  {
   "cell_type": "code",
   "execution_count": 4,
   "id": "protecting-integral",
   "metadata": {},
   "outputs": [],
   "source": [
    "h1_sim.to_csv(\"../data/h1_stats.csv\")\n",
    "h2_sim.to_csv(\"../data/h2_stats.csv\")\n",
    "h1_sim.to_pickle(\"../data/h1_stats.pick\")\n",
    "h2_sim.to_pickle(\"../data/h2_stats.pick\")\n"
   ]
  },
  {
   "cell_type": "code",
   "execution_count": 5,
   "id": "vulnerable-responsibility",
   "metadata": {},
   "outputs": [
    {
     "data": {
      "text/plain": [
       "(12208, 109)"
      ]
     },
     "execution_count": 5,
     "metadata": {},
     "output_type": "execute_result"
    }
   ],
   "source": [
    "h1_sim.shape"
   ]
  },
  {
   "cell_type": "code",
   "execution_count": 8,
   "id": "middle-potential",
   "metadata": {},
   "outputs": [
    {
     "data": {
      "text/plain": [
       "(12208, 109)"
      ]
     },
     "execution_count": 8,
     "metadata": {},
     "output_type": "execute_result"
    }
   ],
   "source": [
    "h2_sim.shape"
   ]
  },
  {
   "cell_type": "code",
   "execution_count": 6,
   "id": "viral-corpus",
   "metadata": {},
   "outputs": [
    {
     "data": {
      "text/plain": [
       "['DOW',\n",
       " 'RoomsOTB',\n",
       " 'RevOTB',\n",
       " 'CxlForecast',\n",
       " 'TRN_RoomsOTB',\n",
       " 'TRN_RevOTB',\n",
       " 'TRN_CxlForecast',\n",
       " 'StayDate',\n",
       " 'WE',\n",
       " 'WD',\n",
       " 'STLY_StayDate',\n",
       " 'DaysUntilArrival',\n",
       " 'ADR_OTB',\n",
       " 'SellingPrice',\n",
       " 'AsOfDate',\n",
       " 'STLY_AsOfDate',\n",
       " 'RemSupply',\n",
       " 'Mon',\n",
       " 'Sat',\n",
       " 'Sun',\n",
       " 'Thu',\n",
       " 'Tue',\n",
       " 'Wed',\n",
       " 'NONTRN_RoomsOTB',\n",
       " 'NONTRN_RevOTB',\n",
       " 'NONTRN_ADR_OTB',\n",
       " 'NONTRN_CxlForecast',\n",
       " 'TRN_ADR_OTB',\n",
       " 'TM30_RoomsPickup',\n",
       " 'TM30_RevPickup',\n",
       " 'TM30_ADR_Pickup',\n",
       " 'TM30_TRN_RoomsPickup',\n",
       " 'TM30_TRN_RevPickup',\n",
       " 'TM30_TRN_ADR_Pickup',\n",
       " 'TM30_NONTRN_RoomsPickup',\n",
       " 'TM30_NONTRN_RevPickup',\n",
       " 'TM30_NONTRN_ADR_Pickup',\n",
       " 'TM15_RoomsPickup',\n",
       " 'TM15_RevPickup',\n",
       " 'TM15_ADR_Pickup',\n",
       " 'TM15_TRN_RoomsPickup',\n",
       " 'TM15_TRN_RevPickup',\n",
       " 'TM15_TRN_ADR_Pickup',\n",
       " 'TM15_NONTRN_RoomsPickup',\n",
       " 'TM15_NONTRN_RevPickup',\n",
       " 'TM15_NONTRN_ADR_Pickup',\n",
       " 'TM05_RoomsPickup',\n",
       " 'TM05_RevPickup',\n",
       " 'TM05_ADR_Pickup',\n",
       " 'TM05_TRN_RoomsPickup',\n",
       " 'TM05_TRN_RevPickup',\n",
       " 'TM05_TRN_ADR_Pickup',\n",
       " 'TM05_NONTRN_RoomsPickup',\n",
       " 'TM05_NONTRN_RevPickup',\n",
       " 'TM05_NONTRN_ADR_Pickup',\n",
       " 'RoomsGapToLYA',\n",
       " 'RevGapToLYA',\n",
       " 'ADR_GapToLYA',\n",
       " 'TRN_RoomsGapToLYA',\n",
       " 'TRN_RevGapToLYA',\n",
       " 'TRN_ADR_GapToLYA',\n",
       " 'NONTRN_RoomsGapToLYA',\n",
       " 'NONTRN_RevGapToLYA',\n",
       " 'NONTRN_ADR_GapToLYA',\n",
       " 'id_STLY',\n",
       " 'AsOfDate_STLY',\n",
       " 'StayDate_STLY',\n",
       " 'DaysUntilArrival_STLY',\n",
       " 'RoomsOTB_Pace',\n",
       " 'ADR_OTB_Pace',\n",
       " 'RevOTB_Pace',\n",
       " 'CxlForecast_Pace',\n",
       " 'RemSupply_Pace',\n",
       " 'SellingPrice_Pace',\n",
       " 'TRN_RoomsOTB_Pace',\n",
       " 'TRN_ADR_OTB_Pace',\n",
       " 'TRN_RevOTB_Pace',\n",
       " 'TRN_CxlForecast_Pace',\n",
       " 'NONTRN_RoomsOTB_Pace',\n",
       " 'NONTRN_ADR_OTB_Pace',\n",
       " 'NONTRN_RevOTB_Pace',\n",
       " 'NONTRN_CxlForecast_Pace',\n",
       " 'TM30_RoomsPickup_Pace',\n",
       " 'TM30_ADR_Pickup_Pace',\n",
       " 'TM30_RevPickup_Pace',\n",
       " 'TM30_TRN_RoomsPickup_Pace',\n",
       " 'TM30_TRN_ADR_Pickup_Pace',\n",
       " 'TM30_TRN_RevPickup_Pace',\n",
       " 'TM30_NONTRN_RoomsPickup_Pace',\n",
       " 'TM30_NONTRN_ADR_Pickup_Pace',\n",
       " 'TM30_NONTRN_RevPickup_Pace',\n",
       " 'TM15_RoomsPickup_Pace',\n",
       " 'TM15_ADR_Pickup_Pace',\n",
       " 'TM15_RevPickup_Pace',\n",
       " 'TM15_TRN_RoomsPickup_Pace',\n",
       " 'TM15_TRN_ADR_Pickup_Pace',\n",
       " 'TM15_TRN_RevPickup_Pace',\n",
       " 'TM15_NONTRN_RoomsPickup_Pace',\n",
       " 'TM15_NONTRN_ADR_Pickup_Pace',\n",
       " 'TM15_NONTRN_RevPickup_Pace',\n",
       " 'TM05_RoomsPickup_Pace',\n",
       " 'TM05_ADR_Pickup_Pace',\n",
       " 'TM05_RevPickup_Pace',\n",
       " 'TM05_TRN_RoomsPickup_Pace',\n",
       " 'TM05_TRN_ADR_Pickup_Pace',\n",
       " 'TM05_TRN_RevPickup_Pace',\n",
       " 'TM05_NONTRN_RoomsPickup_Pace',\n",
       " 'TM05_NONTRN_ADR_Pickup_Pace',\n",
       " 'TM05_NONTRN_RevPickup_Pace']"
      ]
     },
     "execution_count": 6,
     "metadata": {},
     "output_type": "execute_result"
    }
   ],
   "source": [
    "[col for col in h1_sim.columns]"
   ]
  },
  {
   "cell_type": "code",
   "execution_count": null,
   "id": "referenced-marijuana",
   "metadata": {},
   "outputs": [],
   "source": []
  }
 ],
 "metadata": {
  "kernelspec": {
   "display_name": "Python 3",
   "language": "python",
   "name": "python3"
  },
  "language_info": {
   "codemirror_mode": {
    "name": "ipython",
    "version": 3
   },
   "file_extension": ".py",
   "mimetype": "text/x-python",
   "name": "python",
   "nbconvert_exporter": "python",
   "pygments_lexer": "ipython3",
   "version": "3.7.9"
  }
 },
 "nbformat": 4,
 "nbformat_minor": 5
}
