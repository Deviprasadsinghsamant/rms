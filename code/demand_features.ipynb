{
 "cells": [
  {
   "cell_type": "code",
   "execution_count": 1,
   "id": "declared-memorabilia",
   "metadata": {},
   "outputs": [],
   "source": [
    "import pandas as pd\n",
    "import numpy as np\n",
    "import datetime\n",
    "from sim import generate_simulation\n",
    "from model_cancellations import get_otb_res, predict_cancellations\n",
    "\n",
    "pd.options.display.max_rows = 60\n",
    "pd.options.display.max_columns = 70"
   ]
  },
  {
   "cell_type": "code",
   "execution_count": 2,
   "id": "fresh-recruitment",
   "metadata": {},
   "outputs": [],
   "source": [
    "h1_capacity = 187\n",
    "h2_capacity = 226\n",
    "AOD = \"2017-08-01\"\n",
    "AOD_dt = pd.to_datetime(AOD)\n",
    "\n",
    "h1_res = pd.read_pickle(\"pickle/h1_res.pick\")\n",
    "h2_res = pd.read_pickle(\"pickle/h2_res.pick\")\n",
    "h1_dbd = pd.read_pickle(\"pickle/h1_dbd.pick\")\n",
    "h2_dbd = pd.read_pickle(\"pickle/h2_dbd.pick\")\n",
    "h1_sim = pd.read_pickle(\"pickle/h1_sim.pick\")\n",
    "h2_sim = pd.read_pickle(\"pickle/h2_sim.pick\")"
   ]
  },
  {
   "cell_type": "code",
   "execution_count": 10,
   "id": "golden-hands",
   "metadata": {},
   "outputs": [
    {
     "data": {
      "text/plain": [
       "['DOW',\n",
       " 'RoomsOTB',\n",
       " 'RevOTB',\n",
       " 'CxlForecast',\n",
       " 'Trn_RoomsOTB',\n",
       " 'Trn_RevOTB',\n",
       " 'Trn_CxlForecast',\n",
       " 'TrnP_RoomsOTB',\n",
       " 'TrnP_RevOTB',\n",
       " 'TrnP_CxlForecast',\n",
       " 'Grp_RoomsOTB',\n",
       " 'Grp_RevOTB',\n",
       " 'Grp_CxlForecast',\n",
       " 'Cnt_RoomsOTB',\n",
       " 'Cnt_RevOTB',\n",
       " 'Cnt_CxlForecast',\n",
       " 'Occ',\n",
       " 'RevPAR',\n",
       " 'RemSupply',\n",
       " 'ADR_OTB',\n",
       " 'Trn_ADR_OTB',\n",
       " 'TrnP_ADR_OTB',\n",
       " 'Grp_ADR_OTB',\n",
       " 'Cnt_ADR_OTB',\n",
       " 'WE',\n",
       " 'WD',\n",
       " 'STLY_Date',\n",
       " 'LYA_RoomsSold',\n",
       " 'LYA_ADR',\n",
       " 'LYA_RoomRev',\n",
       " 'LYA_RevPAR',\n",
       " 'LYA_NumCancels',\n",
       " 'Date',\n",
       " 'WeekEndDate',\n",
       " 'SellingPrice',\n",
       " 'STLY_OTB',\n",
       " 'STLY_Rev',\n",
       " 'STLY_ADR',\n",
       " 'STLY_SellingPrice',\n",
       " 'STLY_CxlForecast',\n",
       " 'STLY_TRN_OTB',\n",
       " 'STLY_TRN_REV',\n",
       " 'STLY_TRN_CXL',\n",
       " 'STLY_TRNP_OTB',\n",
       " 'STLY_TRNP_REV',\n",
       " 'STLY_TRNP_CXL',\n",
       " 'STLY_GRP_OTB',\n",
       " 'STLY_GRP_REV',\n",
       " 'STLY_GRP_CXL',\n",
       " 'STLY_CNT_OTB',\n",
       " 'STLY_CNT_REV',\n",
       " 'STLY_CNT_CXL']"
      ]
     },
     "execution_count": 10,
     "metadata": {},
     "output_type": "execute_result"
    }
   ],
   "source": [
    "[col for col in h1_sim.columns]"
   ]
  },
  {
   "cell_type": "markdown",
   "id": "synthetic-address",
   "metadata": {},
   "source": [
    "## Add Pace columns\n",
    "\n"
   ]
  },
  {
   "cell_type": "code",
   "execution_count": 6,
   "id": "korean-heater",
   "metadata": {},
   "outputs": [],
   "source": [
    "STLY_COLS = [col for col in h1_sim.columns if col[:5] == 'STLY_']\n",
    "LYA_COLS = [col for col in h1_sim.columns if col[:4] == 'LYA_']\n",
    "\n",
    "lam = lambda x: x not in STLY_COLS+LYA_COLS and x[-3:] == 'OTB'\n",
    "OTB_COLS = [col for col in h1_sim.columns if lam(col)]"
   ]
  },
  {
   "cell_type": "code",
   "execution_count": 7,
   "id": "printable-principle",
   "metadata": {},
   "outputs": [
    {
     "data": {
      "text/plain": [
       "['RoomsOTB',\n",
       " 'RevOTB',\n",
       " 'Trn_RoomsOTB',\n",
       " 'Trn_RevOTB',\n",
       " 'TrnP_RoomsOTB',\n",
       " 'TrnP_RevOTB',\n",
       " 'Grp_RoomsOTB',\n",
       " 'Grp_RevOTB',\n",
       " 'Cnt_RoomsOTB',\n",
       " 'Cnt_RevOTB',\n",
       " 'ADR_OTB',\n",
       " 'Trn_ADR_OTB',\n",
       " 'TrnP_ADR_OTB',\n",
       " 'Grp_ADR_OTB',\n",
       " 'Cnt_ADR_OTB']"
      ]
     },
     "execution_count": 7,
     "metadata": {},
     "output_type": "execute_result"
    }
   ],
   "source": [
    "OTB_COLS"
   ]
  },
  {
   "cell_type": "code",
   "execution_count": 8,
   "id": "opened-private",
   "metadata": {},
   "outputs": [
    {
     "data": {
      "text/plain": [
       "['STLY_Date',\n",
       " 'STLY_OTB',\n",
       " 'STLY_Rev',\n",
       " 'STLY_ADR',\n",
       " 'STLY_SellingPrice',\n",
       " 'STLY_CxlForecast',\n",
       " 'STLY_TRN_OTB',\n",
       " 'STLY_TRN_REV',\n",
       " 'STLY_TRN_CXL',\n",
       " 'STLY_TRNP_OTB',\n",
       " 'STLY_TRNP_REV',\n",
       " 'STLY_TRNP_CXL',\n",
       " 'STLY_GRP_OTB',\n",
       " 'STLY_GRP_REV',\n",
       " 'STLY_GRP_CXL',\n",
       " 'STLY_CNT_OTB',\n",
       " 'STLY_CNT_REV',\n",
       " 'STLY_CNT_CXL']"
      ]
     },
     "execution_count": 8,
     "metadata": {},
     "output_type": "execute_result"
    }
   ],
   "source": [
    "STLY_COLS"
   ]
  },
  {
   "cell_type": "code",
   "execution_count": 9,
   "id": "equipped-water",
   "metadata": {},
   "outputs": [
    {
     "data": {
      "text/plain": [
       "['LYA_RoomsSold', 'LYA_ADR', 'LYA_RoomRev', 'LYA_RevPAR', 'LYA_NumCancels']"
      ]
     },
     "execution_count": 9,
     "metadata": {},
     "output_type": "execute_result"
    }
   ],
   "source": [
    "LYA_COLS"
   ]
  },
  {
   "cell_type": "code",
   "execution_count": null,
   "id": "polished-brighton",
   "metadata": {},
   "outputs": [],
   "source": [
    "h1_sim[\"RoomsPace\"] = h1_sim.RoomsOTB - h1_sim.STLY_OTB\n",
    "h1_sim[\"RoomsPace\"] = h1_sim.RoomsOTB - h1_sim.STLY_OTB"
   ]
  },
  {
   "cell_type": "markdown",
   "id": "aggregate-candy",
   "metadata": {},
   "source": [
    "## Add T - 30 OTB Features\n",
    "\n",
    "This will allow us to compare recent pickup vs. STLY"
   ]
  },
  {
   "cell_type": "code",
   "execution_count": null,
   "id": "arranged-measurement",
   "metadata": {},
   "outputs": [],
   "source": []
  }
 ],
 "metadata": {
  "kernelspec": {
   "display_name": "Python 3",
   "language": "python",
   "name": "python3"
  },
  "language_info": {
   "codemirror_mode": {
    "name": "ipython",
    "version": 3
   },
   "file_extension": ".py",
   "mimetype": "text/x-python",
   "name": "python",
   "nbconvert_exporter": "python",
   "pygments_lexer": "ipython3",
   "version": "3.8.6"
  }
 },
 "nbformat": 4,
 "nbformat_minor": 5
}
