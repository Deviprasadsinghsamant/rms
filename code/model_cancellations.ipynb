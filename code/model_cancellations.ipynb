{
 "cells": [
  {
   "cell_type": "code",
   "execution_count": 19,
   "id": "legendary-novelty",
   "metadata": {},
   "outputs": [],
   "source": [
    "import pandas as pd\n",
    "import numpy as np\n",
    "\n",
    "from sklearn.model_selection import KFold, train_test_split\n",
    "from sklearn.linear_model import LinearRegression, Lasso, LassoCV, Ridge, RidgeCV\n",
    "from sklearn.preprocessing import StandardScaler\n",
    "from sklearn.metrics import mean_squared_error, mean_absolute_error, r2_score\n",
    "import xgboost as xgb"
   ]
  },
  {
   "cell_type": "code",
   "execution_count": 2,
   "id": "opposite-microphone",
   "metadata": {},
   "outputs": [],
   "source": [
    "pd.options.display.max_rows = 60\n",
    "pd.options.display.max_columns = 60"
   ]
  },
  {
   "cell_type": "code",
   "execution_count": 3,
   "id": "varying-footwear",
   "metadata": {},
   "outputs": [],
   "source": [
    "X1 = pd.read_pickle(\"pickle/X1_cxl.pick\")\n",
    "y1 = pd.read_pickle(\"pickle/y1_cxl.pick\")\n",
    "\n",
    "X2 = pd.read_pickle(\"pickle/X2_cxl.pick\")\n",
    "y2 = pd.read_pickle(\"pickle/y2_cxl.pick\")"
   ]
  },
  {
   "cell_type": "code",
   "execution_count": 4,
   "id": "printable-volleyball",
   "metadata": {},
   "outputs": [],
   "source": [
    "X1_train, X1_test, y1_train, y1_test = \\\n",
    "    train_test_split(X1, y1, test_size=0.33, random_state=42)"
   ]
  },
  {
   "cell_type": "code",
   "execution_count": 5,
   "id": "american-scroll",
   "metadata": {},
   "outputs": [],
   "source": [
    "# ss1 = StandardScaler()\n",
    "# ss1.fit(X1_train)"
   ]
  },
  {
   "cell_type": "code",
   "execution_count": 7,
   "id": "north-syracuse",
   "metadata": {},
   "outputs": [
    {
     "data": {
      "text/plain": [
       "0.3797535358429306"
      ]
     },
     "execution_count": 7,
     "metadata": {},
     "output_type": "execute_result"
    }
   ],
   "source": [
    "lr1 = LinearRegression()\n",
    "lr1.fit(X1_train, y1_train)\n",
    "lr1.score(X1_test, y1_test)"
   ]
  },
  {
   "cell_type": "code",
   "execution_count": 9,
   "id": "legislative-treaty",
   "metadata": {},
   "outputs": [
    {
     "data": {
      "text/plain": [
       "array([ 9.07060624e-04,  9.73004655e-03,  1.22944625e-02, -2.56441597e-03,\n",
       "        5.66397414e-04,  9.96054581e-03,  1.16810423e-02,  2.08767912e-02,\n",
       "       -2.25972877e-02, -7.50059823e-02,  2.49971047e-03,  1.15591423e-02,\n",
       "       -9.05943183e-03, -4.23910188e-02, -2.53869017e-03, -2.53887127e-01,\n",
       "       -1.19540237e-01,  4.26854133e-02, -5.08878458e-02,  1.66730507e-02,\n",
       "        1.01589388e-01,  1.65289417e-02,  6.31056975e-01, -8.13692671e-02,\n",
       "       -1.02807720e-01, -1.37259740e-02, -1.91446233e-01,  3.63256343e-02,\n",
       "       -6.50399924e-02, -1.42997292e-02, -1.10557793e-01,  2.55979717e-01,\n",
       "       -7.54237486e-02,  7.46165616e-02, -5.38788953e-02, -8.10565462e-03,\n",
       "       -9.26346650e-02, -9.84505755e-02, -3.72808776e-02,  9.78232515e-03,\n",
       "        1.22096359e-02,  1.31861772e-02,  3.97317202e-01,  1.73048574e-02,\n",
       "       -1.11601749e-01, -2.72972861e-02, -3.42091163e-02])"
      ]
     },
     "execution_count": 9,
     "metadata": {},
     "output_type": "execute_result"
    }
   ],
   "source": [
    "lr1.coef_"
   ]
  },
  {
   "cell_type": "code",
   "execution_count": 24,
   "id": "genetic-abraham",
   "metadata": {},
   "outputs": [
    {
     "name": "stdout",
     "output_type": "stream",
     "text": [
      "\n",
      "SIMPLE LR Validation R^2 score was: -383157604.8321402\n",
      "Feature coefficient results: \n",
      "\n",
      "LeadTime : 0.09\n",
      "LOS : 39514101215.38\n",
      "StaysInWeekendNights : -13388905855.39\n",
      "StaysInWeekNights : -28763767665.95\n",
      "ADR : 0.03\n",
      "NumPeople : 84185478334.28\n",
      "Adults : -69164981654.69\n",
      "Children : -41688257865.90\n",
      "Babies : -11202168493.07\n",
      "TotalOfSpecialRequests : -0.06\n",
      "PreviousBookings : -174545998008.86\n",
      "PreviousCancellations : 137343113400.66\n",
      "PreviousBookingsNotCanceled : 104337409243.47\n",
      "BookingChanges : -0.03\n",
      "DaysInWaitingList : -0.02\n",
      "RequiredCarParkingSpaces : -0.09\n",
      "IsRepeatedGuest : -0.02\n",
      "AgencyBooking : 0.02\n",
      "CompanyListed : -0.01\n",
      "CT_is_grp : 0.00\n",
      "CT_is_trn : 0.04\n",
      "CT_is_trnP : 0.01\n",
      "RS_No-Show : 0.05\n",
      "MS_Corporate : -0.02\n",
      "MS_Direct : -0.04\n",
      "MS_Groups : -0.01\n",
      "MS_Offline TA/TO : -0.07\n",
      "MS_Online TA : 0.02\n",
      "DC_Direct : -0.03\n",
      "DC_TA/TO : -0.01\n",
      "DC_Undefined : 786223.48\n",
      "FROM_PRT : 37580611613.35\n",
      "FROM_GBR : 28657847021.93\n",
      "FROM_ESP : 22536915421.59\n",
      "FROM_IRL : 17346072264.62\n",
      "FROM_FRA : 14548358817.09\n",
      "FROM_DEU : 12552744329.24\n",
      "FROM_CN : 9920025966.43\n",
      "FROM_NLD : 8487789024.20\n",
      "FROM_USA : 7949662845.26\n",
      "FROM_ITA : 8137962251.46\n",
      "FROM_other : 23980191120.72\n",
      "DT_NonRefundable : 0.08\n",
      "DT_Refundable : 0.00\n",
      "MEAL_Undefined : -0.02\n",
      "MEAL_HB : -0.01\n",
      "MEAL_FB : -0.00\n",
      "\n",
      "RIDGE Validation R^2 score was: 0.3933095833969261\n",
      "Feature coefficient results: \n",
      "\n",
      "LeadTime : 0.09\n",
      "LOS : 0.01\n",
      "StaysInWeekendNights : 0.02\n",
      "StaysInWeekNights : 0.01\n",
      "ADR : 0.03\n",
      "NumPeople : 0.01\n",
      "Adults : 0.01\n",
      "Children : 0.01\n",
      "Babies : -0.00\n",
      "TotalOfSpecialRequests : -0.06\n",
      "PreviousBookings : 0.00\n",
      "PreviousCancellations : 0.01\n",
      "PreviousBookingsNotCanceled : -0.01\n",
      "BookingChanges : -0.03\n",
      "DaysInWaitingList : -0.02\n",
      "RequiredCarParkingSpaces : -0.09\n",
      "IsRepeatedGuest : -0.02\n",
      "AgencyBooking : 0.02\n",
      "CompanyListed : -0.01\n",
      "CT_is_grp : 0.00\n",
      "CT_is_trn : 0.04\n",
      "CT_is_trnP : 0.01\n",
      "RS_No-Show : 0.05\n",
      "MS_Corporate : -0.02\n",
      "MS_Direct : -0.03\n",
      "MS_Groups : -0.00\n",
      "MS_Offline TA/TO : -0.07\n",
      "MS_Online TA : 0.02\n",
      "DC_Direct : -0.03\n",
      "DC_TA/TO : -0.01\n",
      "DC_Undefined : 0.00\n",
      "FROM_PRT : 0.09\n",
      "FROM_GBR : -0.05\n",
      "FROM_ESP : -0.00\n",
      "FROM_IRL : -0.03\n",
      "FROM_FRA : -0.01\n",
      "FROM_DEU : -0.03\n",
      "FROM_CN : -0.02\n",
      "FROM_NLD : -0.01\n",
      "FROM_USA : -0.01\n",
      "FROM_ITA : -0.01\n",
      "FROM_other : -0.02\n",
      "DT_NonRefundable : 0.08\n",
      "DT_Refundable : 0.00\n",
      "MEAL_Undefined : -0.02\n",
      "MEAL_HB : -0.01\n",
      "MEAL_FB : -0.00\n",
      "\n",
      "LASSO Validation R^2 score was: 0.3931621181422571\n",
      "Feature coefficient results: \n",
      "\n",
      "LeadTime : 0.09\n",
      "LOS : 0.02\n",
      "StaysInWeekendNights : 0.02\n",
      "StaysInWeekNights : 0.00\n",
      "ADR : 0.03\n",
      "NumPeople : 0.02\n",
      "Adults : 0.00\n",
      "Children : 0.00\n",
      "Babies : -0.00\n",
      "TotalOfSpecialRequests : -0.06\n",
      "PreviousBookings : 0.00\n",
      "PreviousCancellations : 0.02\n",
      "PreviousBookingsNotCanceled : -0.01\n",
      "BookingChanges : -0.03\n",
      "DaysInWaitingList : -0.02\n",
      "RequiredCarParkingSpaces : -0.09\n",
      "IsRepeatedGuest : -0.02\n",
      "AgencyBooking : 0.01\n",
      "CompanyListed : -0.01\n",
      "CT_is_grp : -0.00\n",
      "CT_is_trn : 0.04\n",
      "CT_is_trnP : 0.00\n",
      "RS_No-Show : 0.05\n",
      "MS_Corporate : -0.02\n",
      "MS_Direct : -0.03\n",
      "MS_Groups : 0.00\n",
      "MS_Offline TA/TO : -0.07\n",
      "MS_Online TA : 0.03\n",
      "DC_Direct : -0.02\n",
      "DC_TA/TO : -0.00\n",
      "DC_Undefined : 0.00\n",
      "FROM_PRT : 0.13\n",
      "FROM_GBR : -0.03\n",
      "FROM_ESP : 0.02\n",
      "FROM_IRL : -0.01\n",
      "FROM_FRA : -0.00\n",
      "FROM_DEU : -0.02\n",
      "FROM_CN : -0.01\n",
      "FROM_NLD : -0.00\n",
      "FROM_USA : 0.00\n",
      "FROM_ITA : -0.00\n",
      "FROM_other : 0.01\n",
      "DT_NonRefundable : 0.08\n",
      "DT_Refundable : 0.00\n",
      "MEAL_Undefined : -0.02\n",
      "MEAL_HB : -0.01\n",
      "MEAL_FB : -0.00\n"
     ]
    }
   ],
   "source": [
    "def regularization(X, y):\n",
    "    X_train_val, X_test, y_train_val, y_test = train_test_split(X, y, test_size=0.2,random_state=42)\n",
    "    X_train, X_val, y_train, y_val = train_test_split(X_train_val, y_train_val, test_size=.25, random_state=42)\n",
    "    \n",
    "    # standardize data\n",
    "    scaler = StandardScaler()\n",
    "    X_train_scaled = scaler.fit_transform(X_train.values)\n",
    "    X_val_scaled = scaler.transform(X_val)\n",
    "    \n",
    "    # linear regression\n",
    "    lr = LinearRegression()\n",
    "    lr_model = lr.fit(X_train_scaled, y_train)\n",
    "    lr_score = lr_model.score(X_val_scaled, y_val)\n",
    "    \n",
    "    # ridge\n",
    "    ridge = RidgeCV(cv=5)\n",
    "    ridge_model = ridge.fit(X_train_scaled, y_train)\n",
    "    ridge_score = ridge_model.score(X_val_scaled, y_val)\n",
    "    \n",
    "    # lasso\n",
    "    lasso = LassoCV(cv=5)\n",
    "    lasso_model = lasso.fit(X_train_scaled, y_train)\n",
    "    lasso_score = lasso_model.score(X_val_scaled, y_val)\n",
    "    \n",
    "    print('\\nSIMPLE LR Validation R^2 score was:', lr_score)\n",
    "    print('Feature coefficient results: \\n')\n",
    "    for feature, coef in zip(X.columns, lr_model.coef_):\n",
    "        print(feature, ':', f'{coef:.2f}') \n",
    "    \n",
    "    print('\\nRIDGE Validation R^2 score was:', ridge_score)\n",
    "    print('Feature coefficient results: \\n')\n",
    "    for feature, coef in zip(X.columns, ridge_model.coef_):\n",
    "        print(feature, ':', f'{coef:.2f}') \n",
    "        \n",
    "    print('\\nLASSO Validation R^2 score was:', lasso_score)\n",
    "    print('Feature coefficient results: \\n')\n",
    "    for feature, coef in zip(X.columns, lasso_model.coef_):\n",
    "        print(feature, ':', f'{coef:.2f}') \n",
    "    \n",
    "\n",
    "regularization(X1, y1)\n",
    "    \n",
    "    "
   ]
  },
  {
   "cell_type": "code",
   "execution_count": 21,
   "id": "extended-george",
   "metadata": {},
   "outputs": [
    {
     "data": {
      "text/plain": [
       "array([ 9.02521250e-04,  9.47910601e-03,  1.16310146e-02, -2.15190856e-03,\n",
       "        5.67002202e-04,  1.18390726e-02,  8.89351717e-03,  1.99966559e-02,\n",
       "       -1.70511005e-02, -7.56827667e-02,  2.19541580e-03,  1.11225345e-02,\n",
       "       -8.92711868e-03, -4.22106222e-02, -2.59027499e-03, -2.54101301e-01,\n",
       "       -1.18398124e-01,  4.49754725e-02, -4.55006012e-02,  1.24241392e-02,\n",
       "        1.02807376e-01,  2.01452649e-02,  6.22241402e-01, -9.42689098e-02,\n",
       "       -1.06907089e-01, -2.57769056e-02, -1.94655483e-01,  3.49373561e-02,\n",
       "       -6.24131215e-02, -1.56878613e-02, -5.31974272e-02,  2.55923601e-01,\n",
       "       -7.25718163e-02,  7.21377405e-02, -5.69524506e-02, -7.82270747e-03,\n",
       "       -8.66831248e-02, -9.83553561e-02, -3.11125667e-02,  7.49101535e-04,\n",
       "        9.85525231e-03,  1.48323269e-02,  4.03952489e-01,  1.60350060e-02,\n",
       "       -1.11796578e-01, -2.78586094e-02, -2.42647671e-02])"
      ]
     },
     "execution_count": 21,
     "metadata": {},
     "output_type": "execute_result"
    }
   ],
   "source": [
    "ridge_model.coef_"
   ]
  },
  {
   "cell_type": "code",
   "execution_count": 25,
   "id": "cutting-communication",
   "metadata": {},
   "outputs": [
    {
     "ename": "ValueError",
     "evalue": "Input contains NaN, infinity or a value too large for dtype('float64').",
     "output_type": "error",
     "traceback": [
      "\u001b[0;31m---------------------------------------------------------------------------\u001b[0m",
      "\u001b[0;31mValueError\u001b[0m                                Traceback (most recent call last)",
      "\u001b[0;32m<ipython-input-25-c15dba734f04>\u001b[0m in \u001b[0;36m<module>\u001b[0;34m\u001b[0m\n\u001b[0;32m----> 1\u001b[0;31m \u001b[0mregularization\u001b[0m\u001b[0;34m(\u001b[0m\u001b[0mX2\u001b[0m\u001b[0;34m,\u001b[0m \u001b[0my2\u001b[0m\u001b[0;34m)\u001b[0m\u001b[0;34m\u001b[0m\u001b[0;34m\u001b[0m\u001b[0m\n\u001b[0m",
      "\u001b[0;32m<ipython-input-24-680ccaa9c3c5>\u001b[0m in \u001b[0;36mregularization\u001b[0;34m(X, y)\u001b[0m\n\u001b[1;32m     10\u001b[0m     \u001b[0;31m# linear regression\u001b[0m\u001b[0;34m\u001b[0m\u001b[0;34m\u001b[0m\u001b[0;34m\u001b[0m\u001b[0m\n\u001b[1;32m     11\u001b[0m     \u001b[0mlr\u001b[0m \u001b[0;34m=\u001b[0m \u001b[0mLinearRegression\u001b[0m\u001b[0;34m(\u001b[0m\u001b[0;34m)\u001b[0m\u001b[0;34m\u001b[0m\u001b[0;34m\u001b[0m\u001b[0m\n\u001b[0;32m---> 12\u001b[0;31m     \u001b[0mlr_model\u001b[0m \u001b[0;34m=\u001b[0m \u001b[0mlr\u001b[0m\u001b[0;34m.\u001b[0m\u001b[0mfit\u001b[0m\u001b[0;34m(\u001b[0m\u001b[0mX_train_scaled\u001b[0m\u001b[0;34m,\u001b[0m \u001b[0my_train\u001b[0m\u001b[0;34m)\u001b[0m\u001b[0;34m\u001b[0m\u001b[0;34m\u001b[0m\u001b[0m\n\u001b[0m\u001b[1;32m     13\u001b[0m     \u001b[0mlr_score\u001b[0m \u001b[0;34m=\u001b[0m \u001b[0mlr_model\u001b[0m\u001b[0;34m.\u001b[0m\u001b[0mscore\u001b[0m\u001b[0;34m(\u001b[0m\u001b[0mX_val_scaled\u001b[0m\u001b[0;34m,\u001b[0m \u001b[0my_val\u001b[0m\u001b[0;34m)\u001b[0m\u001b[0;34m\u001b[0m\u001b[0;34m\u001b[0m\u001b[0m\n\u001b[1;32m     14\u001b[0m \u001b[0;34m\u001b[0m\u001b[0m\n",
      "\u001b[0;32m~/anaconda3/envs/metis/lib/python3.8/site-packages/sklearn/linear_model/_base.py\u001b[0m in \u001b[0;36mfit\u001b[0;34m(self, X, y, sample_weight)\u001b[0m\n\u001b[1;32m    503\u001b[0m \u001b[0;34m\u001b[0m\u001b[0m\n\u001b[1;32m    504\u001b[0m         \u001b[0mn_jobs_\u001b[0m \u001b[0;34m=\u001b[0m \u001b[0mself\u001b[0m\u001b[0;34m.\u001b[0m\u001b[0mn_jobs\u001b[0m\u001b[0;34m\u001b[0m\u001b[0;34m\u001b[0m\u001b[0m\n\u001b[0;32m--> 505\u001b[0;31m         X, y = self._validate_data(X, y, accept_sparse=['csr', 'csc', 'coo'],\n\u001b[0m\u001b[1;32m    506\u001b[0m                                    y_numeric=True, multi_output=True)\n\u001b[1;32m    507\u001b[0m \u001b[0;34m\u001b[0m\u001b[0m\n",
      "\u001b[0;32m~/anaconda3/envs/metis/lib/python3.8/site-packages/sklearn/base.py\u001b[0m in \u001b[0;36m_validate_data\u001b[0;34m(self, X, y, reset, validate_separately, **check_params)\u001b[0m\n\u001b[1;32m    430\u001b[0m                 \u001b[0my\u001b[0m \u001b[0;34m=\u001b[0m \u001b[0mcheck_array\u001b[0m\u001b[0;34m(\u001b[0m\u001b[0my\u001b[0m\u001b[0;34m,\u001b[0m \u001b[0;34m**\u001b[0m\u001b[0mcheck_y_params\u001b[0m\u001b[0;34m)\u001b[0m\u001b[0;34m\u001b[0m\u001b[0;34m\u001b[0m\u001b[0m\n\u001b[1;32m    431\u001b[0m             \u001b[0;32melse\u001b[0m\u001b[0;34m:\u001b[0m\u001b[0;34m\u001b[0m\u001b[0;34m\u001b[0m\u001b[0m\n\u001b[0;32m--> 432\u001b[0;31m                 \u001b[0mX\u001b[0m\u001b[0;34m,\u001b[0m \u001b[0my\u001b[0m \u001b[0;34m=\u001b[0m \u001b[0mcheck_X_y\u001b[0m\u001b[0;34m(\u001b[0m\u001b[0mX\u001b[0m\u001b[0;34m,\u001b[0m \u001b[0my\u001b[0m\u001b[0;34m,\u001b[0m \u001b[0;34m**\u001b[0m\u001b[0mcheck_params\u001b[0m\u001b[0;34m)\u001b[0m\u001b[0;34m\u001b[0m\u001b[0;34m\u001b[0m\u001b[0m\n\u001b[0m\u001b[1;32m    433\u001b[0m             \u001b[0mout\u001b[0m \u001b[0;34m=\u001b[0m \u001b[0mX\u001b[0m\u001b[0;34m,\u001b[0m \u001b[0my\u001b[0m\u001b[0;34m\u001b[0m\u001b[0;34m\u001b[0m\u001b[0m\n\u001b[1;32m    434\u001b[0m \u001b[0;34m\u001b[0m\u001b[0m\n",
      "\u001b[0;32m~/anaconda3/envs/metis/lib/python3.8/site-packages/sklearn/utils/validation.py\u001b[0m in \u001b[0;36minner_f\u001b[0;34m(*args, **kwargs)\u001b[0m\n\u001b[1;32m     70\u001b[0m                           FutureWarning)\n\u001b[1;32m     71\u001b[0m         \u001b[0mkwargs\u001b[0m\u001b[0;34m.\u001b[0m\u001b[0mupdate\u001b[0m\u001b[0;34m(\u001b[0m\u001b[0;34m{\u001b[0m\u001b[0mk\u001b[0m\u001b[0;34m:\u001b[0m \u001b[0marg\u001b[0m \u001b[0;32mfor\u001b[0m \u001b[0mk\u001b[0m\u001b[0;34m,\u001b[0m \u001b[0marg\u001b[0m \u001b[0;32min\u001b[0m \u001b[0mzip\u001b[0m\u001b[0;34m(\u001b[0m\u001b[0msig\u001b[0m\u001b[0;34m.\u001b[0m\u001b[0mparameters\u001b[0m\u001b[0;34m,\u001b[0m \u001b[0margs\u001b[0m\u001b[0;34m)\u001b[0m\u001b[0;34m}\u001b[0m\u001b[0;34m)\u001b[0m\u001b[0;34m\u001b[0m\u001b[0;34m\u001b[0m\u001b[0m\n\u001b[0;32m---> 72\u001b[0;31m         \u001b[0;32mreturn\u001b[0m \u001b[0mf\u001b[0m\u001b[0;34m(\u001b[0m\u001b[0;34m**\u001b[0m\u001b[0mkwargs\u001b[0m\u001b[0;34m)\u001b[0m\u001b[0;34m\u001b[0m\u001b[0;34m\u001b[0m\u001b[0m\n\u001b[0m\u001b[1;32m     73\u001b[0m     \u001b[0;32mreturn\u001b[0m \u001b[0minner_f\u001b[0m\u001b[0;34m\u001b[0m\u001b[0;34m\u001b[0m\u001b[0m\n\u001b[1;32m     74\u001b[0m \u001b[0;34m\u001b[0m\u001b[0m\n",
      "\u001b[0;32m~/anaconda3/envs/metis/lib/python3.8/site-packages/sklearn/utils/validation.py\u001b[0m in \u001b[0;36mcheck_X_y\u001b[0;34m(X, y, accept_sparse, accept_large_sparse, dtype, order, copy, force_all_finite, ensure_2d, allow_nd, multi_output, ensure_min_samples, ensure_min_features, y_numeric, estimator)\u001b[0m\n\u001b[1;32m    793\u001b[0m         \u001b[0;32mraise\u001b[0m \u001b[0mValueError\u001b[0m\u001b[0;34m(\u001b[0m\u001b[0;34m\"y cannot be None\"\u001b[0m\u001b[0;34m)\u001b[0m\u001b[0;34m\u001b[0m\u001b[0;34m\u001b[0m\u001b[0m\n\u001b[1;32m    794\u001b[0m \u001b[0;34m\u001b[0m\u001b[0m\n\u001b[0;32m--> 795\u001b[0;31m     X = check_array(X, accept_sparse=accept_sparse,\n\u001b[0m\u001b[1;32m    796\u001b[0m                     \u001b[0maccept_large_sparse\u001b[0m\u001b[0;34m=\u001b[0m\u001b[0maccept_large_sparse\u001b[0m\u001b[0;34m,\u001b[0m\u001b[0;34m\u001b[0m\u001b[0;34m\u001b[0m\u001b[0m\n\u001b[1;32m    797\u001b[0m                     \u001b[0mdtype\u001b[0m\u001b[0;34m=\u001b[0m\u001b[0mdtype\u001b[0m\u001b[0;34m,\u001b[0m \u001b[0morder\u001b[0m\u001b[0;34m=\u001b[0m\u001b[0morder\u001b[0m\u001b[0;34m,\u001b[0m \u001b[0mcopy\u001b[0m\u001b[0;34m=\u001b[0m\u001b[0mcopy\u001b[0m\u001b[0;34m,\u001b[0m\u001b[0;34m\u001b[0m\u001b[0;34m\u001b[0m\u001b[0m\n",
      "\u001b[0;32m~/anaconda3/envs/metis/lib/python3.8/site-packages/sklearn/utils/validation.py\u001b[0m in \u001b[0;36minner_f\u001b[0;34m(*args, **kwargs)\u001b[0m\n\u001b[1;32m     70\u001b[0m                           FutureWarning)\n\u001b[1;32m     71\u001b[0m         \u001b[0mkwargs\u001b[0m\u001b[0;34m.\u001b[0m\u001b[0mupdate\u001b[0m\u001b[0;34m(\u001b[0m\u001b[0;34m{\u001b[0m\u001b[0mk\u001b[0m\u001b[0;34m:\u001b[0m \u001b[0marg\u001b[0m \u001b[0;32mfor\u001b[0m \u001b[0mk\u001b[0m\u001b[0;34m,\u001b[0m \u001b[0marg\u001b[0m \u001b[0;32min\u001b[0m \u001b[0mzip\u001b[0m\u001b[0;34m(\u001b[0m\u001b[0msig\u001b[0m\u001b[0;34m.\u001b[0m\u001b[0mparameters\u001b[0m\u001b[0;34m,\u001b[0m \u001b[0margs\u001b[0m\u001b[0;34m)\u001b[0m\u001b[0;34m}\u001b[0m\u001b[0;34m)\u001b[0m\u001b[0;34m\u001b[0m\u001b[0;34m\u001b[0m\u001b[0m\n\u001b[0;32m---> 72\u001b[0;31m         \u001b[0;32mreturn\u001b[0m \u001b[0mf\u001b[0m\u001b[0;34m(\u001b[0m\u001b[0;34m**\u001b[0m\u001b[0mkwargs\u001b[0m\u001b[0;34m)\u001b[0m\u001b[0;34m\u001b[0m\u001b[0;34m\u001b[0m\u001b[0m\n\u001b[0m\u001b[1;32m     73\u001b[0m     \u001b[0;32mreturn\u001b[0m \u001b[0minner_f\u001b[0m\u001b[0;34m\u001b[0m\u001b[0;34m\u001b[0m\u001b[0m\n\u001b[1;32m     74\u001b[0m \u001b[0;34m\u001b[0m\u001b[0m\n",
      "\u001b[0;32m~/anaconda3/envs/metis/lib/python3.8/site-packages/sklearn/utils/validation.py\u001b[0m in \u001b[0;36mcheck_array\u001b[0;34m(array, accept_sparse, accept_large_sparse, dtype, order, copy, force_all_finite, ensure_2d, allow_nd, ensure_min_samples, ensure_min_features, estimator)\u001b[0m\n\u001b[1;32m    642\u001b[0m \u001b[0;34m\u001b[0m\u001b[0m\n\u001b[1;32m    643\u001b[0m         \u001b[0;32mif\u001b[0m \u001b[0mforce_all_finite\u001b[0m\u001b[0;34m:\u001b[0m\u001b[0;34m\u001b[0m\u001b[0;34m\u001b[0m\u001b[0m\n\u001b[0;32m--> 644\u001b[0;31m             _assert_all_finite(array,\n\u001b[0m\u001b[1;32m    645\u001b[0m                                allow_nan=force_all_finite == 'allow-nan')\n\u001b[1;32m    646\u001b[0m \u001b[0;34m\u001b[0m\u001b[0m\n",
      "\u001b[0;32m~/anaconda3/envs/metis/lib/python3.8/site-packages/sklearn/utils/validation.py\u001b[0m in \u001b[0;36m_assert_all_finite\u001b[0;34m(X, allow_nan, msg_dtype)\u001b[0m\n\u001b[1;32m     94\u001b[0m                 not allow_nan and not np.isfinite(X).all()):\n\u001b[1;32m     95\u001b[0m             \u001b[0mtype_err\u001b[0m \u001b[0;34m=\u001b[0m \u001b[0;34m'infinity'\u001b[0m \u001b[0;32mif\u001b[0m \u001b[0mallow_nan\u001b[0m \u001b[0;32melse\u001b[0m \u001b[0;34m'NaN, infinity'\u001b[0m\u001b[0;34m\u001b[0m\u001b[0;34m\u001b[0m\u001b[0m\n\u001b[0;32m---> 96\u001b[0;31m             raise ValueError(\n\u001b[0m\u001b[1;32m     97\u001b[0m                     \u001b[0mmsg_err\u001b[0m\u001b[0;34m.\u001b[0m\u001b[0mformat\u001b[0m\u001b[0;34m\u001b[0m\u001b[0;34m\u001b[0m\u001b[0m\n\u001b[1;32m     98\u001b[0m                     (type_err,\n",
      "\u001b[0;31mValueError\u001b[0m: Input contains NaN, infinity or a value too large for dtype('float64')."
     ]
    }
   ],
   "source": [
    "regularization(X2, y2)"
   ]
  },
  {
   "cell_type": "code",
   "execution_count": null,
   "id": "sticky-stability",
   "metadata": {},
   "outputs": [],
   "source": []
  }
 ],
 "metadata": {
  "kernelspec": {
   "display_name": "Python 3",
   "language": "python",
   "name": "python3"
  },
  "language_info": {
   "codemirror_mode": {
    "name": "ipython",
    "version": 3
   },
   "file_extension": ".py",
   "mimetype": "text/x-python",
   "name": "python",
   "nbconvert_exporter": "python",
   "pygments_lexer": "ipython3",
   "version": "3.8.6"
  }
 },
 "nbformat": 4,
 "nbformat_minor": 5
}
