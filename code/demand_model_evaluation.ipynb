{
 "cells": [
  {
   "cell_type": "markdown",
   "id": "military-chapel",
   "metadata": {},
   "source": [
    "# Modeling Demand... the Results\n",
    "\n",
    "Model selection process can be found in `demand_model_selection.ipynb`."
   ]
  },
  {
   "cell_type": "code",
   "execution_count": 1,
   "id": "special-washer",
   "metadata": {},
   "outputs": [],
   "source": [
    "import pandas as pd\n",
    "import numpy as np\n",
    "import datetime as dt\n",
    "from sklearn.ensemble import RandomForestRegressor\n",
    "from sklearn.metrics import r2_score\n",
    "\n",
    "from demand_features import rf_cols\n",
    "from price_optimize import recommend_pricing\n",
    "\n",
    "pd.options.display.max_rows = 160\n",
    "pd.options.display.max_columns = 250\n",
    "\n",
    "h1_sim = pd.read_pickle(\"../data/h1_stats.pick\")\n",
    "h2_sim = pd.read_pickle(\"../data/h2_stats.pick\")\n",
    "\n",
    "DATE_FMT = \"%Y-%m-%d\"\n",
    "as_of_date = '2017-08-01'"
   ]
  },
  {
   "cell_type": "markdown",
   "id": "broke-sigma",
   "metadata": {},
   "source": [
    "## Our predictions are all wrapped up into the `h1_pricing` DataFrame as a result of this Python script.\n",
    "\n",
    "It's saved as a CSV also. I will try to upload that to the repo (hoping it's under 100MB).\n",
    "\n",
    "The code for setting all of this up is in `price_optimize.py`."
   ]
  },
  {
   "cell_type": "code",
   "execution_count": 2,
   "id": "different-explorer",
   "metadata": {},
   "outputs": [
    {
     "name": "stdout",
     "output_type": "stream",
     "text": [
      "Training Random Forest model to predict remaining transient demand...\n",
      "Model ready.\n",
      "\n",
      "R² score on test set (stay dates Aug 1 - Aug 31, 2017):                        0.679\n",
      "MAE (Mean Absolute Error) score on test set (stay dates Aug 1 - Aug 31, 2017): 2.614\n",
      "MSE (Mean Squared Error) score on test set (stay dates Aug 1 - Aug 31, 2017):  10.153\n",
      "\n",
      "Calculating optimal selling prices...\n",
      "\n",
      "Average recommended price change...                                            43.19\n",
      "Estimated RN (Roomnight) growth after implementing price recommendations...    0.03\n",
      "Estimated revenue growth after implementing price recommendations...           8443.46\n",
      "Simulation ready.\n",
      "\n"
     ]
    }
   ],
   "source": [
    "h1_pricing = recommend_pricing(1, h1_sim, as_of_date)"
   ]
  },
  {
   "cell_type": "code",
   "execution_count": 9,
   "id": "collectible-thermal",
   "metadata": {},
   "outputs": [
    {
     "data": {
      "text/plain": [
       "395.8333333333333"
      ]
     },
     "execution_count": 9,
     "metadata": {},
     "output_type": "execute_result"
    }
   ],
   "source": [
    "10*5*475/60"
   ]
  },
  {
   "cell_type": "code",
   "execution_count": 3,
   "id": "pressing-population",
   "metadata": {},
   "outputs": [
    {
     "name": "stdout",
     "output_type": "stream",
     "text": [
      "Training Random Forest model to predict remaining transient demand...\n",
      "Model ready.\n",
      "\n",
      "R² score on test set (stay dates Aug 1 - Aug 31, 2017):                        0.381\n",
      "MAE (Mean Absolute Error) score on test set (stay dates Aug 1 - Aug 31, 2017): 3.921\n",
      "MSE (Mean Squared Error) score on test set (stay dates Aug 1 - Aug 31, 2017):  25.994\n",
      "\n",
      "Calculating optimal selling prices...\n",
      "\n",
      "Average recommended price change...                                            30.78\n",
      "Estimated RN (Roomnight) growth after implementing price recommendations...    -1.55\n",
      "Estimated revenue growth after implementing price recommendations...           6890.78\n",
      "Simulation ready.\n",
      "\n"
     ]
    }
   ],
   "source": [
    "h2_pricing = recommend_pricing(2, h2_sim, as_of_date)"
   ]
  },
  {
   "cell_type": "code",
   "execution_count": 4,
   "id": "inner-symposium",
   "metadata": {},
   "outputs": [],
   "source": [
    "h1_pricing.to_csv(\"../data/results/h1_pricing.csv\")\n",
    "h2_pricing.to_csv(\"../data/results/h2_pricing.csv\")"
   ]
  },
  {
   "cell_type": "code",
   "execution_count": 5,
   "id": "valued-freeware",
   "metadata": {},
   "outputs": [
    {
     "data": {
      "text/plain": [
       "6769.0"
      ]
     },
     "execution_count": 5,
     "metadata": {},
     "output_type": "execute_result"
    }
   ],
   "source": [
    "h2_pricing.ACTUAL_RoomsSold.sum()"
   ]
  },
  {
   "cell_type": "code",
   "execution_count": 6,
   "id": "special-chrome",
   "metadata": {},
   "outputs": [
    {
     "data": {
      "text/plain": [
       "5467.0"
      ]
     },
     "execution_count": 6,
     "metadata": {},
     "output_type": "execute_result"
    }
   ],
   "source": [
    "h2_pricing.ACTUAL_TRN_RoomsSold.sum()"
   ]
  },
  {
   "cell_type": "code",
   "execution_count": 7,
   "id": "academic-jewel",
   "metadata": {},
   "outputs": [
    {
     "ename": "NameError",
     "evalue": "name 'df_pricing' is not defined",
     "output_type": "error",
     "traceback": [
      "\u001b[0;31m---------------------------------------------------------------------------\u001b[0m",
      "\u001b[0;31mNameError\u001b[0m                                 Traceback (most recent call last)",
      "\u001b[0;32m<ipython-input-7-84f316eb65b1>\u001b[0m in \u001b[0;36m<module>\u001b[0;34m\u001b[0m\n\u001b[0;32m----> 1\u001b[0;31m \u001b[0mdf_pricing\u001b[0m\u001b[0;34m.\u001b[0m\u001b[0mSellingPrice\u001b[0m\u001b[0;34m.\u001b[0m\u001b[0mmean\u001b[0m\u001b[0;34m(\u001b[0m\u001b[0;34m)\u001b[0m\u001b[0;34m\u001b[0m\u001b[0;34m\u001b[0m\u001b[0m\n\u001b[0m",
      "\u001b[0;31mNameError\u001b[0m: name 'df_pricing' is not defined"
     ]
    }
   ],
   "source": [
    "df_pricing.SellingPrice.mean()"
   ]
  },
  {
   "cell_type": "markdown",
   "id": "noticed-framework",
   "metadata": {},
   "source": [
    "## Results\n",
    "\n",
    "In predicting remaining demand, our mean absolute error comes down to "
   ]
  },
  {
   "cell_type": "code",
   "execution_count": null,
   "id": "consistent-satellite",
   "metadata": {},
   "outputs": [],
   "source": [
    "[c for c in df_pricing.columns]"
   ]
  },
  {
   "cell_type": "code",
   "execution_count": null,
   "id": "animal-excuse",
   "metadata": {},
   "outputs": [],
   "source": [
    "smaller_df = df_pricing[[\"StayDate\", \"DOW\", \"RemSupply\", \"RemSupply_STLY\",\n",
    "            \"Proj_TRN_RoomsPickup\", \"SellingPrice\", \"OptimalRate\",\n",
    "            \"TRN_RevPickupAtOriginal\",\"TRN_RevPickupAtOptimal\",\"ACTUAL_TRN_RoomsPickup\", \n",
    "            \"ACTUAL_TRN_RevPickup\", \"RecommendedPriceChange\", \"ProjRevOpportunity\"]].copy()\n",
    "smaller_df.head(3)"
   ]
  },
  {
   "cell_type": "code",
   "execution_count": null,
   "id": "stupid-insured",
   "metadata": {},
   "outputs": [],
   "source": [
    "smaller_df[[\"StayDate\", \"DOW\", \"Proj_TRN_RoomsPickup\", \"ACTUAL_TRN_RoomsPickup\", \"Occ\"]]"
   ]
  },
  {
   "cell_type": "code",
   "execution_count": null,
   "id": "greek-night",
   "metadata": {},
   "outputs": [],
   "source": []
  }
 ],
 "metadata": {
  "kernelspec": {
   "display_name": "Python 3",
   "language": "python",
   "name": "python3"
  },
  "language_info": {
   "codemirror_mode": {
    "name": "ipython",
    "version": 3
   },
   "file_extension": ".py",
   "mimetype": "text/x-python",
   "name": "python",
   "nbconvert_exporter": "python",
   "pygments_lexer": "ipython3",
   "version": "3.7.9"
  }
 },
 "nbformat": 4,
 "nbformat_minor": 5
}
