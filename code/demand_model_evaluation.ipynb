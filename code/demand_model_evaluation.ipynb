{
 "cells": [
  {
   "cell_type": "markdown",
   "id": "selected-ancient",
   "metadata": {},
   "source": [
    "# Modeling Demand... the Results\n",
    "\n",
    "Model selection process can be found in `demand_model_selection.ipynb`."
   ]
  },
  {
   "cell_type": "code",
   "execution_count": 1,
   "id": "widespread-calculation",
   "metadata": {},
   "outputs": [],
   "source": [
    "import pandas as pd\n",
    "import numpy as np\n",
    "import datetime as dt\n",
    "from sklearn.ensemble import RandomForestRegressor\n",
    "from sklearn.metrics import r2_score\n",
    "\n",
    "from demand_features import rf_cols\n",
    "from price_optimize import recommend_pricing\n",
    "\n",
    "pd.options.display.max_rows = 160\n",
    "pd.options.display.max_columns = 250\n",
    "\n",
    "df_sim = pd.read_pickle(\"../data/h1_stats.pick\")\n",
    "\n",
    "DATE_FMT = \"%Y-%m-%d\"\n",
    "as_of_date = '2017-08-01'"
   ]
  },
  {
   "cell_type": "markdown",
   "id": "usual-solid",
   "metadata": {},
   "source": [
    "## Modeling Our Data\n",
    "\n",
    "The code for setting all of this up is in `price_optimize.py`."
   ]
  },
  {
   "cell_type": "code",
   "execution_count": 2,
   "id": "engaging-intelligence",
   "metadata": {},
   "outputs": [
    {
     "name": "stdout",
     "output_type": "stream",
     "text": [
      "Training Random Forest model to predict remaining transient demand...\n",
      "Model ready.\n",
      "\n",
      "R² score on test set (stay dates Aug 1 - Aug 31, 2017):                        0.679\n",
      "MAE (Mean Absolute Error) score on test set (stay dates Aug 1 - Aug 31, 2017): 2.614\n",
      "MSE (Mean Squared Error) score on test set (stay dates Aug 1 - Aug 31, 2017):  10.153\n",
      "\n",
      "Calculating optimal selling prices...\n",
      "\n",
      "Average recommended price change...                                            43.19\n",
      "Estimated RN (Roomnight) growth after implementing price recommendations...    0.03\n",
      "Estimated revenue growth after implementing price recommendations...           8443.46\n",
      "Simulation ready.\n",
      "\n"
     ]
    }
   ],
   "source": [
    "df_pricing = recommend_pricing(1, df_sim, as_of_date)"
   ]
  },
  {
   "cell_type": "code",
   "execution_count": 3,
   "id": "running-yugoslavia",
   "metadata": {},
   "outputs": [
    {
     "data": {
      "text/plain": [
       "213.5983870967742"
      ]
     },
     "execution_count": 3,
     "metadata": {},
     "output_type": "execute_result"
    }
   ],
   "source": [
    "df_pricing.SellingPrice.mean()"
   ]
  },
  {
   "cell_type": "markdown",
   "id": "funded-methodology",
   "metadata": {},
   "source": [
    "## Results\n",
    "\n",
    "In predicting remaining demand, our mean absolute error comes down to "
   ]
  },
  {
   "cell_type": "code",
   "execution_count": 4,
   "id": "willing-appraisal",
   "metadata": {},
   "outputs": [
    {
     "data": {
      "text/plain": [
       "['id',\n",
       " 'DOW',\n",
       " 'RoomsOTB',\n",
       " 'RevOTB',\n",
       " 'CxlForecast',\n",
       " 'TRN_RoomsOTB',\n",
       " 'TRN_RevOTB',\n",
       " 'TRN_CxlForecast',\n",
       " 'TRNP_RoomsOTB',\n",
       " 'GRP_RoomsOTB',\n",
       " 'CNT_RoomsOTB',\n",
       " 'StayDate',\n",
       " 'STLY_StayDate',\n",
       " 'DaysUntilArrival',\n",
       " 'Realized_Cxls',\n",
       " 'SellingPrice',\n",
       " 'TM30_RoomsOTB',\n",
       " 'TM30_RevOTB',\n",
       " 'TM30_TRN_RoomsOTB',\n",
       " 'TM30_TRN_RevOTB',\n",
       " 'TM15_RoomsOTB',\n",
       " 'TM15_RevOTB',\n",
       " 'TM15_TRN_RoomsOTB',\n",
       " 'TM15_TRN_RevOTB',\n",
       " 'TM05_RoomsOTB',\n",
       " 'TM05_RevOTB',\n",
       " 'TM05_TRN_RoomsOTB',\n",
       " 'TM05_TRN_RevOTB',\n",
       " 'AsOfDate',\n",
       " 'STLY_AsOfDate',\n",
       " 'RemSupply',\n",
       " 'ADR_OTB',\n",
       " 'TRN_ADR_OTB',\n",
       " 'LYA_RoomsSold',\n",
       " 'LYA_ADR',\n",
       " 'LYA_RoomRev',\n",
       " 'LYA_NumCancels',\n",
       " 'LYA_TRN_RoomsSold',\n",
       " 'LYA_TRN_ADR',\n",
       " 'LYA_TRN_RoomRev',\n",
       " 'ACTUAL_RoomsSold',\n",
       " 'ACTUAL_ADR',\n",
       " 'ACTUAL_RoomRev',\n",
       " 'ACTUAL_TRN_RoomsSold',\n",
       " 'ACTUAL_TRN_ADR',\n",
       " 'ACTUAL_TRN_RoomRev',\n",
       " 'ACTUAL_NumCancels',\n",
       " 'ACTUAL_RoomsPickup',\n",
       " 'ACTUAL_ADR_Pickup',\n",
       " 'ACTUAL_RevPickup',\n",
       " 'ACTUAL_TRN_RoomsPickup',\n",
       " 'ACTUAL_TRN_ADR_Pickup',\n",
       " 'ACTUAL_TRN_RevPickup',\n",
       " 'MonthNum',\n",
       " 'DayOfWeek',\n",
       " 'Mon',\n",
       " 'Sat',\n",
       " 'Sun',\n",
       " 'Thu',\n",
       " 'Tue',\n",
       " 'Wed',\n",
       " 'WE',\n",
       " 'week_of_year',\n",
       " 'TM30_ADR_OTB',\n",
       " 'TM30_RoomsPickup',\n",
       " 'TM30_RevPickup',\n",
       " 'TM30_ADR_Pickup',\n",
       " 'TM30_TRN_ADR_OTB',\n",
       " 'TM30_TRN_RoomsPickup',\n",
       " 'TM30_TRN_RevPickup',\n",
       " 'TM30_TRN_ADR_Pickup',\n",
       " 'TM15_ADR_OTB',\n",
       " 'TM15_RoomsPickup',\n",
       " 'TM15_RevPickup',\n",
       " 'TM15_ADR_Pickup',\n",
       " 'TM15_TRN_ADR_OTB',\n",
       " 'TM15_TRN_RoomsPickup',\n",
       " 'TM15_TRN_RevPickup',\n",
       " 'TM15_TRN_ADR_Pickup',\n",
       " 'TM05_ADR_OTB',\n",
       " 'TM05_RoomsPickup',\n",
       " 'TM05_RevPickup',\n",
       " 'TM05_ADR_Pickup',\n",
       " 'TM05_TRN_ADR_OTB',\n",
       " 'TM05_TRN_RoomsPickup',\n",
       " 'TM05_TRN_RevPickup',\n",
       " 'TM05_TRN_ADR_Pickup',\n",
       " 'OTB_GapToLYA_RoomsSold',\n",
       " 'OTB_GapToLYA_ADR',\n",
       " 'OTB_GapToLYA_RoomRev',\n",
       " 'OTB_GapToLYA_NumCancels',\n",
       " 'OTB_GapToLYA_TRN_RoomsSold',\n",
       " 'OTB_GapToLYA_TRN_ADR',\n",
       " 'OTB_GapToLYA_TRN_RoomRev',\n",
       " 'id_STLY',\n",
       " 'AsOfDate_STLY',\n",
       " 'StayDate_STLY',\n",
       " 'RoomsOTB_STLY',\n",
       " 'ADR_OTB_STLY',\n",
       " 'RevOTB_STLY',\n",
       " 'ACTUAL_RoomsPickup_STLY',\n",
       " 'ACTUAL_ADR_Pickup_STLY',\n",
       " 'ACTUAL_RevPickup_STLY',\n",
       " 'CxlForecast_STLY',\n",
       " 'RemSupply_STLY',\n",
       " 'SellingPrice_STLY',\n",
       " 'Realized_Cxls_STLY',\n",
       " 'TRN_RoomsOTB_STLY',\n",
       " 'TRN_ADR_OTB_STLY',\n",
       " 'TRN_RevOTB_STLY',\n",
       " 'TRN_CxlForecast_STLY',\n",
       " 'ACTUAL_TRN_RoomsPickup_STLY',\n",
       " 'ACTUAL_TRN_ADR_Pickup_STLY',\n",
       " 'ACTUAL_TRN_RevPickup_STLY',\n",
       " 'TM30_RoomsPickup_STLY',\n",
       " 'TM30_ADR_Pickup_STLY',\n",
       " 'TM30_RevPickup_STLY',\n",
       " 'TM30_TRN_RoomsPickup_STLY',\n",
       " 'TM30_TRN_ADR_Pickup_STLY',\n",
       " 'TM30_TRN_RevPickup_STLY',\n",
       " 'TM15_RoomsPickup_STLY',\n",
       " 'TM15_ADR_Pickup_STLY',\n",
       " 'TM15_RevPickup_STLY',\n",
       " 'TM15_TRN_RoomsPickup_STLY',\n",
       " 'TM15_TRN_ADR_Pickup_STLY',\n",
       " 'TM15_TRN_RevPickup_STLY',\n",
       " 'TM05_RoomsPickup_STLY',\n",
       " 'TM05_ADR_Pickup_STLY',\n",
       " 'TM05_RevPickup_STLY',\n",
       " 'TM05_TRN_RoomsPickup_STLY',\n",
       " 'TM05_TRN_ADR_Pickup_STLY',\n",
       " 'TM05_TRN_RevPickup_STLY',\n",
       " 'Pace_RoomsOTB',\n",
       " 'Pace_ADR_OTB',\n",
       " 'Pace_RevOTB',\n",
       " 'Pace_CxlForecast',\n",
       " 'Pace_RemSupply',\n",
       " 'Pace_SellingPrice',\n",
       " 'Pace_TRN_RoomsOTB',\n",
       " 'Pace_TRN_ADR_OTB',\n",
       " 'Pace_TRN_RevOTB',\n",
       " 'Pace_TRN_CxlForecast',\n",
       " 'Pace_TM30_RoomsPickup',\n",
       " 'Pace_TM30_ADR_Pickup',\n",
       " 'Pace_TM30_RevPickup',\n",
       " 'Pace_TM30_TRN_RoomsPickup',\n",
       " 'Pace_TM30_TRN_ADR_Pickup',\n",
       " 'Pace_TM30_TRN_RevPickup',\n",
       " 'Pace_TM15_RoomsPickup',\n",
       " 'Pace_TM15_ADR_Pickup',\n",
       " 'Pace_TM15_RevPickup',\n",
       " 'Pace_TM15_TRN_RoomsPickup',\n",
       " 'Pace_TM15_TRN_ADR_Pickup',\n",
       " 'Pace_TM15_TRN_RevPickup',\n",
       " 'Pace_TM05_RoomsPickup',\n",
       " 'Pace_TM05_ADR_Pickup',\n",
       " 'Pace_TM05_RevPickup',\n",
       " 'Pace_TM05_TRN_RoomsPickup',\n",
       " 'Pace_TM05_TRN_ADR_Pickup',\n",
       " 'Pace_TM05_TRN_RevPickup',\n",
       " 'Proj_TRN_RemDemand',\n",
       " 'OptimalRate',\n",
       " 'TRN_rnPU_AtOptimal',\n",
       " 'TRN_RevPU_AtOptimal',\n",
       " 'TRN_rnPU_AtOriginal',\n",
       " 'TRN_RN_ProjVsActual_OP',\n",
       " 'TRN_RevPU_AtOriginal',\n",
       " 'TRN_RevProjVsActual_OP',\n",
       " 'RecommendedPriceChange',\n",
       " 'ProjRN_Improvement',\n",
       " 'ProjRevImprovement',\n",
       " 'ACTUAL_Occ',\n",
       " 'TotalProjRoomsSold',\n",
       " 'Proj_Occ']"
      ]
     },
     "execution_count": 4,
     "metadata": {},
     "output_type": "execute_result"
    }
   ],
   "source": [
    "[c for c in df_pricing.columns]"
   ]
  },
  {
   "cell_type": "code",
   "execution_count": 5,
   "id": "cubic-austria",
   "metadata": {},
   "outputs": [
    {
     "ename": "KeyError",
     "evalue": "\"['Proj_TRN_RoomsPickup', 'TRN_RevPickupAtOriginal', 'ProjRevOpportunity', 'TRN_RevPickupAtOptimal'] not in index\"",
     "output_type": "error",
     "traceback": [
      "\u001b[0;31m---------------------------------------------------------------------------\u001b[0m",
      "\u001b[0;31mKeyError\u001b[0m                                  Traceback (most recent call last)",
      "\u001b[0;32m<ipython-input-5-9de3766d99ee>\u001b[0m in \u001b[0;36m<module>\u001b[0;34m\u001b[0m\n\u001b[1;32m      2\u001b[0m             \u001b[0;34m\"Proj_TRN_RoomsPickup\"\u001b[0m\u001b[0;34m,\u001b[0m \u001b[0;34m\"SellingPrice\"\u001b[0m\u001b[0;34m,\u001b[0m \u001b[0;34m\"OptimalRate\"\u001b[0m\u001b[0;34m,\u001b[0m\u001b[0;34m\u001b[0m\u001b[0;34m\u001b[0m\u001b[0m\n\u001b[1;32m      3\u001b[0m             \u001b[0;34m\"TRN_RevPickupAtOriginal\"\u001b[0m\u001b[0;34m,\u001b[0m\u001b[0;34m\"TRN_RevPickupAtOptimal\"\u001b[0m\u001b[0;34m,\u001b[0m\u001b[0;34m\"ACTUAL_TRN_RoomsPickup\"\u001b[0m\u001b[0;34m,\u001b[0m\u001b[0;34m\u001b[0m\u001b[0;34m\u001b[0m\u001b[0m\n\u001b[0;32m----> 4\u001b[0;31m             \"ACTUAL_TRN_RevPickup\", \"RecommendedPriceChange\", \"ProjRevOpportunity\"]].copy()\n\u001b[0m\u001b[1;32m      5\u001b[0m \u001b[0msmaller_df\u001b[0m\u001b[0;34m.\u001b[0m\u001b[0mhead\u001b[0m\u001b[0;34m(\u001b[0m\u001b[0;36m3\u001b[0m\u001b[0;34m)\u001b[0m\u001b[0;34m\u001b[0m\u001b[0;34m\u001b[0m\u001b[0m\n",
      "\u001b[0;32m/opt/conda/lib/python3.7/site-packages/pandas/core/frame.py\u001b[0m in \u001b[0;36m__getitem__\u001b[0;34m(self, key)\u001b[0m\n\u001b[1;32m   3028\u001b[0m             \u001b[0;32mif\u001b[0m \u001b[0mis_iterator\u001b[0m\u001b[0;34m(\u001b[0m\u001b[0mkey\u001b[0m\u001b[0;34m)\u001b[0m\u001b[0;34m:\u001b[0m\u001b[0;34m\u001b[0m\u001b[0;34m\u001b[0m\u001b[0m\n\u001b[1;32m   3029\u001b[0m                 \u001b[0mkey\u001b[0m \u001b[0;34m=\u001b[0m \u001b[0mlist\u001b[0m\u001b[0;34m(\u001b[0m\u001b[0mkey\u001b[0m\u001b[0;34m)\u001b[0m\u001b[0;34m\u001b[0m\u001b[0;34m\u001b[0m\u001b[0m\n\u001b[0;32m-> 3030\u001b[0;31m             \u001b[0mindexer\u001b[0m \u001b[0;34m=\u001b[0m \u001b[0mself\u001b[0m\u001b[0;34m.\u001b[0m\u001b[0mloc\u001b[0m\u001b[0;34m.\u001b[0m\u001b[0m_get_listlike_indexer\u001b[0m\u001b[0;34m(\u001b[0m\u001b[0mkey\u001b[0m\u001b[0;34m,\u001b[0m \u001b[0maxis\u001b[0m\u001b[0;34m=\u001b[0m\u001b[0;36m1\u001b[0m\u001b[0;34m,\u001b[0m \u001b[0mraise_missing\u001b[0m\u001b[0;34m=\u001b[0m\u001b[0;32mTrue\u001b[0m\u001b[0;34m)\u001b[0m\u001b[0;34m[\u001b[0m\u001b[0;36m1\u001b[0m\u001b[0;34m]\u001b[0m\u001b[0;34m\u001b[0m\u001b[0;34m\u001b[0m\u001b[0m\n\u001b[0m\u001b[1;32m   3031\u001b[0m \u001b[0;34m\u001b[0m\u001b[0m\n\u001b[1;32m   3032\u001b[0m         \u001b[0;31m# take() does not accept boolean indexers\u001b[0m\u001b[0;34m\u001b[0m\u001b[0;34m\u001b[0m\u001b[0;34m\u001b[0m\u001b[0m\n",
      "\u001b[0;32m/opt/conda/lib/python3.7/site-packages/pandas/core/indexing.py\u001b[0m in \u001b[0;36m_get_listlike_indexer\u001b[0;34m(self, key, axis, raise_missing)\u001b[0m\n\u001b[1;32m   1264\u001b[0m             \u001b[0mkeyarr\u001b[0m\u001b[0;34m,\u001b[0m \u001b[0mindexer\u001b[0m\u001b[0;34m,\u001b[0m \u001b[0mnew_indexer\u001b[0m \u001b[0;34m=\u001b[0m \u001b[0max\u001b[0m\u001b[0;34m.\u001b[0m\u001b[0m_reindex_non_unique\u001b[0m\u001b[0;34m(\u001b[0m\u001b[0mkeyarr\u001b[0m\u001b[0;34m)\u001b[0m\u001b[0;34m\u001b[0m\u001b[0;34m\u001b[0m\u001b[0m\n\u001b[1;32m   1265\u001b[0m \u001b[0;34m\u001b[0m\u001b[0m\n\u001b[0;32m-> 1266\u001b[0;31m         \u001b[0mself\u001b[0m\u001b[0;34m.\u001b[0m\u001b[0m_validate_read_indexer\u001b[0m\u001b[0;34m(\u001b[0m\u001b[0mkeyarr\u001b[0m\u001b[0;34m,\u001b[0m \u001b[0mindexer\u001b[0m\u001b[0;34m,\u001b[0m \u001b[0maxis\u001b[0m\u001b[0;34m,\u001b[0m \u001b[0mraise_missing\u001b[0m\u001b[0;34m=\u001b[0m\u001b[0mraise_missing\u001b[0m\u001b[0;34m)\u001b[0m\u001b[0;34m\u001b[0m\u001b[0;34m\u001b[0m\u001b[0m\n\u001b[0m\u001b[1;32m   1267\u001b[0m         \u001b[0;32mreturn\u001b[0m \u001b[0mkeyarr\u001b[0m\u001b[0;34m,\u001b[0m \u001b[0mindexer\u001b[0m\u001b[0;34m\u001b[0m\u001b[0;34m\u001b[0m\u001b[0m\n\u001b[1;32m   1268\u001b[0m \u001b[0;34m\u001b[0m\u001b[0m\n",
      "\u001b[0;32m/opt/conda/lib/python3.7/site-packages/pandas/core/indexing.py\u001b[0m in \u001b[0;36m_validate_read_indexer\u001b[0;34m(self, key, indexer, axis, raise_missing)\u001b[0m\n\u001b[1;32m   1314\u001b[0m             \u001b[0;32mif\u001b[0m \u001b[0mraise_missing\u001b[0m\u001b[0;34m:\u001b[0m\u001b[0;34m\u001b[0m\u001b[0;34m\u001b[0m\u001b[0m\n\u001b[1;32m   1315\u001b[0m                 \u001b[0mnot_found\u001b[0m \u001b[0;34m=\u001b[0m \u001b[0mlist\u001b[0m\u001b[0;34m(\u001b[0m\u001b[0mset\u001b[0m\u001b[0;34m(\u001b[0m\u001b[0mkey\u001b[0m\u001b[0;34m)\u001b[0m \u001b[0;34m-\u001b[0m \u001b[0mset\u001b[0m\u001b[0;34m(\u001b[0m\u001b[0max\u001b[0m\u001b[0;34m)\u001b[0m\u001b[0;34m)\u001b[0m\u001b[0;34m\u001b[0m\u001b[0;34m\u001b[0m\u001b[0m\n\u001b[0;32m-> 1316\u001b[0;31m                 \u001b[0;32mraise\u001b[0m \u001b[0mKeyError\u001b[0m\u001b[0;34m(\u001b[0m\u001b[0;34mf\"{not_found} not in index\"\u001b[0m\u001b[0;34m)\u001b[0m\u001b[0;34m\u001b[0m\u001b[0;34m\u001b[0m\u001b[0m\n\u001b[0m\u001b[1;32m   1317\u001b[0m \u001b[0;34m\u001b[0m\u001b[0m\n\u001b[1;32m   1318\u001b[0m             \u001b[0mnot_found\u001b[0m \u001b[0;34m=\u001b[0m \u001b[0mkey\u001b[0m\u001b[0;34m[\u001b[0m\u001b[0mmissing_mask\u001b[0m\u001b[0;34m]\u001b[0m\u001b[0;34m\u001b[0m\u001b[0;34m\u001b[0m\u001b[0m\n",
      "\u001b[0;31mKeyError\u001b[0m: \"['Proj_TRN_RoomsPickup', 'TRN_RevPickupAtOriginal', 'ProjRevOpportunity', 'TRN_RevPickupAtOptimal'] not in index\""
     ]
    }
   ],
   "source": [
    "smaller_df = df_pricing[[\"StayDate\", \"DOW\", \"RemSupply\", \"RemSupply_STLY\",\n",
    "            \"Proj_TRN_RoomsPickup\", \"SellingPrice\", \"OptimalRate\",\n",
    "            \"TRN_RevPickupAtOriginal\",\"TRN_RevPickupAtOptimal\",\"ACTUAL_TRN_RoomsPickup\", \n",
    "            \"ACTUAL_TRN_RevPickup\", \"RecommendedPriceChange\", \"ProjRevOpportunity\"]].copy()\n",
    "smaller_df.head(3)"
   ]
  },
  {
   "cell_type": "code",
   "execution_count": null,
   "id": "federal-nylon",
   "metadata": {},
   "outputs": [],
   "source": [
    "smaller_df[[\"StayDate\", \"DOW\", \"Proj_TRN_RoomsPickup\", \"ACTUAL_TRN_RoomsPickup\", \"Occ\"]]"
   ]
  },
  {
   "cell_type": "code",
   "execution_count": null,
   "id": "accompanied-blackberry",
   "metadata": {},
   "outputs": [],
   "source": []
  }
 ],
 "metadata": {
  "kernelspec": {
   "display_name": "Python 3",
   "language": "python",
   "name": "python3"
  },
  "language_info": {
   "codemirror_mode": {
    "name": "ipython",
    "version": 3
   },
   "file_extension": ".py",
   "mimetype": "text/x-python",
   "name": "python",
   "nbconvert_exporter": "python",
   "pygments_lexer": "ipython3",
   "version": "3.7.9"
  }
 },
 "nbformat": 4,
 "nbformat_minor": 5
}
