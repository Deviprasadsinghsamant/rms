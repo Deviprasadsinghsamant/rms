{
 "cells": [
  {
   "cell_type": "markdown",
   "id": "polar-going",
   "metadata": {},
   "source": [
    "### Demand Prediction - Workflow\n",
    "\n",
    "**Simulation start date: 2017-08-01**\n",
    "\n",
    "We should have 91 samples per as-of-date. as_of_dates start at 2016-08-01 and end on the day before the simulation date. Total sample size of about 30k per hotel\n",
    "\n",
    "The dataset starts at 2015-07-01, but we need 1 year of actuals in order to have all of our features.\n",
    "    * e.g. pace vs. same time last year (STLY)\n",
    "\n",
    "**Train/Test Split**\n",
    "* training stay dates must stop before as_of_date. all stay dates beginning on as_of_date will be our test/sim set)\n",
    "\n",
    "\n",
    "## This involves two runs of save_sims.py.\n",
    "\n",
    "**First run: without STLY/LY, starting on 2015-08-01.**\n",
    "\n",
    "**Second run: SAVE TO DIFFERENT FOLDER!! Include STLY & LY, starting on 2016-08-01.**\n",
    "\n",
    "**Questions for Vinny**\n",
    "* does above logic work\n",
    "* should I have time features (other than DOW) - actual dates, weeknum, etc.?\n"
   ]
  },
  {
   "cell_type": "code",
   "execution_count": null,
   "id": "hybrid-oxygen",
   "metadata": {},
   "outputs": [],
   "source": []
  }
 ],
 "metadata": {
  "kernelspec": {
   "display_name": "Python 3",
   "language": "python",
   "name": "python3"
  },
  "language_info": {
   "codemirror_mode": {
    "name": "ipython",
    "version": 3
   },
   "file_extension": ".py",
   "mimetype": "text/x-python",
   "name": "python",
   "nbconvert_exporter": "python",
   "pygments_lexer": "ipython3",
   "version": "3.8.6"
  }
 },
 "nbformat": 4,
 "nbformat_minor": 5
}
