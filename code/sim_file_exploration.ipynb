{
 "cells": [
  {
   "cell_type": "code",
   "execution_count": 1,
   "id": "excessive-bloom",
   "metadata": {},
   "outputs": [],
   "source": [
    "import pandas as pd\n",
    "import numpy as np\n",
    "import datetime\n",
    "from sim import generate_simulation\n",
    "from model_cancellations import get_otb_res, predict_cancellations\n",
    "\n",
    "pd.options.display.max_rows = 150\n",
    "pd.options.display.max_columns = 150"
   ]
  },
  {
   "cell_type": "code",
   "execution_count": 2,
   "id": "exotic-grass",
   "metadata": {},
   "outputs": [],
   "source": [
    "DATE_FMT = \"%Y-%m-%d\"\n",
    "h1_capacity = 187\n",
    "h2_capacity = 226\n",
    "AOD = \"2016-07-01\"\n",
    "AOD_dt = pd.to_datetime(AOD)\n",
    "\n",
    "h1_res = pd.read_pickle(\"pickle/h1_res.pick\")\n",
    "h2_res = pd.read_pickle(\"pickle/h2_res.pick\")\n",
    "h1_dbd = pd.read_pickle(\"pickle/h1_dbd.pick\")\n",
    "h2_dbd = pd.read_pickle(\"pickle/h2_dbd.pick\")\n",
    "# h1_sim = pd.read_pickle(\"pickle/h1_sim.pick\")\n",
    "# h2_sim = pd.read_pickle(\"pickle/h2_sim.pick\")"
   ]
  },
  {
   "cell_type": "code",
   "execution_count": 11,
   "id": "broadband-constant",
   "metadata": {},
   "outputs": [],
   "source": [
    "df_otb = pd.read_csv(\"sims/h1_sim_2016-08-02.csv\", parse_dates=[\"Date\", \"TM05_Date\", \"TM15_Date\", \"TM30_Date\", \"STLY_Date\", \"WeekEndDate\"])\n",
    "df_otb.drop(columns={\"Unnamed: 0\": 'Date'}, inplace=True, errors='ignore')\n",
    "df_otb.index = df_otb.Date"
   ]
  },
  {
   "cell_type": "code",
   "execution_count": 12,
   "id": "interracial-lounge",
   "metadata": {},
   "outputs": [
    {
     "data": {
      "text/plain": [
       "Index(['DOW', 'RoomsOTB', 'RevOTB', 'CxlForecast', 'Trn_RoomsOTB',\n",
       "       'Trn_RevOTB', 'Trn_CxlForecast', 'TrnP_RoomsOTB', 'TrnP_RevOTB',\n",
       "       'TrnP_CxlForecast', 'Cnt_RoomsOTB', 'Cnt_RevOTB', 'Cnt_CxlForecast',\n",
       "       'Grp_RoomsOTB', 'Grp_RevOTB', 'Grp_CxlForecast', 'Date', 'TM05_Date',\n",
       "       'TM15_Date', 'TM30_Date', 'WeekEndDate', 'WE', 'WD', 'STLY_Date', 'Occ',\n",
       "       'RevPAR', 'RemSupply', 'ADR_OTB', 'Trn_ADR_OTB', 'TrnP_ADR_OTB',\n",
       "       'Grp_ADR_OTB', 'Cnt_ADR_OTB', 'LYA_RoomsSold', 'LYA_ADR', 'LYA_RoomRev',\n",
       "       'LYA_RevPAR', 'LYA_NumCancels', 'SellingPrice', 'TM05_RoomsOTB',\n",
       "       'TM05_ADR', 'TM05_TRN_OTB', 'TM05_TRN_ADR', 'TM05_TRNP_OTB',\n",
       "       'TM05_TRNP_ADR', 'TM05_GRP_OTB', 'TM05_GRP_ADR', 'TM05_CNT_OTB',\n",
       "       'TM05_CNT_ADR', 'TM15_RoomsOTB', 'TM15_ADR', 'TM15_TRN_OTB',\n",
       "       'TM15_TRN_ADR', 'TM15_TRNP_OTB', 'TM15_TRNP_ADR', 'TM15_GRP_OTB',\n",
       "       'TM15_GRP_ADR', 'TM15_CNT_OTB', 'TM15_CNT_ADR', 'TM30_RoomsOTB',\n",
       "       'TM30_ADR', 'TM30_TRN_OTB', 'TM30_TRN_ADR', 'TM30_TRNP_OTB',\n",
       "       'TM30_TRNP_ADR', 'TM30_GRP_OTB', 'TM30_GRP_ADR', 'TM30_CNT_OTB',\n",
       "       'TM30_CNT_ADR'],\n",
       "      dtype='object')"
      ]
     },
     "execution_count": 12,
     "metadata": {},
     "output_type": "execute_result"
    }
   ],
   "source": [
    "df_otb.columns"
   ]
  },
  {
   "cell_type": "code",
   "execution_count": 15,
   "id": "limited-luther",
   "metadata": {},
   "outputs": [
    {
     "data": {
      "text/plain": [
       "Date\n",
       "2016-08-02   2016-08-02\n",
       "2016-08-03   2016-08-03\n",
       "2016-08-04   2016-08-04\n",
       "2016-08-05   2016-08-05\n",
       "2016-08-06   2016-08-06\n",
       "2016-08-07   2016-08-07\n",
       "2016-08-08   2016-08-08\n",
       "2016-08-09   2016-08-09\n",
       "2016-08-10   2016-08-10\n",
       "2016-08-11   2016-08-11\n",
       "2016-08-12   2016-08-12\n",
       "2016-08-13   2016-08-13\n",
       "2016-08-14   2016-08-14\n",
       "2016-08-15   2016-08-15\n",
       "2016-08-16   2016-08-16\n",
       "2016-08-17   2016-08-17\n",
       "2016-08-18   2016-08-18\n",
       "2016-08-19   2016-08-19\n",
       "2016-08-20   2016-08-20\n",
       "2016-08-21   2016-08-21\n",
       "2016-08-22   2016-08-22\n",
       "2016-08-23   2016-08-23\n",
       "2016-08-24   2016-08-24\n",
       "2016-08-25   2016-08-25\n",
       "2016-08-26   2016-08-26\n",
       "2016-08-27   2016-08-27\n",
       "2016-08-28   2016-08-28\n",
       "2016-08-29   2016-08-29\n",
       "2016-08-30   2016-08-30\n",
       "2016-08-31   2016-08-31\n",
       "2016-09-01   2016-09-01\n",
       "2016-09-02   2016-09-02\n",
       "Name: Date, dtype: datetime64[ns]"
      ]
     },
     "execution_count": 15,
     "metadata": {},
     "output_type": "execute_result"
    }
   ],
   "source": [
    "df_otb.Date"
   ]
  },
  {
   "cell_type": "code",
   "execution_count": null,
   "id": "respective-turner",
   "metadata": {},
   "outputs": [],
   "source": []
  }
 ],
 "metadata": {
  "kernelspec": {
   "display_name": "Python 3",
   "language": "python",
   "name": "python3"
  },
  "language_info": {
   "codemirror_mode": {
    "name": "ipython",
    "version": 3
   },
   "file_extension": ".py",
   "mimetype": "text/x-python",
   "name": "python",
   "nbconvert_exporter": "python",
   "pygments_lexer": "ipython3",
   "version": "3.8.6"
  }
 },
 "nbformat": 4,
 "nbformat_minor": 5
}
