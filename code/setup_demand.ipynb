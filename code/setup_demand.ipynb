{
 "cells": [
  {
   "cell_type": "code",
   "execution_count": 1,
   "id": "motivated-independence",
   "metadata": {},
   "outputs": [],
   "source": [
    "import numpy as np\n",
    "import matplotlib.pyplot as plt\n",
    "import pandas as pd\n",
    "import math\n",
    "from keras.models import Sequential\n",
    "from keras.layers import Dense\n",
    "from keras.layers import LSTM\n",
    "from sklearn.preprocessing import MinMaxScaler\n",
    "from sklearn.metrics import mean_squared_error\n",
    "\n",
    "pd.options.display.max_rows = 60\n",
    "pd.options.display.max_columns = 70"
   ]
  },
  {
   "cell_type": "code",
   "execution_count": 2,
   "id": "alpha-psychiatry",
   "metadata": {},
   "outputs": [],
   "source": [
    "from sim import generate_simulation"
   ]
  },
  {
   "cell_type": "code",
   "execution_count": 3,
   "id": "advance-formation",
   "metadata": {},
   "outputs": [],
   "source": [
    "np.random.seed(22)"
   ]
  },
  {
   "cell_type": "code",
   "execution_count": 4,
   "id": "prompt-malpractice",
   "metadata": {},
   "outputs": [],
   "source": [
    "h1_res = pd.read_pickle(\"pickle/h1_res.pick\")\n",
    "h2_res = pd.read_pickle(\"pickle/h2_res.pick\")\n",
    "h1_dbd = pd.read_pickle(\"pickle/h1_dbd.pick\")\n",
    "h2_dbd = pd.read_pickle(\"pickle/h2_dbd.pick\")"
   ]
  },
  {
   "cell_type": "code",
   "execution_count": 5,
   "id": "first-pacific",
   "metadata": {},
   "outputs": [
    {
     "ename": "NameError",
     "evalue": "name 'h1_sim' is not defined",
     "output_type": "error",
     "traceback": [
      "\u001b[0;31m---------------------------------------------------------------------------\u001b[0m",
      "\u001b[0;31mNameError\u001b[0m                                 Traceback (most recent call last)",
      "\u001b[0;32m<ipython-input-5-e725fbd32c14>\u001b[0m in \u001b[0;36m<module>\u001b[0;34m\u001b[0m\n\u001b[0;32m----> 1\u001b[0;31m \u001b[0mh1_sim\u001b[0m\u001b[0;34m[\u001b[0m\u001b[0;34m[\u001b[0m\u001b[0;34m\"AU_RoomsSold\"\u001b[0m\u001b[0;34m,\u001b[0m \u001b[0;34m\"AU_ADR\"\u001b[0m\u001b[0;34m,\u001b[0m \u001b[0;34m\"AU_RoomRev\"\u001b[0m\u001b[0;34m,\u001b[0m \u001b[0;34m\"AU_RevPAR\"\u001b[0m\u001b[0;34m]\u001b[0m\u001b[0;34m]\u001b[0m \u001b[0;34m=\u001b[0m\u001b[0;31m\\\u001b[0m\u001b[0;34m\u001b[0m\u001b[0;34m\u001b[0m\u001b[0m\n\u001b[0m\u001b[1;32m      2\u001b[0m \u001b[0mh1_dbd\u001b[0m\u001b[0;34m.\u001b[0m\u001b[0mloc\u001b[0m\u001b[0;34m[\u001b[0m\u001b[0;34m'2017-08-01'\u001b[0m\u001b[0;34m:\u001b[0m\u001b[0;34m,\u001b[0m \u001b[0;34m[\u001b[0m\u001b[0;34m\"RoomsSold\"\u001b[0m\u001b[0;34m,\u001b[0m \u001b[0;34m\"ADR\"\u001b[0m\u001b[0;34m,\u001b[0m \u001b[0;34m\"RoomRev\"\u001b[0m\u001b[0;34m,\u001b[0m \u001b[0;34m\"RevPAR\"\u001b[0m\u001b[0;34m]\u001b[0m\u001b[0;34m]\u001b[0m\u001b[0;34m\u001b[0m\u001b[0;34m\u001b[0m\u001b[0m\n\u001b[1;32m      3\u001b[0m \u001b[0;34m\u001b[0m\u001b[0m\n\u001b[1;32m      4\u001b[0m \u001b[0mh2_sim\u001b[0m\u001b[0;34m[\u001b[0m\u001b[0;34m[\u001b[0m\u001b[0;34m\"AU_RoomsSold\"\u001b[0m\u001b[0;34m,\u001b[0m \u001b[0;34m\"AU_ADR\"\u001b[0m\u001b[0;34m,\u001b[0m \u001b[0;34m\"AU_RoomRev\"\u001b[0m\u001b[0;34m,\u001b[0m \u001b[0;34m\"AU_RevPAR\"\u001b[0m\u001b[0;34m]\u001b[0m\u001b[0;34m]\u001b[0m \u001b[0;34m=\u001b[0m\u001b[0;31m\\\u001b[0m\u001b[0;34m\u001b[0m\u001b[0;34m\u001b[0m\u001b[0m\n\u001b[1;32m      5\u001b[0m \u001b[0mh2_dbd\u001b[0m\u001b[0;34m.\u001b[0m\u001b[0mloc\u001b[0m\u001b[0;34m[\u001b[0m\u001b[0;34m'2017-08-01'\u001b[0m\u001b[0;34m:\u001b[0m\u001b[0;34m,\u001b[0m \u001b[0;34m[\u001b[0m\u001b[0;34m\"RoomsSold\"\u001b[0m\u001b[0;34m,\u001b[0m \u001b[0;34m\"ADR\"\u001b[0m\u001b[0;34m,\u001b[0m \u001b[0;34m\"RoomRev\"\u001b[0m\u001b[0;34m,\u001b[0m \u001b[0;34m\"RevPAR\"\u001b[0m\u001b[0;34m]\u001b[0m\u001b[0;34m]\u001b[0m\u001b[0;34m\u001b[0m\u001b[0;34m\u001b[0m\u001b[0m\n",
      "\u001b[0;31mNameError\u001b[0m: name 'h1_sim' is not defined"
     ]
    }
   ],
   "source": [
    "h1_sim[[\"AU_RoomsSold\", \"AU_ADR\", \"AU_RoomRev\", \"AU_RevPAR\"]] =\\\n",
    "h1_dbd.loc['2017-08-01':, [\"RoomsSold\", \"ADR\", \"RoomRev\", \"RevPAR\"]]\n",
    "\n",
    "h2_sim[[\"AU_RoomsSold\", \"AU_ADR\", \"AU_RoomRev\", \"AU_RevPAR\"]] =\\\n",
    "h2_dbd.loc['2017-08-01':, [\"RoomsSold\", \"ADR\", \"RoomRev\", \"RevPAR\"]]"
   ]
  },
  {
   "cell_type": "code",
   "execution_count": null,
   "id": "vocational-joshua",
   "metadata": {},
   "outputs": [],
   "source": [
    "h1_sim.head(2)"
   ]
  },
  {
   "cell_type": "code",
   "execution_count": null,
   "id": "matched-november",
   "metadata": {},
   "outputs": [],
   "source": [
    "h1_sim[\"RoomsPace\"] = h1_sim.RoomsOTB - h1_sim.STLY_RoomsOTB"
   ]
  },
  {
   "cell_type": "code",
   "execution_count": null,
   "id": "vanilla-darwin",
   "metadata": {},
   "outputs": [],
   "source": [
    "h1_sim[\"ADR_Pace\"] = h1_sim.ADR_OTB - h1_sim.STLY_ADR_OTB"
   ]
  },
  {
   "cell_type": "code",
   "execution_count": null,
   "id": "cooked-consolidation",
   "metadata": {},
   "outputs": [],
   "source": [
    "h1_sim.columns"
   ]
  },
  {
   "cell_type": "markdown",
   "id": "magnetic-tomorrow",
   "metadata": {},
   "source": [
    "### EW- FOUND ISSUE WITH STLY - PULLING ACTUALS\n",
    "\n",
    "Solution (possible)?"
   ]
  },
  {
   "cell_type": "code",
   "execution_count": null,
   "id": "dominican-thinking",
   "metadata": {},
   "outputs": [],
   "source": [
    "h1_sim[\"LY_RoomsPickup\"] = h1_sim.LYA_RoomsSold - h1_sim.STLY_RoomsOTB\n",
    "h1_sim[\"LY_ADR_Pickup\"] = h1_sim.LYA_ADR - h1_sim.STLY_ADR_OTB\n",
    "\n",
    "h1_dbd.shape"
   ]
  },
  {
   "cell_type": "code",
   "execution_count": null,
   "id": "legislative-iraqi",
   "metadata": {},
   "outputs": [],
   "source": [
    "X_cols = ['DOW', 'RoomsOTB', 'RevOTB', 'RoomsPace', 'ADR_Pace',\n",
    "          'LY_RoomsPickup', 'LY_ADR_Pickup', 'CxlForecast','Occ',\n",
    "          'RevPAR', 'RemSupply', 'ADR_OTB', 'WE', 'WD', 'STLY_Date',\n",
    "          'STLY_RoomsOTB', 'LYA_RoomsSold', 'LYA_ADR','STLY_RevOTB',\n",
    "          'STLY_ADR_OTB', 'STLY_CxlForecast', 'STLY_RemSupply']\n",
    "\n",
    "X = h1_sim[X_cols]\n",
    "\n",
    "X.head(3)"
   ]
  },
  {
   "cell_type": "code",
   "execution_count": null,
   "id": "yellow-elite",
   "metadata": {},
   "outputs": [],
   "source": [
    "t = h1_dbd.loc[['2017-08-01']]\n",
    "t"
   ]
  },
  {
   "cell_type": "code",
   "execution_count": null,
   "id": "stunning-anatomy",
   "metadata": {},
   "outputs": [],
   "source": [
    "t.values"
   ]
  },
  {
   "cell_type": "code",
   "execution_count": null,
   "id": "secure-scholarship",
   "metadata": {},
   "outputs": [],
   "source": [
    "X.head(5)"
   ]
  },
  {
   "cell_type": "code",
   "execution_count": null,
   "id": "loose-foundation",
   "metadata": {},
   "outputs": [],
   "source": [
    "lambda"
   ]
  }
 ],
 "metadata": {
  "kernelspec": {
   "display_name": "Python 3",
   "language": "python",
   "name": "python3"
  },
  "language_info": {
   "codemirror_mode": {
    "name": "ipython",
    "version": 3
   },
   "file_extension": ".py",
   "mimetype": "text/x-python",
   "name": "python",
   "nbconvert_exporter": "python",
   "pygments_lexer": "ipython3",
   "version": "3.8.6"
  }
 },
 "nbformat": 4,
 "nbformat_minor": 5
}
