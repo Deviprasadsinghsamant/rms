{
 "cells": [
  {
   "cell_type": "markdown",
   "id": "desperate-gravity",
   "metadata": {},
   "source": [
    "# Exploring the Hotel-Level Data\n",
    "\n",
    "Here, we convert all reservations to hotel nightly sales statistics using the `parse_dates` and `res_to_stats` functions in `utils.py`.\n",
    "\n",
    "We'll start by deriving some basic information about each hotel, including:\n",
    "* **Capacity** (total number of rooms)\n",
    "* **Occupancy** (rooms sold / capacity)\n",
    "\n",
    "Then, we'll pull more statistics into the `stats` DataFrames:\n",
    "* **Revenue and Rooms Sold by Customer Segment**\n",
    "* **ADR by Customer Segment**\n",
    "\n",
    "These stats will help us understand what kind of hotels we're working with."
   ]
  },
  {
   "cell_type": "code",
   "execution_count": 1,
   "id": "preliminary-research",
   "metadata": {},
   "outputs": [],
   "source": [
    "import pandas as pd\n",
    "import numpy as np\n",
    "\n",
    "from utils import generate_hotel_dfs\n",
    "\n",
    "pd.options.display.max_rows = 30\n",
    "pd.options.display.max_columns = 60"
   ]
  },
  {
   "cell_type": "code",
   "execution_count": 2,
   "id": "ahead-change",
   "metadata": {},
   "outputs": [],
   "source": [
    "h1_res, h1_dbd = generate_hotel_dfs('../data/H1.csv')"
   ]
  },
  {
   "cell_type": "code",
   "execution_count": 3,
   "id": "opposed-grade",
   "metadata": {},
   "outputs": [],
   "source": [
    "h2_res, h2_dbd = generate_hotel_dfs('../data/H2.csv')"
   ]
  },
  {
   "cell_type": "code",
   "execution_count": 4,
   "id": "coastal-librarian",
   "metadata": {},
   "outputs": [],
   "source": [
    "# Uncomment these four lines to save results from generate_hotel_dfs to save time later\n",
    "h1_dbd.to_pickle(\"pickle/h1_dbd.pick\")\n",
    "h2_dbd.to_pickle(\"pickle/h2_dbd.pick\")\n",
    "h1_res.to_pickle(\"pickle/h1_res.pick\")\n",
    "h2_res.to_pickle(\"pickle/h2_res.pick\")\n",
    "\n",
    "# if you have already run generate_hotel_dfs and pickled the result, use this to save time.\n",
    "# h1_dbd = pd.read_pickle(\"pickle/h1_dbd.pick\")\n",
    "# h2_dbd = pd.read_pickle(\"pickle/h2_dbd.pick\")\n",
    "# h1_res = pd.read_pickle(\"pickle/h1_res.pick\")\n",
    "# h2_res = pd.read_pickle(\"pickle/h2_res.pick\")"
   ]
  },
  {
   "cell_type": "code",
   "execution_count": null,
   "id": "removed-montreal",
   "metadata": {},
   "outputs": [],
   "source": [
    "h1_res"
   ]
  },
  {
   "cell_type": "code",
   "execution_count": null,
   "id": "shaped-location",
   "metadata": {},
   "outputs": [],
   "source": [
    "h2_res"
   ]
  },
  {
   "cell_type": "code",
   "execution_count": null,
   "id": "bridal-digest",
   "metadata": {},
   "outputs": [],
   "source": [
    "h1_dbd.head()"
   ]
  },
  {
   "cell_type": "code",
   "execution_count": null,
   "id": "superior-wichita",
   "metadata": {},
   "outputs": [],
   "source": [
    "[col for col in h1_dbd.columns]"
   ]
  },
  {
   "cell_type": "code",
   "execution_count": null,
   "id": "commercial-exclusive",
   "metadata": {},
   "outputs": [],
   "source": [
    "\n",
    "h1_dbd"
   ]
  },
  {
   "cell_type": "code",
   "execution_count": null,
   "id": "arctic-shannon",
   "metadata": {},
   "outputs": [],
   "source": [
    "h1_dbd.describe()"
   ]
  },
  {
   "cell_type": "code",
   "execution_count": null,
   "id": "sustained-malta",
   "metadata": {},
   "outputs": [],
   "source": [
    "h1_dbd.fillna(0, inplace=True)"
   ]
  },
  {
   "cell_type": "markdown",
   "id": "solved-baseline",
   "metadata": {},
   "source": [
    "## Capacity\n",
    "\n",
    "EW- ADD TO UTILS.PY\n",
    "\n",
    "Based on the above tables, we can see the maximum capacity of each hotel.\n",
    "\n",
    "**H1 (Resort Hotel)'s capacity is 187 rooms.**\n",
    "\n",
    "**H2 (City Hotel)'s capacity is 226 rooms.**"
   ]
  },
  {
   "cell_type": "markdown",
   "id": "resistant-graphics",
   "metadata": {},
   "source": [
    "## Get hotel statistics\n",
    "* Occ, room rate, RevPAR, by month, by WD/WE\n",
    "    * By segment?"
   ]
  },
  {
   "cell_type": "code",
   "execution_count": null,
   "id": "treated-consciousness",
   "metadata": {},
   "outputs": [],
   "source": []
  }
 ],
 "metadata": {
  "kernelspec": {
   "display_name": "Python 3",
   "language": "python",
   "name": "python3"
  },
  "language_info": {
   "codemirror_mode": {
    "name": "ipython",
    "version": 3
   },
   "file_extension": ".py",
   "mimetype": "text/x-python",
   "name": "python",
   "nbconvert_exporter": "python",
   "pygments_lexer": "ipython3",
   "version": "3.8.6"
  }
 },
 "nbformat": 4,
 "nbformat_minor": 5
}
