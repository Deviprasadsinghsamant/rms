{
 "cells": [
  {
   "cell_type": "markdown",
   "id": "321e355e",
   "metadata": {},
   "source": [
    "# Room Price Prediction System\n",
    "This notebook allows you to predict room prices based on room details using pre-trained models."
   ]
  },
  {
   "cell_type": "markdown",
   "id": "fd0a0e48",
   "metadata": {},
   "source": [
    "## 1. Load Required Libraries and Models\n",
    "First, we'll import necessary libraries and load our pre-trained model and preprocessing components."
   ]
  },
  {
   "cell_type": "code",
   "execution_count": null,
   "id": "0a4333d7",
   "metadata": {},
   "outputs": [],
   "source": [
    "import pandas as pd\n",
    "import numpy as np\n",
    "import joblib\n",
    "from sklearn.preprocessing import StandardScaler\n",
    "import warnings\n",
    "warnings.filterwarnings('ignore')\n",
    "\n",
    "# Load the pre-trained model and preprocessing components\n",
    "try:\n",
    "    model = joblib.load('models/room_price_model.pkl')\n",
    "    scaler = joblib.load('models/feature_scaler.pkl')\n",
    "    encoder = joblib.load('models/categorical_encoder.pkl')\n",
    "except FileNotFoundError:\n",
    "    print(\"Error: Required model files not found. Please ensure the model files are in the correct location.\")"
   ]
  },
  {
   "cell_type": "markdown",
   "id": "e60507e5",
   "metadata": {},
   "source": [
    "## 2. Create Input Interface\n",
    "Define a function to collect room details from user input."
   ]
  },
  {
   "cell_type": "code",
   "execution_count": null,
   "id": "f686bc39",
   "metadata": {},
   "outputs": [],
   "source": [
    "def get_room_details():\n",
    "    \"\"\"\n",
    "    Collect room details from user input\n",
    "    \"\"\"\n",
    "    room_details = {}\n",
    "    \n",
    "    # Collect basic room details\n",
    "    room_details['room_size'] = float(input(\"Enter room size (in square meters): \"))\n",
    "    room_details['floor_level'] = int(input(\"Enter floor level: \"))\n",
    "    room_details['view_type'] = input(\"Enter view type (city/ocean/garden): \")\n",
    "    room_details['bed_type'] = input(\"Enter bed type (single/double/king): \")\n",
    "    room_details['has_balcony'] = input(\"Has balcony? (yes/no): \").lower() == 'yes'\n",
    "    room_details['has_wifi'] = input(\"Has WiFi? (yes/no): \").lower() == 'yes'\n",
    "    room_details['season'] = input(\"Enter season (summer/winter/spring/fall): \")\n",
    "    \n",
    "    return room_details"
   ]
  },
  {
   "cell_type": "markdown",
   "id": "57bbe3e8",
   "metadata": {},
   "source": [
    "## 3. Data Preprocessing\n",
    "Transform the input data to match the format used during model training."
   ]
  },
  {
   "cell_type": "code",
   "execution_count": null,
   "id": "1b325750",
   "metadata": {},
   "outputs": [],
   "source": [
    "def preprocess_input(room_details):\n",
    "    \"\"\"\n",
    "    Preprocess the input data to match training data format\n",
    "    \"\"\"\n",
    "    # Convert dictionary to DataFrame\n",
    "    input_df = pd.DataFrame([room_details])\n",
    "    \n",
    "    # Separate numerical and categorical columns\n",
    "    numerical_cols = ['room_size', 'floor_level']\n",
    "    categorical_cols = ['view_type', 'bed_type', 'season']\n",
    "    binary_cols = ['has_balcony', 'has_wifi']\n",
    "    \n",
    "    # Scale numerical features\n",
    "    input_df[numerical_cols] = scaler.transform(input_df[numerical_cols])\n",
    "    \n",
    "    # Encode categorical features\n",
    "    encoded_cats = encoder.transform(input_df[categorical_cols])\n",
    "    encoded_df = pd.DataFrame(encoded_cats, columns=encoder.get_feature_names_out(categorical_cols))\n",
    "    \n",
    "    # Combine all features\n",
    "    final_input = pd.concat([\n",
    "        input_df[numerical_cols],\n",
    "        encoded_df,\n",
    "        input_df[binary_cols].astype(int)\n",
    "    ], axis=1)\n",
    "    \n",
    "    return final_input"
   ]
  },
  {
   "cell_type": "markdown",
   "id": "e431d383",
   "metadata": {},
   "source": [
    "## 4. Price Prediction\n",
    "Use the model to predict room price based on the processed input."
   ]
  },
  {
   "cell_type": "code",
   "execution_count": null,
   "id": "72f1d4ff",
   "metadata": {},
   "outputs": [],
   "source": [
    "def predict_price(processed_input):\n",
    "    \"\"\"\n",
    "    Predict room price using the loaded model\n",
    "    \"\"\"\n",
    "    prediction = model.predict(processed_input)\n",
    "    \n",
    "    # Calculate confidence interval (if using a model that supports it)\n",
    "    try:\n",
    "        confidence = model.predict_proba(processed_input)\n",
    "        return prediction[0], confidence\n",
    "    except:\n",
    "        return prediction[0], None"
   ]
  },
  {
   "cell_type": "markdown",
   "id": "4d604af5",
   "metadata": {},
   "source": [
    "## 5. Display Results\n",
    "Show the predicted price and additional information."
   ]
  },
  {
   "cell_type": "code",
   "execution_count": null,
   "id": "bf632643",
   "metadata": {},
   "outputs": [],
   "source": [
    "def display_results(price, confidence=None):\n",
    "    \"\"\"\n",
    "    Display the prediction results\n",
    "    \"\"\"\n",
    "    print(\"\\n=== Price Prediction Results ===\")\n",
    "    print(f\"Predicted Room Price: ${price:.2f}\")\n",
    "    \n",
    "    if confidence is not None:\n",
    "        print(f\"Confidence Level: {confidence:.2%}\")\n",
    "    \n",
    "    # Add some basic insights\n",
    "    if price > 300:\n",
    "        print(\"This is a premium price point\")\n",
    "    elif price > 200:\n",
    "        print(\"This is a mid-range price point\")\n",
    "    else:\n",
    "        print(\"This is a budget-friendly price point\")"
   ]
  },
  {
   "cell_type": "markdown",
   "id": "953c245f",
   "metadata": {},
   "source": [
    "## Run the Complete Prediction Process\n",
    "Execute all steps to get the room price prediction."
   ]
  },
  {
   "cell_type": "code",
   "execution_count": null,
   "id": "f870a8fe",
   "metadata": {},
   "outputs": [],
   "source": [
    "# Main execution\n",
    "if __name__ == \"__main__\":\n",
    "    # Get room details from user\n",
    "    print(\"Please enter room details:\")\n",
    "    room_details = get_room_details()\n",
    "    \n",
    "    # Preprocess the input\n",
    "    processed_input = preprocess_input(room_details)\n",
    "    \n",
    "    # Make prediction\n",
    "    predicted_price, confidence = predict_price(processed_input)\n",
    "    \n",
    "    # Display results\n",
    "    display_results(predicted_price, confidence)"
   ]
  }
 ],
 "metadata": {
  "language_info": {
   "name": "python"
  }
 },
 "nbformat": 4,
 "nbformat_minor": 5
}
