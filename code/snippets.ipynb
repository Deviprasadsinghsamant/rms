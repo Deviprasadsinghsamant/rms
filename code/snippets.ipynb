{
 "cells": [
  {
   "cell_type": "markdown",
   "id": "uniform-tracy",
   "metadata": {},
   "source": [
    "# Snippets\n",
    "\n",
    "## This file houses important bits and pieces of the code used (or not) in `utils.py`\n",
    "\n",
    "Contains any resource that could prove helpful in later hotel projects when trying to remember how I did something."
   ]
  },
  {
   "cell_type": "code",
   "execution_count": 1,
   "id": "functioning-potter",
   "metadata": {},
   "outputs": [],
   "source": [
    "import pandas as pd\n",
    "import numpy as np\n",
    "import datetime\n",
    "import pickle"
   ]
  },
  {
   "cell_type": "code",
   "execution_count": null,
   "id": "pretty-grave",
   "metadata": {},
   "outputs": [],
   "source": [
    "# generte a list of dates from d1 to d2 (inclusive)\n",
    "\n",
    "import datetime\n",
    "d1 = datetime.date(2020, 1, 1)\n",
    "d2 = datetime.date(2020, 4, 1)\n",
    "all_dates = [datetime.datetime.strftime(d1 + datetime.timedelta(days=x), format=\"%Y-%m-%d\") for x in range((d2-d1).days + 1)]"
   ]
  }
 ],
 "metadata": {
  "kernelspec": {
   "display_name": "Python 3",
   "language": "python",
   "name": "python3"
  },
  "language_info": {
   "codemirror_mode": {
    "name": "ipython",
    "version": 3
   },
   "file_extension": ".py",
   "mimetype": "text/x-python",
   "name": "python",
   "nbconvert_exporter": "python",
   "pygments_lexer": "ipython3",
   "version": "3.8.6"
  }
 },
 "nbformat": 4,
 "nbformat_minor": 5
}
