{
 "cells": [
  {
   "cell_type": "markdown",
   "id": "spatial-application",
   "metadata": {},
   "source": [
    "# Snippets\n",
    "\n",
    "## This file houses important bits and pieces of the code used (or not) in `utils.py`\n",
    "\n",
    "Contains any resource that could prove helpful in later hotel projects when trying to remember how I did something."
   ]
  },
  {
   "cell_type": "code",
   "execution_count": 1,
   "id": "medieval-subcommittee",
   "metadata": {},
   "outputs": [],
   "source": [
    "import pandas as pd\n",
    "import numpy as np\n",
    "import datetime\n",
    "import pickle"
   ]
  },
  {
   "cell_type": "code",
   "execution_count": null,
   "id": "elect-validation",
   "metadata": {},
   "outputs": [],
   "source": [
    "# generte a list of dates from d1 to d2 (inclusive)\n",
    "\n",
    "import datetime\n",
    "d1 = datetime.date(2020, 1, 1)\n",
    "d2 = datetime.date(2020, 4, 1)\n",
    "all_dates = [datetime.datetime.strftime(d1 + datetime.timedelta(days=x), format=\"%Y-%m-%d\") for x in range((d2-d1).days + 1)]"
   ]
  },
  {
   "cell_type": "code",
   "execution_count": null,
   "id": "artificial-bachelor",
   "metadata": {},
   "outputs": [],
   "source": [
    "# One-Hot encode a variable in a way that can be repeated with different values (i.e. dynamic col names)\n",
    "mkt_seg_cols = list(pd.get_dummies(h2_res.MarketSegment, drop_first=True).columns)\n",
    "h2_res[mkt_seg_cols] = pd.get_dummies(h2_res.MarketSegment, drop_first=True)"
   ]
  }
 ],
 "metadata": {
  "kernelspec": {
   "display_name": "Python 3",
   "language": "python",
   "name": "python3"
  },
  "language_info": {
   "codemirror_mode": {
    "name": "ipython",
    "version": 3
   },
   "file_extension": ".py",
   "mimetype": "text/x-python",
   "name": "python",
   "nbconvert_exporter": "python",
   "pygments_lexer": "ipython3",
   "version": "3.8.6"
  }
 },
 "nbformat": 4,
 "nbformat_minor": 5
}
