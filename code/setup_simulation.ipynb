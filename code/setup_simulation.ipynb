{
 "cells": [
  {
   "cell_type": "markdown",
   "id": "animal-postage",
   "metadata": {},
   "source": [
    "# Setup Future DBD DataFrames\n",
    "\n",
    "This DataFrame will be used for predicting demand and ultimately recommending rates.\n",
    "\n",
    "This notebooks makes use of the `generate_hotel_dfs` and `model_cancellations` functions found in `utils.py`."
   ]
  },
  {
   "cell_type": "code",
   "execution_count": 1,
   "id": "serious-tender",
   "metadata": {},
   "outputs": [],
   "source": [
    "import pandas as pd\n",
    "import numpy as np\n",
    "from setup import generate_hotel_dfs\n",
    "from sim import generate_simulation"
   ]
  },
  {
   "cell_type": "code",
   "execution_count": 2,
   "id": "wireless-state",
   "metadata": {},
   "outputs": [],
   "source": [
    "pd.options.display.max_rows = 60\n",
    "pd.options.display.max_columns = 70"
   ]
  },
  {
   "cell_type": "markdown",
   "id": "overhead-syntax",
   "metadata": {},
   "source": [
    "## Hotel Capacities\n",
    "\n",
    "H1: 187\n",
    "\n",
    "H2: 226\n",
    "\n",
    "Additional columns needed:\n",
    "\n",
    "* Rooms/ADR booked running 30/90\n",
    "* LY actual RS/ADR/Occ\n",
    "* STLY OTB/ADR\n",
    "* Rooms booked moving forward LY\n",
    "* Rooms/ADR booked running 30/90 STLY\n",
    "* OTB/ADR pace\n",
    "* L30/L90 pace\n",
    "* RevPAR\n"
   ]
  },
  {
   "cell_type": "code",
   "execution_count": null,
   "id": "discrete-shanghai",
   "metadata": {},
   "outputs": [],
   "source": [
    "%%time\n",
    "h1_res_v2, h1_dbd_v2 = generate_hotel_dfs(\"../data/H1.csv\", capacity=187)\n",
    "print(\"H1 complete.\")\n",
    "h2_res_v2, h2_dbd_v2 = generate_hotel_dfs(\"../data/H2.csv\", capacity=226)"
   ]
  },
  {
   "cell_type": "code",
   "execution_count": null,
   "id": "loaded-gallery",
   "metadata": {},
   "outputs": [],
   "source": [
    "h1_res.shape"
   ]
  },
  {
   "cell_type": "code",
   "execution_count": null,
   "id": "genetic-intake",
   "metadata": {},
   "outputs": [],
   "source": [
    "h1_res.head(3)"
   ]
  },
  {
   "cell_type": "code",
   "execution_count": null,
   "id": "polish-section",
   "metadata": {},
   "outputs": [],
   "source": [
    "h1_res.columns "
   ]
  },
  {
   "cell_type": "code",
   "execution_count": null,
   "id": "going-luxembourg",
   "metadata": {},
   "outputs": [],
   "source": [
    "h1_dbd.shape"
   ]
  },
  {
   "cell_type": "code",
   "execution_count": null,
   "id": "subject-principal",
   "metadata": {},
   "outputs": [],
   "source": [
    "h1_dbd.head(3)"
   ]
  },
  {
   "cell_type": "code",
   "execution_count": null,
   "id": "standard-paste",
   "metadata": {},
   "outputs": [],
   "source": [
    "h1_dbd.columns"
   ]
  },
  {
   "cell_type": "code",
   "execution_count": null,
   "id": "binding-apparel",
   "metadata": {},
   "outputs": [],
   "source": [
    "h2_res.shape"
   ]
  },
  {
   "cell_type": "code",
   "execution_count": null,
   "id": "disabled-preserve",
   "metadata": {},
   "outputs": [],
   "source": [
    "h2_res.head(3)"
   ]
  },
  {
   "cell_type": "code",
   "execution_count": null,
   "id": "baking-distributor",
   "metadata": {},
   "outputs": [],
   "source": [
    "h2_res.columns "
   ]
  },
  {
   "cell_type": "code",
   "execution_count": null,
   "id": "annoying-project",
   "metadata": {},
   "outputs": [],
   "source": [
    "h2_dbd.shape"
   ]
  },
  {
   "cell_type": "code",
   "execution_count": null,
   "id": "featured-rehabilitation",
   "metadata": {},
   "outputs": [],
   "source": [
    "h2_dbd.head(3)"
   ]
  },
  {
   "cell_type": "code",
   "execution_count": null,
   "id": "aerial-playback",
   "metadata": {},
   "outputs": [],
   "source": [
    "h2_dbd.columns"
   ]
  },
  {
   "cell_type": "code",
   "execution_count": null,
   "id": "through-chambers",
   "metadata": {},
   "outputs": [],
   "source": [
    "h1_res_v2.to_pickle(\"pickle/h1_res_v2.pick\")\n",
    "h2_res_v2.to_pickle(\"pickle/h2_res_v2.pick\")\n",
    "h1_dbd_v2.to_pickle(\"pickle/h1_dbd_v2.pick\")\n",
    "h2_dbd_v2.to_pickle(\"pickle/h2_dbd_v2.pick\")"
   ]
  },
  {
   "cell_type": "code",
   "execution_count": null,
   "id": "diagnostic-slope",
   "metadata": {},
   "outputs": [],
   "source": [
    "h1_res = pd.read_pickle(\"pickle/h1_res.pick\")\n",
    "h2_res = pd.read_pickle(\"pickle/h2_res.pick\")\n",
    "h1_dbd = pd.read_pickle(\"pickle/h1_dbd.pick\")\n",
    "h2_dbd = pd.read_pickle(\"pickle/h2_dbd.pick\")"
   ]
  },
  {
   "cell_type": "code",
   "execution_count": null,
   "id": "tamil-exercise",
   "metadata": {},
   "outputs": [],
   "source": [
    "h2_dbd.RoomsSold.max()"
   ]
  },
  {
   "cell_type": "code",
   "execution_count": null,
   "id": "brown-delivery",
   "metadata": {},
   "outputs": [],
   "source": [
    "h1_sim = generate_simulation(h1_dbd, \"2017-08-01\", 1, h1_res)\n",
    "h1_sim.head(3)"
   ]
  },
  {
   "cell_type": "code",
   "execution_count": null,
   "id": "sustained-discount",
   "metadata": {},
   "outputs": [],
   "source": [
    "h1_dbd.loc['2016-08-02', [\"RoomsSold\"]]"
   ]
  },
  {
   "cell_type": "code",
   "execution_count": null,
   "id": "joined-opposition",
   "metadata": {},
   "outputs": [],
   "source": [
    "# h1_sim.to_pickle(\"pickle/h1_sim.pick\")\n",
    "# h1_sim.to_csv(\"pickle/h1_sim.csv\")"
   ]
  },
  {
   "cell_type": "code",
   "execution_count": null,
   "id": "informal-candidate",
   "metadata": {},
   "outputs": [],
   "source": [
    "h2_sim = generate_simulation(h2_futures, h2_dbd, \"2017-08-01\", 2, h2_res)\n",
    "h2_sim.head(3)"
   ]
  },
  {
   "cell_type": "code",
   "execution_count": null,
   "id": "ordinary-petite",
   "metadata": {},
   "outputs": [],
   "source": [
    "# h2_sim.to_pickle(\"pickle/h2_sim.pick\")\n",
    "# h2_sim.to_csv(\"pickle/h2_sim.csv\")"
   ]
  },
  {
   "cell_type": "code",
   "execution_count": null,
   "id": "enormous-chrome",
   "metadata": {},
   "outputs": [],
   "source": [
    "h2_sim.head(3)"
   ]
  },
  {
   "cell_type": "code",
   "execution_count": null,
   "id": "hired-strike",
   "metadata": {},
   "outputs": [],
   "source": [
    "h1_dbd.columns"
   ]
  },
  {
   "cell_type": "code",
   "execution_count": null,
   "id": "colonial-process",
   "metadata": {},
   "outputs": [],
   "source": []
  }
 ],
 "metadata": {
  "kernelspec": {
   "display_name": "Python 3",
   "language": "python",
   "name": "python3"
  },
  "language_info": {
   "codemirror_mode": {
    "name": "ipython",
    "version": 3
   },
   "file_extension": ".py",
   "mimetype": "text/x-python",
   "name": "python",
   "nbconvert_exporter": "python",
   "pygments_lexer": "ipython3",
   "version": "3.8.6"
  }
 },
 "nbformat": 4,
 "nbformat_minor": 5
}
