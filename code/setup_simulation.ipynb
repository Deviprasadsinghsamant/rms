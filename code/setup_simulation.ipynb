{
 "cells": [
  {
   "cell_type": "markdown",
   "id": "animal-postage",
   "metadata": {},
   "source": [
    "# Setup Future DBD DataFrames\n",
    "\n",
    "This DataFrame will be used for predicting demand and ultimately recommending rates.\n",
    "\n",
    "This notebooks makes use of the `generate_hotel_dfs` and `model_cancellations` functions found in `utils.py`."
   ]
  },
  {
   "cell_type": "code",
   "execution_count": 1,
   "id": "serious-tender",
   "metadata": {},
   "outputs": [],
   "source": [
    "import pandas as pd\n",
    "import numpy as np\n",
    "from model_demand import generate_simulation"
   ]
  },
  {
   "cell_type": "code",
   "execution_count": 2,
   "id": "wireless-state",
   "metadata": {},
   "outputs": [],
   "source": [
    "pd.options.display.max_rows = 60\n",
    "pd.options.display.max_columns = 70"
   ]
  },
  {
   "cell_type": "markdown",
   "id": "overhead-syntax",
   "metadata": {},
   "source": [
    "## Hotel Capacities\n",
    "\n",
    "H1: 187\n",
    "\n",
    "H2: 226\n",
    "\n",
    "Additional columns needed:\n",
    "\n",
    "* Rooms/ADR booked running 30/90\n",
    "* LY actual RS/ADR/Occ\n",
    "* STLY OTB/ADR\n",
    "* Rooms booked moving forward LY\n",
    "* Rooms/ADR booked running 30/90 STLY\n",
    "* OTB/ADR pace\n",
    "* L30/L90 pace\n",
    "* RevPAR\n"
   ]
  },
  {
   "cell_type": "code",
   "execution_count": 3,
   "id": "diagnostic-slope",
   "metadata": {},
   "outputs": [],
   "source": [
    "h1_res = pd.read_pickle(\"pickle/h1_res.pick\")\n",
    "h2_res = pd.read_pickle(\"pickle/h2_res.pick\")\n",
    "h1_dbd = pd.read_pickle(\"pickle/h1_dbd.pick\")\n",
    "h2_dbd = pd.read_pickle(\"pickle/h2_dbd.pick\")"
   ]
  },
  {
   "cell_type": "code",
   "execution_count": 4,
   "id": "failing-grocery",
   "metadata": {},
   "outputs": [],
   "source": [
    "h1_futures = pd.read_pickle(\"pickle/h1_future_res.pick\")\n",
    "h2_futures = pd.read_pickle(\"pickle/h2_future_res.pick\")"
   ]
  },
  {
   "cell_type": "code",
   "execution_count": null,
   "id": "brown-delivery",
   "metadata": {},
   "outputs": [
    {
     "name": "stdout",
     "output_type": "stream",
     "text": [
      "Training sample size: 35306\n",
      "Testing sample Size: 4754\n",
      "\n",
      "\n"
     ]
    }
   ],
   "source": [
    "h1_sim = generate_simulation(h1_futures, h1_dbd, \"2017-08-01\", 1, h1_res)"
   ]
  },
  {
   "cell_type": "code",
   "execution_count": null,
   "id": "joined-opposition",
   "metadata": {},
   "outputs": [],
   "source": [
    "h1_sim.to_pickle(\"pickle/h1_sim.pick\")\n",
    "h1_sim.to_csv(\"pickle/h1_sim.csv\")"
   ]
  },
  {
   "cell_type": "code",
   "execution_count": null,
   "id": "informal-candidate",
   "metadata": {},
   "outputs": [],
   "source": [
    "h2_sim = generate_simulation(h2_futures, h2_dbd, \"2017-08-01\", 2, h2_res)"
   ]
  },
  {
   "cell_type": "code",
   "execution_count": null,
   "id": "ordinary-petite",
   "metadata": {},
   "outputs": [],
   "source": [
    "h2_sim.to_pickle(\"pickle/h2_sim.pick\")\n",
    "h2_sim.to_csv(\"pickle/h2_sim.csv\")"
   ]
  }
 ],
 "metadata": {
  "kernelspec": {
   "display_name": "Python 3",
   "language": "python",
   "name": "python3"
  },
  "language_info": {
   "codemirror_mode": {
    "name": "ipython",
    "version": 3
   },
   "file_extension": ".py",
   "mimetype": "text/x-python",
   "name": "python",
   "nbconvert_exporter": "python",
   "pygments_lexer": "ipython3",
   "version": "3.7.9"
  }
 },
 "nbformat": 4,
 "nbformat_minor": 5
}
