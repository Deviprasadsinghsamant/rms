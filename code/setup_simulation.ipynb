{
 "cells": [
  {
   "cell_type": "markdown",
   "id": "animal-postage",
   "metadata": {},
   "source": [
    "# Setup Future DBD DataFrames\n",
    "\n",
    "This DataFrame will be used for predicting demand and ultimately recommending rates.\n",
    "\n",
    "This notebooks makes use of the `generate_hotel_dfs` and `model_cancellations` functions found in `utils.py`."
   ]
  },
  {
   "cell_type": "code",
   "execution_count": 1,
   "id": "serious-tender",
   "metadata": {},
   "outputs": [],
   "source": [
    "import pandas as pd\n",
    "import numpy as np\n",
    "from model_demand import generate_simulation"
   ]
  },
  {
   "cell_type": "code",
   "execution_count": 2,
   "id": "wireless-state",
   "metadata": {},
   "outputs": [],
   "source": [
    "pd.options.display.max_rows = 60\n",
    "pd.options.display.max_columns = 70"
   ]
  },
  {
   "cell_type": "markdown",
   "id": "overhead-syntax",
   "metadata": {},
   "source": [
    "## Hotel Capacities\n",
    "\n",
    "H1: 187\n",
    "\n",
    "H2: 226"
   ]
  },
  {
   "cell_type": "code",
   "execution_count": 3,
   "id": "diagnostic-slope",
   "metadata": {},
   "outputs": [],
   "source": [
    "h1_res = pd.read_pickle(\"pickle/h1_res.pick\")\n",
    "h2_res = pd.read_pickle(\"pickle/h2_res.pick\")\n",
    "h1_dbd = pd.read_pickle(\"pickle/h1_dbd.pick\")\n",
    "h2_dbd = pd.read_pickle(\"pickle/h2_dbd.pick\")"
   ]
  },
  {
   "cell_type": "code",
   "execution_count": 4,
   "id": "failing-grocery",
   "metadata": {},
   "outputs": [],
   "source": [
    "h1_futures = pd.read_pickle(\"pickle/h1_future_res.pick\")\n",
    "h2_futures = pd.read_pickle(\"pickle/h2_future_res.pick\")"
   ]
  },
  {
   "cell_type": "code",
   "execution_count": 5,
   "id": "biological-aquarium",
   "metadata": {},
   "outputs": [
    {
     "data": {
      "text/plain": [
       "(1765, 71)"
      ]
     },
     "execution_count": 5,
     "metadata": {},
     "output_type": "execute_result"
    }
   ],
   "source": [
    "h1_futures.shape"
   ]
  },
  {
   "cell_type": "code",
   "execution_count": 6,
   "id": "coupled-investigation",
   "metadata": {},
   "outputs": [
    {
     "data": {
      "text/plain": [
       "(3010, 73)"
      ]
     },
     "execution_count": 6,
     "metadata": {},
     "output_type": "execute_result"
    }
   ],
   "source": [
    "h2_futures.shape"
   ]
  },
  {
   "cell_type": "markdown",
   "id": "responsible-wisconsin",
   "metadata": {},
   "source": [
    "Additional columns needed:\n",
    "\n",
    "* Rooms/ADR booked running 30/90\n",
    "* LY actual RS/ADR/Occ\n",
    "* STLY OTB/ADR\n",
    "* Rooms booked moving forward LY\n",
    "* Rooms/ADR booked running 30/90 STLY\n",
    "* OTB/ADR pace\n",
    "* L30/L90 pace\n",
    "* RevPAR\n"
   ]
  },
  {
   "cell_type": "code",
   "execution_count": 7,
   "id": "brown-delivery",
   "metadata": {},
   "outputs": [
    {
     "name": "stdout",
     "output_type": "stream",
     "text": [
      "Training sample size: 35658\n",
      "Testing sample Size: 4402\n",
      "\n",
      "\n",
      "Training sample size: 35630\n",
      "Testing sample Size: 4430\n",
      "\n",
      "\n"
     ]
    }
   ],
   "source": [
    "h1_sim = generate_simulation(h1_futures, h1_dbd, \"2017-08-30\", 1, h1_res)\n"
   ]
  },
  {
   "cell_type": "code",
   "execution_count": 11,
   "id": "union-powell",
   "metadata": {},
   "outputs": [
    {
     "data": {
      "text/html": [
       "<div>\n",
       "<style scoped>\n",
       "    .dataframe tbody tr th:only-of-type {\n",
       "        vertical-align: middle;\n",
       "    }\n",
       "\n",
       "    .dataframe tbody tr th {\n",
       "        vertical-align: top;\n",
       "    }\n",
       "\n",
       "    .dataframe thead th {\n",
       "        text-align: right;\n",
       "    }\n",
       "</style>\n",
       "<table border=\"1\" class=\"dataframe\">\n",
       "  <thead>\n",
       "    <tr style=\"text-align: right;\">\n",
       "      <th></th>\n",
       "      <th>DOW</th>\n",
       "      <th>RoomsOTB</th>\n",
       "      <th>RevOTB</th>\n",
       "      <th>CxlForecast</th>\n",
       "      <th>Trn_RoomsOTB</th>\n",
       "      <th>Trn_CxlProj</th>\n",
       "      <th>Trn_RevOTB</th>\n",
       "      <th>TrnP_RoomsOTB</th>\n",
       "      <th>TrnP_CxlProj</th>\n",
       "      <th>TrnP_RevOTB</th>\n",
       "      <th>Grp_RoomsOTB</th>\n",
       "      <th>Grp_CxlProj</th>\n",
       "      <th>Grp_RevOTB</th>\n",
       "      <th>Cnt_RoomsOTB</th>\n",
       "      <th>Cnt_CxlProj</th>\n",
       "      <th>Cnt_RevOTB</th>\n",
       "      <th>Occ</th>\n",
       "      <th>RevPAR</th>\n",
       "      <th>RemSupply</th>\n",
       "      <th>ADR_OTB</th>\n",
       "      <th>Trn_ADR_OTB</th>\n",
       "      <th>TrnP_ADR_OTB</th>\n",
       "      <th>Grp_ADR_OTB</th>\n",
       "      <th>Cnt_ADR_OTB</th>\n",
       "      <th>WE</th>\n",
       "      <th>WD</th>\n",
       "      <th>STLY_Date</th>\n",
       "      <th>STLY_RoomsOTB</th>\n",
       "      <th>STLY_RevOTB</th>\n",
       "      <th>STLY_ADR_OTB</th>\n",
       "      <th>STLY_CxlForecast</th>\n",
       "      <th>STLY_RemSupply</th>\n",
       "      <th>STLY_Trn_RoomsOTB</th>\n",
       "      <th>STLY_Trn_CxlProj</th>\n",
       "      <th>STLY_Trn_RevOTB</th>\n",
       "      <th>STLY_Trn_ADR_OTB</th>\n",
       "      <th>STLY_TrnP_RoomsOTB</th>\n",
       "      <th>STLY_TrnP_CxlProj</th>\n",
       "      <th>STLY_TrnP_RevOTB</th>\n",
       "      <th>STLY_TrnP_ADR_OTB</th>\n",
       "      <th>STLY_Cnt_RoomsOTB</th>\n",
       "      <th>STLY_Cnt_CxlProj</th>\n",
       "      <th>STLY_Cnt_RevOTB</th>\n",
       "      <th>STLY_Cnt_ADR_OTB</th>\n",
       "      <th>STLY_Grp_RoomsOTB</th>\n",
       "      <th>STLY_Grp_CxlProj</th>\n",
       "      <th>STLY_Grp_RevOTB</th>\n",
       "      <th>STLY_Grp_ADR_OTB</th>\n",
       "      <th>LY_RoomsSold</th>\n",
       "      <th>LY_Occ</th>\n",
       "      <th>LY_ADR</th>\n",
       "      <th>LY_RevPAR</th>\n",
       "    </tr>\n",
       "  </thead>\n",
       "  <tbody>\n",
       "    <tr>\n",
       "      <th>2017-08-30</th>\n",
       "      <td>Wed</td>\n",
       "      <td>134.0</td>\n",
       "      <td>22952.95</td>\n",
       "      <td>9.0</td>\n",
       "      <td>95.0</td>\n",
       "      <td>9.0</td>\n",
       "      <td>17181.57</td>\n",
       "      <td>11.0</td>\n",
       "      <td>0.0</td>\n",
       "      <td>2394.66</td>\n",
       "      <td>4.0</td>\n",
       "      <td>0.0</td>\n",
       "      <td>583.03</td>\n",
       "      <td>24.0</td>\n",
       "      <td>0.0</td>\n",
       "      <td>2793.69</td>\n",
       "      <td>0.72</td>\n",
       "      <td>122.74</td>\n",
       "      <td>125</td>\n",
       "      <td>171.29</td>\n",
       "      <td>180.86</td>\n",
       "      <td>217.70</td>\n",
       "      <td>145.76</td>\n",
       "      <td>116.40</td>\n",
       "      <td>False</td>\n",
       "      <td>True</td>\n",
       "      <td>2016-08-31</td>\n",
       "      <td>171.0</td>\n",
       "      <td>23577.22</td>\n",
       "      <td>137.88</td>\n",
       "      <td>15.0</td>\n",
       "      <td>156.0</td>\n",
       "      <td>126.0</td>\n",
       "      <td>14.0</td>\n",
       "      <td>19052.76</td>\n",
       "      <td>151.21</td>\n",
       "      <td>12.0</td>\n",
       "      <td>0.0</td>\n",
       "      <td>2129.53</td>\n",
       "      <td>177.46</td>\n",
       "      <td>33.0</td>\n",
       "      <td>1.0</td>\n",
       "      <td>2394.93</td>\n",
       "      <td>72.57</td>\n",
       "      <td>0.0</td>\n",
       "      <td>0.0</td>\n",
       "      <td>0.0</td>\n",
       "      <td>0.0</td>\n",
       "      <td>171.0</td>\n",
       "      <td>0.91</td>\n",
       "      <td>137.88</td>\n",
       "      <td>126.08</td>\n",
       "    </tr>\n",
       "    <tr>\n",
       "      <th>2017-08-31</th>\n",
       "      <td>Thu</td>\n",
       "      <td>124.0</td>\n",
       "      <td>20261.09</td>\n",
       "      <td>8.0</td>\n",
       "      <td>94.0</td>\n",
       "      <td>8.0</td>\n",
       "      <td>16490.91</td>\n",
       "      <td>5.0</td>\n",
       "      <td>0.0</td>\n",
       "      <td>908.66</td>\n",
       "      <td>3.0</td>\n",
       "      <td>0.0</td>\n",
       "      <td>457.73</td>\n",
       "      <td>22.0</td>\n",
       "      <td>0.0</td>\n",
       "      <td>2403.79</td>\n",
       "      <td>0.66</td>\n",
       "      <td>108.35</td>\n",
       "      <td>116</td>\n",
       "      <td>163.40</td>\n",
       "      <td>175.44</td>\n",
       "      <td>181.73</td>\n",
       "      <td>152.58</td>\n",
       "      <td>109.26</td>\n",
       "      <td>False</td>\n",
       "      <td>True</td>\n",
       "      <td>2016-09-01</td>\n",
       "      <td>183.0</td>\n",
       "      <td>24351.32</td>\n",
       "      <td>133.07</td>\n",
       "      <td>19.0</td>\n",
       "      <td>164.0</td>\n",
       "      <td>132.0</td>\n",
       "      <td>17.0</td>\n",
       "      <td>19164.66</td>\n",
       "      <td>145.19</td>\n",
       "      <td>15.0</td>\n",
       "      <td>1.0</td>\n",
       "      <td>2527.23</td>\n",
       "      <td>168.48</td>\n",
       "      <td>36.0</td>\n",
       "      <td>1.0</td>\n",
       "      <td>2659.43</td>\n",
       "      <td>73.87</td>\n",
       "      <td>0.0</td>\n",
       "      <td>0.0</td>\n",
       "      <td>0.0</td>\n",
       "      <td>0.0</td>\n",
       "      <td>183.0</td>\n",
       "      <td>0.98</td>\n",
       "      <td>133.07</td>\n",
       "      <td>130.22</td>\n",
       "    </tr>\n",
       "  </tbody>\n",
       "</table>\n",
       "</div>"
      ],
      "text/plain": [
       "            DOW  RoomsOTB    RevOTB  CxlForecast  Trn_RoomsOTB  Trn_CxlProj  \\\n",
       "2017-08-30  Wed     134.0  22952.95          9.0          95.0          9.0   \n",
       "2017-08-31  Thu     124.0  20261.09          8.0          94.0          8.0   \n",
       "\n",
       "            Trn_RevOTB  TrnP_RoomsOTB  TrnP_CxlProj  TrnP_RevOTB  \\\n",
       "2017-08-30    17181.57           11.0           0.0      2394.66   \n",
       "2017-08-31    16490.91            5.0           0.0       908.66   \n",
       "\n",
       "            Grp_RoomsOTB  Grp_CxlProj  Grp_RevOTB  Cnt_RoomsOTB  Cnt_CxlProj  \\\n",
       "2017-08-30           4.0          0.0      583.03          24.0          0.0   \n",
       "2017-08-31           3.0          0.0      457.73          22.0          0.0   \n",
       "\n",
       "            Cnt_RevOTB   Occ  RevPAR  RemSupply  ADR_OTB  Trn_ADR_OTB  \\\n",
       "2017-08-30     2793.69  0.72  122.74        125   171.29       180.86   \n",
       "2017-08-31     2403.79  0.66  108.35        116   163.40       175.44   \n",
       "\n",
       "            TrnP_ADR_OTB  Grp_ADR_OTB  Cnt_ADR_OTB     WE    WD  STLY_Date  \\\n",
       "2017-08-30        217.70       145.76       116.40  False  True 2016-08-31   \n",
       "2017-08-31        181.73       152.58       109.26  False  True 2016-09-01   \n",
       "\n",
       "            STLY_RoomsOTB  STLY_RevOTB  STLY_ADR_OTB  STLY_CxlForecast  \\\n",
       "2017-08-30          171.0     23577.22        137.88              15.0   \n",
       "2017-08-31          183.0     24351.32        133.07              19.0   \n",
       "\n",
       "            STLY_RemSupply  STLY_Trn_RoomsOTB  STLY_Trn_CxlProj  \\\n",
       "2017-08-30           156.0              126.0              14.0   \n",
       "2017-08-31           164.0              132.0              17.0   \n",
       "\n",
       "            STLY_Trn_RevOTB  STLY_Trn_ADR_OTB  STLY_TrnP_RoomsOTB  \\\n",
       "2017-08-30         19052.76            151.21                12.0   \n",
       "2017-08-31         19164.66            145.19                15.0   \n",
       "\n",
       "            STLY_TrnP_CxlProj  STLY_TrnP_RevOTB  STLY_TrnP_ADR_OTB  \\\n",
       "2017-08-30                0.0           2129.53             177.46   \n",
       "2017-08-31                1.0           2527.23             168.48   \n",
       "\n",
       "            STLY_Cnt_RoomsOTB  STLY_Cnt_CxlProj  STLY_Cnt_RevOTB  \\\n",
       "2017-08-30               33.0               1.0          2394.93   \n",
       "2017-08-31               36.0               1.0          2659.43   \n",
       "\n",
       "            STLY_Cnt_ADR_OTB  STLY_Grp_RoomsOTB  STLY_Grp_CxlProj  \\\n",
       "2017-08-30             72.57                0.0               0.0   \n",
       "2017-08-31             73.87                0.0               0.0   \n",
       "\n",
       "            STLY_Grp_RevOTB  STLY_Grp_ADR_OTB  LY_RoomsSold  LY_Occ  LY_ADR  \\\n",
       "2017-08-30              0.0               0.0         171.0    0.91  137.88   \n",
       "2017-08-31              0.0               0.0         183.0    0.98  133.07   \n",
       "\n",
       "            LY_RevPAR  \n",
       "2017-08-30     126.08  \n",
       "2017-08-31     130.22  "
      ]
     },
     "execution_count": 11,
     "metadata": {},
     "output_type": "execute_result"
    }
   ],
   "source": [
    "h1_sim"
   ]
  },
  {
   "cell_type": "code",
   "execution_count": 15,
   "id": "recent-specification",
   "metadata": {},
   "outputs": [
    {
     "data": {
      "text/html": [
       "<div>\n",
       "<style scoped>\n",
       "    .dataframe tbody tr th:only-of-type {\n",
       "        vertical-align: middle;\n",
       "    }\n",
       "\n",
       "    .dataframe tbody tr th {\n",
       "        vertical-align: top;\n",
       "    }\n",
       "\n",
       "    .dataframe thead th {\n",
       "        text-align: right;\n",
       "    }\n",
       "</style>\n",
       "<table border=\"1\" class=\"dataframe\">\n",
       "  <thead>\n",
       "    <tr style=\"text-align: right;\">\n",
       "      <th></th>\n",
       "      <th>RoomsSold</th>\n",
       "      <th>Occ</th>\n",
       "      <th>ADR</th>\n",
       "    </tr>\n",
       "  </thead>\n",
       "  <tbody>\n",
       "    <tr>\n",
       "      <th>2016-08-31</th>\n",
       "      <td>171.0</td>\n",
       "      <td>0.91</td>\n",
       "      <td>137.88</td>\n",
       "    </tr>\n",
       "    <tr>\n",
       "      <th>2016-09-01</th>\n",
       "      <td>183.0</td>\n",
       "      <td>0.98</td>\n",
       "      <td>133.07</td>\n",
       "    </tr>\n",
       "  </tbody>\n",
       "</table>\n",
       "</div>"
      ],
      "text/plain": [
       "            RoomsSold   Occ     ADR\n",
       "2016-08-31      171.0  0.91  137.88\n",
       "2016-09-01      183.0  0.98  133.07"
      ]
     },
     "execution_count": 15,
     "metadata": {},
     "output_type": "execute_result"
    }
   ],
   "source": [
    "h1_dbd.loc[[\"2016-08-31\", \"2016-09-01\"], [\"RoomsSold\", \"Occ\", \"ADR\"]]"
   ]
  },
  {
   "cell_type": "code",
   "execution_count": 9,
   "id": "joined-opposition",
   "metadata": {},
   "outputs": [],
   "source": [
    "h1_sim.to_pickle(\"pickle/h1_sim\")"
   ]
  },
  {
   "cell_type": "code",
   "execution_count": 10,
   "id": "informal-candidate",
   "metadata": {},
   "outputs": [
    {
     "name": "stdout",
     "output_type": "stream",
     "text": [
      "Training sample size: 67683\n",
      "Testing sample Size: 11647\n",
      "\n",
      "\n"
     ]
    },
    {
     "ename": "KeyboardInterrupt",
     "evalue": "",
     "output_type": "error",
     "traceback": [
      "\u001b[0;31m---------------------------------------------------------------------------\u001b[0m",
      "\u001b[0;31mKeyboardInterrupt\u001b[0m                         Traceback (most recent call last)",
      "\u001b[0;32m<ipython-input-10-18258d42ede6>\u001b[0m in \u001b[0;36m<module>\u001b[0;34m\u001b[0m\n\u001b[0;32m----> 1\u001b[0;31m \u001b[0mh2_sim\u001b[0m \u001b[0;34m=\u001b[0m \u001b[0mgenerate_simulation\u001b[0m\u001b[0;34m(\u001b[0m\u001b[0mh1_futures\u001b[0m\u001b[0;34m,\u001b[0m \u001b[0mh2_dbd\u001b[0m\u001b[0;34m,\u001b[0m \u001b[0;34m\"2017-08-01\"\u001b[0m\u001b[0;34m,\u001b[0m \u001b[0;36m2\u001b[0m\u001b[0;34m,\u001b[0m \u001b[0mh2_res\u001b[0m\u001b[0;34m)\u001b[0m\u001b[0;34m\u001b[0m\u001b[0;34m\u001b[0m\u001b[0m\n\u001b[0m",
      "\u001b[0;32m~/metis/projects/hotel-revman-system/code/model_demand.py\u001b[0m in \u001b[0;36mgenerate_simulation\u001b[0;34m(df_future_res, df_dbd, as_of_date, hotel_num, df_res)\u001b[0m\n\u001b[1;32m    238\u001b[0m     \u001b[0mdf_sim\u001b[0m \u001b[0;34m=\u001b[0m \u001b[0msetup_sim\u001b[0m\u001b[0;34m(\u001b[0m\u001b[0mdf_future_res\u001b[0m\u001b[0;34m,\u001b[0m \u001b[0mas_of_date\u001b[0m\u001b[0;34m)\u001b[0m\u001b[0;34m\u001b[0m\u001b[0;34m\u001b[0m\u001b[0m\n\u001b[1;32m    239\u001b[0m     \u001b[0mdf_sim\u001b[0m \u001b[0;34m=\u001b[0m \u001b[0madd_sim_cols\u001b[0m\u001b[0;34m(\u001b[0m\u001b[0mdf_sim\u001b[0m\u001b[0;34m,\u001b[0m \u001b[0mcapacity\u001b[0m\u001b[0;34m)\u001b[0m\u001b[0;34m\u001b[0m\u001b[0;34m\u001b[0m\u001b[0m\n\u001b[0;32m--> 240\u001b[0;31m     df_sim = add_stly_cols(\n\u001b[0m\u001b[1;32m    241\u001b[0m         \u001b[0mdf_sim\u001b[0m\u001b[0;34m,\u001b[0m\u001b[0;34m\u001b[0m\u001b[0;34m\u001b[0m\u001b[0m\n\u001b[1;32m    242\u001b[0m         \u001b[0mdf_dbd\u001b[0m\u001b[0;34m,\u001b[0m\u001b[0;34m\u001b[0m\u001b[0;34m\u001b[0m\u001b[0m\n",
      "\u001b[0;32m~/metis/projects/hotel-revman-system/code/model_demand.py\u001b[0m in \u001b[0;36madd_stly_cols\u001b[0;34m(df_sim, df_dbd, df_res, hotel_num, as_of_date, capacity)\u001b[0m\n\u001b[1;32m    209\u001b[0m         \u001b[0;32mreturn\u001b[0m \u001b[0mtuple\u001b[0m\u001b[0;34m(\u001b[0m\u001b[0mnew_stats\u001b[0m\u001b[0;34m)\u001b[0m\u001b[0;34m\u001b[0m\u001b[0;34m\u001b[0m\u001b[0m\n\u001b[1;32m    210\u001b[0m \u001b[0;34m\u001b[0m\u001b[0m\n\u001b[0;32m--> 211\u001b[0;31m     df_sim[new_col_names] = df_sim.apply(\n\u001b[0m\u001b[1;32m    212\u001b[0m         \u001b[0;32mlambda\u001b[0m \u001b[0mrow\u001b[0m\u001b[0;34m:\u001b[0m \u001b[0mapply_STLY_stats\u001b[0m\u001b[0;34m(\u001b[0m\u001b[0mrow\u001b[0m\u001b[0;34m)\u001b[0m\u001b[0;34m,\u001b[0m \u001b[0mresult_type\u001b[0m\u001b[0;34m=\u001b[0m\u001b[0;34m\"expand\"\u001b[0m\u001b[0;34m,\u001b[0m \u001b[0maxis\u001b[0m\u001b[0;34m=\u001b[0m\u001b[0;34m\"columns\"\u001b[0m\u001b[0;34m\u001b[0m\u001b[0;34m\u001b[0m\u001b[0m\n\u001b[1;32m    213\u001b[0m     )\n",
      "\u001b[0;32m~/anaconda3/envs/metis/lib/python3.8/site-packages/pandas/core/frame.py\u001b[0m in \u001b[0;36mapply\u001b[0;34m(self, func, axis, raw, result_type, args, **kwds)\u001b[0m\n\u001b[1;32m   7763\u001b[0m             \u001b[0mkwds\u001b[0m\u001b[0;34m=\u001b[0m\u001b[0mkwds\u001b[0m\u001b[0;34m,\u001b[0m\u001b[0;34m\u001b[0m\u001b[0;34m\u001b[0m\u001b[0m\n\u001b[1;32m   7764\u001b[0m         )\n\u001b[0;32m-> 7765\u001b[0;31m         \u001b[0;32mreturn\u001b[0m \u001b[0mop\u001b[0m\u001b[0;34m.\u001b[0m\u001b[0mget_result\u001b[0m\u001b[0;34m(\u001b[0m\u001b[0;34m)\u001b[0m\u001b[0;34m\u001b[0m\u001b[0;34m\u001b[0m\u001b[0m\n\u001b[0m\u001b[1;32m   7766\u001b[0m \u001b[0;34m\u001b[0m\u001b[0m\n\u001b[1;32m   7767\u001b[0m     \u001b[0;32mdef\u001b[0m \u001b[0mapplymap\u001b[0m\u001b[0;34m(\u001b[0m\u001b[0mself\u001b[0m\u001b[0;34m,\u001b[0m \u001b[0mfunc\u001b[0m\u001b[0;34m,\u001b[0m \u001b[0mna_action\u001b[0m\u001b[0;34m:\u001b[0m \u001b[0mOptional\u001b[0m\u001b[0;34m[\u001b[0m\u001b[0mstr\u001b[0m\u001b[0;34m]\u001b[0m \u001b[0;34m=\u001b[0m \u001b[0;32mNone\u001b[0m\u001b[0;34m)\u001b[0m \u001b[0;34m->\u001b[0m \u001b[0mDataFrame\u001b[0m\u001b[0;34m:\u001b[0m\u001b[0;34m\u001b[0m\u001b[0;34m\u001b[0m\u001b[0m\n",
      "\u001b[0;32m~/anaconda3/envs/metis/lib/python3.8/site-packages/pandas/core/apply.py\u001b[0m in \u001b[0;36mget_result\u001b[0;34m(self)\u001b[0m\n\u001b[1;32m    183\u001b[0m             \u001b[0;32mreturn\u001b[0m \u001b[0mself\u001b[0m\u001b[0;34m.\u001b[0m\u001b[0mapply_raw\u001b[0m\u001b[0;34m(\u001b[0m\u001b[0;34m)\u001b[0m\u001b[0;34m\u001b[0m\u001b[0;34m\u001b[0m\u001b[0m\n\u001b[1;32m    184\u001b[0m \u001b[0;34m\u001b[0m\u001b[0m\n\u001b[0;32m--> 185\u001b[0;31m         \u001b[0;32mreturn\u001b[0m \u001b[0mself\u001b[0m\u001b[0;34m.\u001b[0m\u001b[0mapply_standard\u001b[0m\u001b[0;34m(\u001b[0m\u001b[0;34m)\u001b[0m\u001b[0;34m\u001b[0m\u001b[0;34m\u001b[0m\u001b[0m\n\u001b[0m\u001b[1;32m    186\u001b[0m \u001b[0;34m\u001b[0m\u001b[0m\n\u001b[1;32m    187\u001b[0m     \u001b[0;32mdef\u001b[0m \u001b[0mapply_empty_result\u001b[0m\u001b[0;34m(\u001b[0m\u001b[0mself\u001b[0m\u001b[0;34m)\u001b[0m\u001b[0;34m:\u001b[0m\u001b[0;34m\u001b[0m\u001b[0;34m\u001b[0m\u001b[0m\n",
      "\u001b[0;32m~/anaconda3/envs/metis/lib/python3.8/site-packages/pandas/core/apply.py\u001b[0m in \u001b[0;36mapply_standard\u001b[0;34m(self)\u001b[0m\n\u001b[1;32m    274\u001b[0m \u001b[0;34m\u001b[0m\u001b[0m\n\u001b[1;32m    275\u001b[0m     \u001b[0;32mdef\u001b[0m \u001b[0mapply_standard\u001b[0m\u001b[0;34m(\u001b[0m\u001b[0mself\u001b[0m\u001b[0;34m)\u001b[0m\u001b[0;34m:\u001b[0m\u001b[0;34m\u001b[0m\u001b[0;34m\u001b[0m\u001b[0m\n\u001b[0;32m--> 276\u001b[0;31m         \u001b[0mresults\u001b[0m\u001b[0;34m,\u001b[0m \u001b[0mres_index\u001b[0m \u001b[0;34m=\u001b[0m \u001b[0mself\u001b[0m\u001b[0;34m.\u001b[0m\u001b[0mapply_series_generator\u001b[0m\u001b[0;34m(\u001b[0m\u001b[0;34m)\u001b[0m\u001b[0;34m\u001b[0m\u001b[0;34m\u001b[0m\u001b[0m\n\u001b[0m\u001b[1;32m    277\u001b[0m \u001b[0;34m\u001b[0m\u001b[0m\n\u001b[1;32m    278\u001b[0m         \u001b[0;31m# wrap results\u001b[0m\u001b[0;34m\u001b[0m\u001b[0;34m\u001b[0m\u001b[0;34m\u001b[0m\u001b[0m\n",
      "\u001b[0;32m~/anaconda3/envs/metis/lib/python3.8/site-packages/pandas/core/apply.py\u001b[0m in \u001b[0;36mapply_series_generator\u001b[0;34m(self)\u001b[0m\n\u001b[1;32m    288\u001b[0m             \u001b[0;32mfor\u001b[0m \u001b[0mi\u001b[0m\u001b[0;34m,\u001b[0m \u001b[0mv\u001b[0m \u001b[0;32min\u001b[0m \u001b[0menumerate\u001b[0m\u001b[0;34m(\u001b[0m\u001b[0mseries_gen\u001b[0m\u001b[0;34m)\u001b[0m\u001b[0;34m:\u001b[0m\u001b[0;34m\u001b[0m\u001b[0;34m\u001b[0m\u001b[0m\n\u001b[1;32m    289\u001b[0m                 \u001b[0;31m# ignore SettingWithCopy here in case the user mutates\u001b[0m\u001b[0;34m\u001b[0m\u001b[0;34m\u001b[0m\u001b[0;34m\u001b[0m\u001b[0m\n\u001b[0;32m--> 290\u001b[0;31m                 \u001b[0mresults\u001b[0m\u001b[0;34m[\u001b[0m\u001b[0mi\u001b[0m\u001b[0;34m]\u001b[0m \u001b[0;34m=\u001b[0m \u001b[0mself\u001b[0m\u001b[0;34m.\u001b[0m\u001b[0mf\u001b[0m\u001b[0;34m(\u001b[0m\u001b[0mv\u001b[0m\u001b[0;34m)\u001b[0m\u001b[0;34m\u001b[0m\u001b[0;34m\u001b[0m\u001b[0m\n\u001b[0m\u001b[1;32m    291\u001b[0m                 \u001b[0;32mif\u001b[0m \u001b[0misinstance\u001b[0m\u001b[0;34m(\u001b[0m\u001b[0mresults\u001b[0m\u001b[0;34m[\u001b[0m\u001b[0mi\u001b[0m\u001b[0;34m]\u001b[0m\u001b[0;34m,\u001b[0m \u001b[0mABCSeries\u001b[0m\u001b[0;34m)\u001b[0m\u001b[0;34m:\u001b[0m\u001b[0;34m\u001b[0m\u001b[0;34m\u001b[0m\u001b[0m\n\u001b[1;32m    292\u001b[0m                     \u001b[0;31m# If we have a view on v, we need to make a copy because\u001b[0m\u001b[0;34m\u001b[0m\u001b[0;34m\u001b[0m\u001b[0;34m\u001b[0m\u001b[0m\n",
      "\u001b[0;32m~/metis/projects/hotel-revman-system/code/model_demand.py\u001b[0m in \u001b[0;36m<lambda>\u001b[0;34m(row)\u001b[0m\n\u001b[1;32m    210\u001b[0m \u001b[0;34m\u001b[0m\u001b[0m\n\u001b[1;32m    211\u001b[0m     df_sim[new_col_names] = df_sim.apply(\n\u001b[0;32m--> 212\u001b[0;31m         \u001b[0;32mlambda\u001b[0m \u001b[0mrow\u001b[0m\u001b[0;34m:\u001b[0m \u001b[0mapply_STLY_stats\u001b[0m\u001b[0;34m(\u001b[0m\u001b[0mrow\u001b[0m\u001b[0;34m)\u001b[0m\u001b[0;34m,\u001b[0m \u001b[0mresult_type\u001b[0m\u001b[0;34m=\u001b[0m\u001b[0;34m\"expand\"\u001b[0m\u001b[0;34m,\u001b[0m \u001b[0maxis\u001b[0m\u001b[0;34m=\u001b[0m\u001b[0;34m\"columns\"\u001b[0m\u001b[0;34m\u001b[0m\u001b[0;34m\u001b[0m\u001b[0m\n\u001b[0m\u001b[1;32m    213\u001b[0m     )\n\u001b[1;32m    214\u001b[0m \u001b[0;34m\u001b[0m\u001b[0m\n",
      "\u001b[0;32m~/metis/projects/hotel-revman-system/code/model_demand.py\u001b[0m in \u001b[0;36mapply_STLY_stats\u001b[0;34m(row)\u001b[0m\n\u001b[1;32m    199\u001b[0m         \u001b[0mdate_string\u001b[0m \u001b[0;34m=\u001b[0m \u001b[0mdatetime\u001b[0m\u001b[0;34m.\u001b[0m\u001b[0mdatetime\u001b[0m\u001b[0;34m.\u001b[0m\u001b[0mstrftime\u001b[0m\u001b[0;34m(\u001b[0m\u001b[0mrow\u001b[0m\u001b[0;34m[\u001b[0m\u001b[0;34m\"STLY_Date\"\u001b[0m\u001b[0;34m]\u001b[0m\u001b[0;34m,\u001b[0m \u001b[0mformat\u001b[0m\u001b[0;34m=\u001b[0m\u001b[0;34m\"%Y-%m-%d\"\u001b[0m\u001b[0;34m)\u001b[0m\u001b[0;34m\u001b[0m\u001b[0;34m\u001b[0m\u001b[0m\n\u001b[1;32m    200\u001b[0m         \u001b[0mstly_future_res\u001b[0m \u001b[0;34m=\u001b[0m \u001b[0mpredict_cancellations\u001b[0m\u001b[0;34m(\u001b[0m\u001b[0mdf_res\u001b[0m\u001b[0;34m,\u001b[0m \u001b[0mstly_date\u001b[0m\u001b[0;34m,\u001b[0m \u001b[0mhotel_num\u001b[0m\u001b[0;34m,\u001b[0m \u001b[0;32mFalse\u001b[0m\u001b[0;34m)\u001b[0m\u001b[0;34m\u001b[0m\u001b[0;34m\u001b[0m\u001b[0m\n\u001b[0;32m--> 201\u001b[0;31m         \u001b[0mstly_df_sim\u001b[0m \u001b[0;34m=\u001b[0m \u001b[0msetup_sim\u001b[0m\u001b[0;34m(\u001b[0m\u001b[0mstly_future_res\u001b[0m\u001b[0;34m,\u001b[0m \u001b[0mstly_date\u001b[0m\u001b[0;34m)\u001b[0m\u001b[0;34m\u001b[0m\u001b[0;34m\u001b[0m\u001b[0m\n\u001b[0m\u001b[1;32m    202\u001b[0m         \u001b[0mstly_df_sim\u001b[0m \u001b[0;34m=\u001b[0m \u001b[0madd_sim_cols\u001b[0m\u001b[0;34m(\u001b[0m\u001b[0mstly_df_sim\u001b[0m\u001b[0;34m,\u001b[0m \u001b[0mcapacity\u001b[0m\u001b[0;34m)\u001b[0m\u001b[0;34m\u001b[0m\u001b[0;34m\u001b[0m\u001b[0m\n\u001b[1;32m    203\u001b[0m         \u001b[0mstly_stats\u001b[0m \u001b[0;34m=\u001b[0m \u001b[0mlist\u001b[0m\u001b[0;34m(\u001b[0m\u001b[0mstly_df_sim\u001b[0m\u001b[0;34m.\u001b[0m\u001b[0mloc\u001b[0m\u001b[0;34m[\u001b[0m\u001b[0mdate_string\u001b[0m\u001b[0;34m,\u001b[0m \u001b[0mpull_cols\u001b[0m\u001b[0;34m]\u001b[0m\u001b[0;34m)\u001b[0m\u001b[0;34m\u001b[0m\u001b[0;34m\u001b[0m\u001b[0m\n",
      "\u001b[0;32m~/metis/projects/hotel-revman-system/code/model_demand.py\u001b[0m in \u001b[0;36msetup_sim\u001b[0;34m(df_future_res, as_of_date)\u001b[0m\n\u001b[1;32m     59\u001b[0m \u001b[0;34m\u001b[0m\u001b[0m\n\u001b[1;32m     60\u001b[0m             tmp = (\n\u001b[0;32m---> 61\u001b[0;31m                 \u001b[0mdf_dates\u001b[0m\u001b[0;34m[\u001b[0m\u001b[0mmask\u001b[0m\u001b[0;34m]\u001b[0m\u001b[0;34m[\u001b[0m\u001b[0;34m[\u001b[0m\u001b[0;34m\"ResNum\"\u001b[0m\u001b[0;34m,\u001b[0m \u001b[0;34m\"CustomerType\"\u001b[0m\u001b[0;34m,\u001b[0m \u001b[0;34m\"ADR\"\u001b[0m\u001b[0;34m,\u001b[0m \u001b[0;34m\"will_cancel\"\u001b[0m\u001b[0;34m]\u001b[0m\u001b[0;34m]\u001b[0m\u001b[0;34m\u001b[0m\u001b[0;34m\u001b[0m\u001b[0m\n\u001b[0m\u001b[1;32m     62\u001b[0m                 \u001b[0;34m.\u001b[0m\u001b[0mgroupby\u001b[0m\u001b[0;34m(\u001b[0m\u001b[0;34m\"CustomerType\"\u001b[0m\u001b[0;34m)\u001b[0m\u001b[0;34m\u001b[0m\u001b[0;34m\u001b[0m\u001b[0m\n\u001b[1;32m     63\u001b[0m                 \u001b[0;34m.\u001b[0m\u001b[0magg\u001b[0m\u001b[0;34m(\u001b[0m\u001b[0;34m{\u001b[0m\u001b[0;34m\"ResNum\"\u001b[0m\u001b[0;34m:\u001b[0m \u001b[0;34m\"count\"\u001b[0m\u001b[0;34m,\u001b[0m \u001b[0;34m\"ADR\"\u001b[0m\u001b[0;34m:\u001b[0m \u001b[0;34m\"sum\"\u001b[0m\u001b[0;34m,\u001b[0m \u001b[0;34m\"will_cancel\"\u001b[0m\u001b[0;34m:\u001b[0m \u001b[0;34m\"sum\"\u001b[0m\u001b[0;34m}\u001b[0m\u001b[0;34m)\u001b[0m\u001b[0;34m\u001b[0m\u001b[0;34m\u001b[0m\u001b[0m\n",
      "\u001b[0;32m~/anaconda3/envs/metis/lib/python3.8/site-packages/pandas/core/frame.py\u001b[0m in \u001b[0;36m__getitem__\u001b[0;34m(self, key)\u001b[0m\n\u001b[1;32m   3013\u001b[0m         \u001b[0;31m# Do we have a (boolean) 1d indexer?\u001b[0m\u001b[0;34m\u001b[0m\u001b[0;34m\u001b[0m\u001b[0;34m\u001b[0m\u001b[0m\n\u001b[1;32m   3014\u001b[0m         \u001b[0;32mif\u001b[0m \u001b[0mcom\u001b[0m\u001b[0;34m.\u001b[0m\u001b[0mis_bool_indexer\u001b[0m\u001b[0;34m(\u001b[0m\u001b[0mkey\u001b[0m\u001b[0;34m)\u001b[0m\u001b[0;34m:\u001b[0m\u001b[0;34m\u001b[0m\u001b[0;34m\u001b[0m\u001b[0m\n\u001b[0;32m-> 3015\u001b[0;31m             \u001b[0;32mreturn\u001b[0m \u001b[0mself\u001b[0m\u001b[0;34m.\u001b[0m\u001b[0m_getitem_bool_array\u001b[0m\u001b[0;34m(\u001b[0m\u001b[0mkey\u001b[0m\u001b[0;34m)\u001b[0m\u001b[0;34m\u001b[0m\u001b[0;34m\u001b[0m\u001b[0m\n\u001b[0m\u001b[1;32m   3016\u001b[0m \u001b[0;34m\u001b[0m\u001b[0m\n\u001b[1;32m   3017\u001b[0m         \u001b[0;31m# We are left with two options: a single key, and a collection of keys,\u001b[0m\u001b[0;34m\u001b[0m\u001b[0;34m\u001b[0m\u001b[0;34m\u001b[0m\u001b[0m\n",
      "\u001b[0;32m~/anaconda3/envs/metis/lib/python3.8/site-packages/pandas/core/frame.py\u001b[0m in \u001b[0;36m_getitem_bool_array\u001b[0;34m(self, key)\u001b[0m\n\u001b[1;32m   3066\u001b[0m         \u001b[0;31m# check_bool_indexer will throw exception if Series key cannot\u001b[0m\u001b[0;34m\u001b[0m\u001b[0;34m\u001b[0m\u001b[0;34m\u001b[0m\u001b[0m\n\u001b[1;32m   3067\u001b[0m         \u001b[0;31m# be reindexed to match DataFrame rows\u001b[0m\u001b[0;34m\u001b[0m\u001b[0;34m\u001b[0m\u001b[0;34m\u001b[0m\u001b[0m\n\u001b[0;32m-> 3068\u001b[0;31m         \u001b[0mkey\u001b[0m \u001b[0;34m=\u001b[0m \u001b[0mcheck_bool_indexer\u001b[0m\u001b[0;34m(\u001b[0m\u001b[0mself\u001b[0m\u001b[0;34m.\u001b[0m\u001b[0mindex\u001b[0m\u001b[0;34m,\u001b[0m \u001b[0mkey\u001b[0m\u001b[0;34m)\u001b[0m\u001b[0;34m\u001b[0m\u001b[0;34m\u001b[0m\u001b[0m\n\u001b[0m\u001b[1;32m   3069\u001b[0m         \u001b[0mindexer\u001b[0m \u001b[0;34m=\u001b[0m \u001b[0mkey\u001b[0m\u001b[0;34m.\u001b[0m\u001b[0mnonzero\u001b[0m\u001b[0;34m(\u001b[0m\u001b[0;34m)\u001b[0m\u001b[0;34m[\u001b[0m\u001b[0;36m0\u001b[0m\u001b[0;34m]\u001b[0m\u001b[0;34m\u001b[0m\u001b[0;34m\u001b[0m\u001b[0m\n\u001b[1;32m   3070\u001b[0m         \u001b[0;32mreturn\u001b[0m \u001b[0mself\u001b[0m\u001b[0;34m.\u001b[0m\u001b[0m_take_with_is_copy\u001b[0m\u001b[0;34m(\u001b[0m\u001b[0mindexer\u001b[0m\u001b[0;34m,\u001b[0m \u001b[0maxis\u001b[0m\u001b[0;34m=\u001b[0m\u001b[0;36m0\u001b[0m\u001b[0;34m)\u001b[0m\u001b[0;34m\u001b[0m\u001b[0;34m\u001b[0m\u001b[0m\n",
      "\u001b[0;32m~/anaconda3/envs/metis/lib/python3.8/site-packages/pandas/core/indexing.py\u001b[0m in \u001b[0;36mcheck_bool_indexer\u001b[0;34m(index, key)\u001b[0m\n\u001b[1;32m   2280\u001b[0m         \u001b[0;31m# key may contain nan elements, check_array_indexer needs bool array\u001b[0m\u001b[0;34m\u001b[0m\u001b[0;34m\u001b[0m\u001b[0;34m\u001b[0m\u001b[0m\n\u001b[1;32m   2281\u001b[0m         \u001b[0mresult\u001b[0m \u001b[0;34m=\u001b[0m \u001b[0mpd_array\u001b[0m\u001b[0;34m(\u001b[0m\u001b[0mresult\u001b[0m\u001b[0;34m,\u001b[0m \u001b[0mdtype\u001b[0m\u001b[0;34m=\u001b[0m\u001b[0mbool\u001b[0m\u001b[0;34m)\u001b[0m\u001b[0;34m\u001b[0m\u001b[0;34m\u001b[0m\u001b[0m\n\u001b[0;32m-> 2282\u001b[0;31m     \u001b[0;32mreturn\u001b[0m \u001b[0mcheck_array_indexer\u001b[0m\u001b[0;34m(\u001b[0m\u001b[0mindex\u001b[0m\u001b[0;34m,\u001b[0m \u001b[0mresult\u001b[0m\u001b[0;34m)\u001b[0m\u001b[0;34m\u001b[0m\u001b[0;34m\u001b[0m\u001b[0m\n\u001b[0m\u001b[1;32m   2283\u001b[0m \u001b[0;34m\u001b[0m\u001b[0m\n\u001b[1;32m   2284\u001b[0m \u001b[0;34m\u001b[0m\u001b[0m\n",
      "\u001b[0;32m~/anaconda3/envs/metis/lib/python3.8/site-packages/pandas/core/indexers.py\u001b[0m in \u001b[0;36mcheck_array_indexer\u001b[0;34m(array, indexer)\u001b[0m\n\u001b[1;32m    468\u001b[0m \u001b[0;34m\u001b[0m\u001b[0m\n\u001b[1;32m    469\u001b[0m     \u001b[0;31m# convert list-likes to array\u001b[0m\u001b[0;34m\u001b[0m\u001b[0;34m\u001b[0m\u001b[0;34m\u001b[0m\u001b[0m\n\u001b[0;32m--> 470\u001b[0;31m     \u001b[0;32mif\u001b[0m \u001b[0;32mnot\u001b[0m \u001b[0mis_array_like\u001b[0m\u001b[0;34m(\u001b[0m\u001b[0mindexer\u001b[0m\u001b[0;34m)\u001b[0m\u001b[0;34m:\u001b[0m\u001b[0;34m\u001b[0m\u001b[0;34m\u001b[0m\u001b[0m\n\u001b[0m\u001b[1;32m    471\u001b[0m         \u001b[0mindexer\u001b[0m \u001b[0;34m=\u001b[0m \u001b[0mpd_array\u001b[0m\u001b[0;34m(\u001b[0m\u001b[0mindexer\u001b[0m\u001b[0;34m)\u001b[0m\u001b[0;34m\u001b[0m\u001b[0;34m\u001b[0m\u001b[0m\n\u001b[1;32m    472\u001b[0m         \u001b[0;32mif\u001b[0m \u001b[0mlen\u001b[0m\u001b[0;34m(\u001b[0m\u001b[0mindexer\u001b[0m\u001b[0;34m)\u001b[0m \u001b[0;34m==\u001b[0m \u001b[0;36m0\u001b[0m\u001b[0;34m:\u001b[0m\u001b[0;34m\u001b[0m\u001b[0;34m\u001b[0m\u001b[0m\n",
      "\u001b[0;32m~/anaconda3/envs/metis/lib/python3.8/site-packages/pandas/core/dtypes/inference.py\u001b[0m in \u001b[0;36mis_array_like\u001b[0;34m(obj)\u001b[0m\n\u001b[1;32m    183\u001b[0m \u001b[0;34m\u001b[0m\u001b[0m\n\u001b[1;32m    184\u001b[0m \u001b[0;34m\u001b[0m\u001b[0m\n\u001b[0;32m--> 185\u001b[0;31m \u001b[0;32mdef\u001b[0m \u001b[0mis_array_like\u001b[0m\u001b[0;34m(\u001b[0m\u001b[0mobj\u001b[0m\u001b[0;34m)\u001b[0m \u001b[0;34m->\u001b[0m \u001b[0mbool\u001b[0m\u001b[0;34m:\u001b[0m\u001b[0;34m\u001b[0m\u001b[0;34m\u001b[0m\u001b[0m\n\u001b[0m\u001b[1;32m    186\u001b[0m     \"\"\"\n\u001b[1;32m    187\u001b[0m     \u001b[0mCheck\u001b[0m \u001b[0;32mif\u001b[0m \u001b[0mthe\u001b[0m \u001b[0mobject\u001b[0m \u001b[0;32mis\u001b[0m \u001b[0marray\u001b[0m\u001b[0;34m-\u001b[0m\u001b[0mlike\u001b[0m\u001b[0;34m.\u001b[0m\u001b[0;34m\u001b[0m\u001b[0;34m\u001b[0m\u001b[0m\n",
      "\u001b[0;31mKeyboardInterrupt\u001b[0m: "
     ]
    }
   ],
   "source": [
    "h2_sim = generate_simulation(h1_futures, h2_dbd, \"2017-08-01\", 2, h2_res)"
   ]
  },
  {
   "cell_type": "code",
   "execution_count": null,
   "id": "german-tiger",
   "metadata": {},
   "outputs": [],
   "source": [
    "list(h1_dbd.loc[\"2017-01-01\", [\"RoomsSold\", \"Occ\"]])"
   ]
  },
  {
   "cell_type": "code",
   "execution_count": null,
   "id": "meaningful-sleep",
   "metadata": {},
   "outputs": [],
   "source": [
    "def test(x=1, y=-2):\n",
    "    a = [x, y]\n",
    "    return tuple(a)\n",
    "\n",
    "n, m = test()\n",
    "n, m"
   ]
  },
  {
   "cell_type": "code",
   "execution_count": null,
   "id": "matched-headquarters",
   "metadata": {},
   "outputs": [],
   "source": []
  }
 ],
 "metadata": {
  "kernelspec": {
   "display_name": "Python 3",
   "language": "python",
   "name": "python3"
  },
  "language_info": {
   "codemirror_mode": {
    "name": "ipython",
    "version": 3
   },
   "file_extension": ".py",
   "mimetype": "text/x-python",
   "name": "python",
   "nbconvert_exporter": "python",
   "pygments_lexer": "ipython3",
   "version": "3.8.6"
  }
 },
 "nbformat": 4,
 "nbformat_minor": 5
}
